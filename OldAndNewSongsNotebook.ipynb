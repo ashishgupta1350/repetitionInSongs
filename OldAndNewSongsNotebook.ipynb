{
 "cells": [
  {
   "cell_type": "markdown",
   "metadata": {},
   "source": [
    "## AIM of this notebook\n",
    "\n",
    "> Take the old songs\n",
    "\n",
    "> Take the new songs\n",
    "\n",
    "> Merge\n",
    "\n",
    "> Apply all the techniques in the preprocessing and main code here\n",
    "\n",
    "> Remove stop words\n",
    "\n",
    "> Generate word cloud of songs<2005 and >2005 and save the image\n",
    "\n",
    "> Make a function to predict word popularity of the songs\n"
   ]
  },
  {
   "cell_type": "code",
   "execution_count": 1,
   "metadata": {},
   "outputs": [],
   "source": [
    "import pandas as pd\n",
    "import numpy as np"
   ]
  },
  {
   "cell_type": "code",
   "execution_count": 17,
   "metadata": {},
   "outputs": [],
   "source": [
    "data = pd.read_csv(\"moviesWithYears.csv\")\n",
    "data2 = pd.read_csv(\"data2_old_songs.csv\")"
   ]
  },
  {
   "cell_type": "code",
   "execution_count": 18,
   "metadata": {},
   "outputs": [
    {
     "data": {
      "text/html": [
       "<div>\n",
       "<style scoped>\n",
       "    .dataframe tbody tr th:only-of-type {\n",
       "        vertical-align: middle;\n",
       "    }\n",
       "\n",
       "    .dataframe tbody tr th {\n",
       "        vertical-align: top;\n",
       "    }\n",
       "\n",
       "    .dataframe thead th {\n",
       "        text-align: right;\n",
       "    }\n",
       "</style>\n",
       "<table border=\"1\" class=\"dataframe\">\n",
       "  <thead>\n",
       "    <tr style=\"text-align: right;\">\n",
       "      <th></th>\n",
       "      <th>movieName</th>\n",
       "      <th>songName</th>\n",
       "      <th>songSinger</th>\n",
       "      <th>songMusic</th>\n",
       "      <th>songLyricist</th>\n",
       "      <th>songLyrics</th>\n",
       "      <th>years</th>\n",
       "    </tr>\n",
       "  </thead>\n",
       "  <tbody>\n",
       "    <tr>\n",
       "      <td>0</td>\n",
       "      <td>Bala</td>\n",
       "      <td>Don’t Be Shy</td>\n",
       "      <td>Badshah, Shalmali Kholgade, Gurdeep Mehendi</td>\n",
       "      <td>Sachin-Jigar</td>\n",
       "      <td>Mellow D, Badshah</td>\n",
       "      <td>Sun, main hoon thoda sanki\\r\\nKarun mann ki\\r\\...</td>\n",
       "      <td>2019</td>\n",
       "    </tr>\n",
       "  </tbody>\n",
       "</table>\n",
       "</div>"
      ],
      "text/plain": [
       "  movieName      songName                                   songSinger  \\\n",
       "0      Bala  Don’t Be Shy  Badshah, Shalmali Kholgade, Gurdeep Mehendi   \n",
       "\n",
       "      songMusic       songLyricist  \\\n",
       "0  Sachin-Jigar  Mellow D, Badshah   \n",
       "\n",
       "                                          songLyrics  years  \n",
       "0  Sun, main hoon thoda sanki\\r\\nKarun mann ki\\r\\...   2019  "
      ]
     },
     "execution_count": 18,
     "metadata": {},
     "output_type": "execute_result"
    }
   ],
   "source": [
    "data.head(1)"
   ]
  },
  {
   "cell_type": "code",
   "execution_count": 19,
   "metadata": {},
   "outputs": [
    {
     "data": {
      "text/html": [
       "<div>\n",
       "<style scoped>\n",
       "    .dataframe tbody tr th:only-of-type {\n",
       "        vertical-align: middle;\n",
       "    }\n",
       "\n",
       "    .dataframe tbody tr th {\n",
       "        vertical-align: top;\n",
       "    }\n",
       "\n",
       "    .dataframe thead th {\n",
       "        text-align: right;\n",
       "    }\n",
       "</style>\n",
       "<table border=\"1\" class=\"dataframe\">\n",
       "  <thead>\n",
       "    <tr style=\"text-align: right;\">\n",
       "      <th></th>\n",
       "      <th>Unnamed: 0</th>\n",
       "      <th>movieName</th>\n",
       "      <th>movieYear</th>\n",
       "      <th>songName</th>\n",
       "      <th>songSinger</th>\n",
       "      <th>songMusic</th>\n",
       "      <th>songLyricist</th>\n",
       "      <th>songLyrics</th>\n",
       "    </tr>\n",
       "  </thead>\n",
       "  <tbody>\n",
       "    <tr>\n",
       "      <td>0</td>\n",
       "      <td>0</td>\n",
       "      <td>1920</td>\n",
       "      <td>2008</td>\n",
       "      <td>Tujhe Main Pyar Karu</td>\n",
       "      <td>Kailash Kher</td>\n",
       "      <td>Adnan Sami</td>\n",
       "      <td>Sameer</td>\n",
       "      <td>Tujhe main pyar karoon\\nAur itna pyar karoon\\n...</td>\n",
       "    </tr>\n",
       "  </tbody>\n",
       "</table>\n",
       "</div>"
      ],
      "text/plain": [
       "   Unnamed: 0 movieName  movieYear              songName    songSinger  \\\n",
       "0           0      1920       2008  Tujhe Main Pyar Karu  Kailash Kher   \n",
       "\n",
       "    songMusic songLyricist                                         songLyrics  \n",
       "0  Adnan Sami       Sameer  Tujhe main pyar karoon\\nAur itna pyar karoon\\n...  "
      ]
     },
     "execution_count": 19,
     "metadata": {},
     "output_type": "execute_result"
    }
   ],
   "source": [
    "data2.head(1)"
   ]
  },
  {
   "cell_type": "code",
   "execution_count": 20,
   "metadata": {},
   "outputs": [],
   "source": [
    "data2 = data2.drop(axis = 1, columns = [\"Unnamed: 0\"]).copy()"
   ]
  },
  {
   "cell_type": "code",
   "execution_count": 21,
   "metadata": {},
   "outputs": [
    {
     "data": {
      "text/html": [
       "<div>\n",
       "<style scoped>\n",
       "    .dataframe tbody tr th:only-of-type {\n",
       "        vertical-align: middle;\n",
       "    }\n",
       "\n",
       "    .dataframe tbody tr th {\n",
       "        vertical-align: top;\n",
       "    }\n",
       "\n",
       "    .dataframe thead th {\n",
       "        text-align: right;\n",
       "    }\n",
       "</style>\n",
       "<table border=\"1\" class=\"dataframe\">\n",
       "  <thead>\n",
       "    <tr style=\"text-align: right;\">\n",
       "      <th></th>\n",
       "      <th>movieName</th>\n",
       "      <th>movieYear</th>\n",
       "      <th>songName</th>\n",
       "      <th>songSinger</th>\n",
       "      <th>songMusic</th>\n",
       "      <th>songLyricist</th>\n",
       "      <th>songLyrics</th>\n",
       "    </tr>\n",
       "  </thead>\n",
       "  <tbody>\n",
       "    <tr>\n",
       "      <td>0</td>\n",
       "      <td>1920</td>\n",
       "      <td>2008</td>\n",
       "      <td>Tujhe Main Pyar Karu</td>\n",
       "      <td>Kailash Kher</td>\n",
       "      <td>Adnan Sami</td>\n",
       "      <td>Sameer</td>\n",
       "      <td>Tujhe main pyar karoon\\nAur itna pyar karoon\\n...</td>\n",
       "    </tr>\n",
       "  </tbody>\n",
       "</table>\n",
       "</div>"
      ],
      "text/plain": [
       "  movieName  movieYear              songName    songSinger   songMusic  \\\n",
       "0      1920       2008  Tujhe Main Pyar Karu  Kailash Kher  Adnan Sami   \n",
       "\n",
       "  songLyricist                                         songLyrics  \n",
       "0       Sameer  Tujhe main pyar karoon\\nAur itna pyar karoon\\n...  "
      ]
     },
     "execution_count": 21,
     "metadata": {},
     "output_type": "execute_result"
    }
   ],
   "source": [
    "data2.head(1)"
   ]
  },
  {
   "cell_type": "code",
   "execution_count": 22,
   "metadata": {},
   "outputs": [
    {
     "data": {
      "text/html": [
       "<div>\n",
       "<style scoped>\n",
       "    .dataframe tbody tr th:only-of-type {\n",
       "        vertical-align: middle;\n",
       "    }\n",
       "\n",
       "    .dataframe tbody tr th {\n",
       "        vertical-align: top;\n",
       "    }\n",
       "\n",
       "    .dataframe thead th {\n",
       "        text-align: right;\n",
       "    }\n",
       "</style>\n",
       "<table border=\"1\" class=\"dataframe\">\n",
       "  <thead>\n",
       "    <tr style=\"text-align: right;\">\n",
       "      <th></th>\n",
       "      <th>movieName</th>\n",
       "      <th>songName</th>\n",
       "      <th>songSinger</th>\n",
       "      <th>songMusic</th>\n",
       "      <th>songLyricist</th>\n",
       "      <th>songLyrics</th>\n",
       "      <th>years</th>\n",
       "    </tr>\n",
       "  </thead>\n",
       "  <tbody>\n",
       "    <tr>\n",
       "      <td>0</td>\n",
       "      <td>Bala</td>\n",
       "      <td>Don’t Be Shy</td>\n",
       "      <td>Badshah, Shalmali Kholgade, Gurdeep Mehendi</td>\n",
       "      <td>Sachin-Jigar</td>\n",
       "      <td>Mellow D, Badshah</td>\n",
       "      <td>Sun, main hoon thoda sanki\\r\\nKarun mann ki\\r\\...</td>\n",
       "      <td>2019</td>\n",
       "    </tr>\n",
       "  </tbody>\n",
       "</table>\n",
       "</div>"
      ],
      "text/plain": [
       "  movieName      songName                                   songSinger  \\\n",
       "0      Bala  Don’t Be Shy  Badshah, Shalmali Kholgade, Gurdeep Mehendi   \n",
       "\n",
       "      songMusic       songLyricist  \\\n",
       "0  Sachin-Jigar  Mellow D, Badshah   \n",
       "\n",
       "                                          songLyrics  years  \n",
       "0  Sun, main hoon thoda sanki\\r\\nKarun mann ki\\r\\...   2019  "
      ]
     },
     "execution_count": 22,
     "metadata": {},
     "output_type": "execute_result"
    }
   ],
   "source": [
    "data.head(1)"
   ]
  },
  {
   "cell_type": "code",
   "execution_count": 23,
   "metadata": {},
   "outputs": [],
   "source": []
  },
  {
   "cell_type": "code",
   "execution_count": 39,
   "metadata": {},
   "outputs": [],
   "source": [
    "mergeData = []\n",
    "\n",
    "for x in data.values:\n",
    "    movieName = x[0]\n",
    "    songName = x[1]\n",
    "    songSinger = x[2]\n",
    "    songMusic = x[3]\n",
    "    songLyricist = x[4]\n",
    "    songLyrics = x[5]\n",
    "    years = x[6]\n",
    "    mergeData.append([movieName,songName,songSinger,songMusic, songLyricist, songLyrics, years])\n",
    "    \n",
    "for x in data2.values:\n",
    "    movieName = x[0]\n",
    "    songName = x[2]\n",
    "    songSinger = x[3]\n",
    "    songMusic = x[4]\n",
    "    songLyricist = x[5]\n",
    "    songLyrics = x[6]\n",
    "    years = x[1]\n",
    "    mergeData.append([movieName,songName,songSinger,songMusic, songLyricist, songLyrics, years])\n",
    "    \n",
    "columns = [\"movieName\",\"songName\",\"songSinger\",\"songMusic\", \"songLyricist\", \"songLyrics\", \"years\"]\n",
    "\n"
   ]
  },
  {
   "cell_type": "code",
   "execution_count": 45,
   "metadata": {},
   "outputs": [],
   "source": [
    "mergeDataFrame = pd.DataFrame(mergeData, columns = columns)\n",
    "\n",
    "mergeDataFrame.to_csv(\"mergedData.csv\", index = False, columns = columns, header = True)"
   ]
  },
  {
   "cell_type": "code",
   "execution_count": 44,
   "metadata": {},
   "outputs": [
    {
     "data": {
      "text/plain": [
       "{0,\n",
       " 1938,\n",
       " 1948,\n",
       " 1949,\n",
       " 1951,\n",
       " 1952,\n",
       " 1953,\n",
       " 1954,\n",
       " 1955,\n",
       " 1956,\n",
       " 1957,\n",
       " 1958,\n",
       " 1959,\n",
       " 1960,\n",
       " 1961,\n",
       " 1962,\n",
       " 1963,\n",
       " 1964,\n",
       " 1965,\n",
       " 1966,\n",
       " 1967,\n",
       " 1968,\n",
       " 1969,\n",
       " 1970,\n",
       " 1971,\n",
       " 1972,\n",
       " 1973,\n",
       " 1974,\n",
       " 1975,\n",
       " 1976,\n",
       " 1977,\n",
       " 1978,\n",
       " 1979,\n",
       " 1980,\n",
       " 1981,\n",
       " 1982,\n",
       " 1983,\n",
       " 1984,\n",
       " 1985,\n",
       " 1986,\n",
       " 1987,\n",
       " 1988,\n",
       " 1989,\n",
       " 1990,\n",
       " 1991,\n",
       " 1992,\n",
       " 1993,\n",
       " 1994,\n",
       " 1995,\n",
       " 1996,\n",
       " 1997,\n",
       " 1998,\n",
       " 1999,\n",
       " 2000,\n",
       " 2001,\n",
       " 2002,\n",
       " 2003,\n",
       " 2004,\n",
       " 2005,\n",
       " 2006,\n",
       " 2007,\n",
       " 2008,\n",
       " 2009,\n",
       " 2010,\n",
       " 2011,\n",
       " 2012,\n",
       " 2013,\n",
       " 2014,\n",
       " 2015,\n",
       " 2016,\n",
       " 2017,\n",
       " 2018,\n",
       " 2019}"
      ]
     },
     "execution_count": 44,
     "metadata": {},
     "output_type": "execute_result"
    }
   ],
   "source": [
    "set(list(mergeDataFrame.years))"
   ]
  },
  {
   "cell_type": "code",
   "execution_count": null,
   "metadata": {},
   "outputs": [],
   "source": []
  }
 ],
 "metadata": {
  "kernelspec": {
   "display_name": "Python 3",
   "language": "python",
   "name": "python3"
  },
  "language_info": {
   "codemirror_mode": {
    "name": "ipython",
    "version": 3
   },
   "file_extension": ".py",
   "mimetype": "text/x-python",
   "name": "python",
   "nbconvert_exporter": "python",
   "pygments_lexer": "ipython3",
   "version": "3.7.4"
  }
 },
 "nbformat": 4,
 "nbformat_minor": 2
}
