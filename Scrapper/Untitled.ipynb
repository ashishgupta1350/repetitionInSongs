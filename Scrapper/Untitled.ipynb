{
 "cells": [
  {
   "cell_type": "code",
   "execution_count": 1,
   "metadata": {},
   "outputs": [
    {
     "name": "stderr",
     "output_type": "stream",
     "text": [
      "100%|██████████████████████████████████████████████████████████████████████████████████| 50/50 [04:35<00:00,  8.98s/it]\n"
     ]
    },
    {
     "name": "stdout",
     "output_type": "stream",
     "text": [
      "Page  13 Completed\n"
     ]
    },
    {
     "name": "stderr",
     "output_type": "stream",
     "text": [
      "100%|██████████████████████████████████████████████████████████████████████████████████| 50/50 [13:09<00:00, 13.03s/it]\n"
     ]
    },
    {
     "name": "stdout",
     "output_type": "stream",
     "text": [
      "Page  14 Completed\n"
     ]
    },
    {
     "name": "stderr",
     "output_type": "stream",
     "text": [
      "100%|██████████████████████████████████████████████████████████████████████████████████| 50/50 [03:58<00:00,  4.49s/it]\n"
     ]
    },
    {
     "name": "stdout",
     "output_type": "stream",
     "text": [
      "Page  15 Completed\n"
     ]
    },
    {
     "name": "stderr",
     "output_type": "stream",
     "text": [
      "100%|██████████████████████████████████████████████████████████████████████████████████| 50/50 [02:31<00:00,  3.75s/it]\n"
     ]
    },
    {
     "name": "stdout",
     "output_type": "stream",
     "text": [
      "Page  16 Completed\n"
     ]
    }
   ],
   "source": [
    "from bs4 import BeautifulSoup\n",
    "import requests\n",
    "import csv\n",
    "from tqdm import tqdm\n",
    "\n",
    "lyricsname = 'data'\n",
    "lyrics_writer = csv.writer(open(lyricsname, 'w'))\n",
    "\n",
    "logsname = 'log'\n",
    "logs_writer = csv.writer(open(logsname, 'w'))\n",
    "\n",
    "pages = 16\n",
    "for page in range(13, pages+1):\n",
    "    pageLink = 'https://www.lyricsmint.com/albums?page='+str(page)\n",
    "\n",
    "    # Request to access the page\n",
    "    try:\n",
    "        source = requests.get(pageLink, timeout=60).text\n",
    "        soup = BeautifulSoup(source, 'lxml')\n",
    "\n",
    "    except:\n",
    "        log = [\"page\", page, pageLink]\n",
    "        logs_writer.writerow(log)\n",
    "        continue\n",
    "        \n",
    "  \t\n",
    "    for movie in tqdm(soup.find_all('a', class_='h-auto w-full block text-black bg-white no-underline mt-1')):\n",
    "\t    movieName = movie.h3.text\n",
    "\t    movieLink = 'https://www.lyricsmint.com' + movie['href']\n",
    "\t    \n",
    "\t    # Request to acces the movie\n",
    "\t    try:\n",
    "\t        movieSource = requests.get(movieLink, timeout=60).text\n",
    "\t        movieSoup = BeautifulSoup(movieSource, 'lxml')\n",
    "\n",
    "\t    except:\n",
    "\t        log = [\"movie\", movieName, movieLink]\n",
    "\t        logs_writer.writerow(log)\n",
    "\t        continue\n",
    "\t        \n",
    "\t\n",
    "\t    for song in movieSoup.find_all('a', class_='h-auto w-full block text-black no-underline'):\n",
    "\t        \n",
    "\t        songName = song.h3.text\n",
    "\t        songLink = 'https://www.lyricsmint.com' + song['href']\n",
    "\t        metadata = song.find_all('span', class_='block mt-1 w-full')\n",
    "\n",
    "\t        try:\n",
    "\t            songSinger = metadata[0].text.split(':')[1].split('\\n')[1]\n",
    "\t        except:\n",
    "\t            songSinger = \"\"\n",
    "\t        try:\n",
    "\t            songMusic = metadata[1].text.split(':')[1].split('\\n')[1]\n",
    "\t        except:\n",
    "\t            songMusic = \"\"\n",
    "\t        try:\n",
    "\t            songLyricist = metadata[2].text.split(':')[1].split('\\n')[1]\n",
    "\t        except:\n",
    "\t            songLyricist = \"\"\n",
    "\t        \n",
    "\t        # Request to access the song\n",
    "\t        try:\n",
    "\t        \tsongSource = requests.get(songLink, timeout=60).text\n",
    "\t        \tsongSoup = BeautifulSoup(songSource, 'lxml')\n",
    "\n",
    "\t        \tenglishDiv = songSoup.find('div', class_='text-base lg:text-lg pb-2')\n",
    "\n",
    "\t        \tsongLyrics = \"\"\n",
    "\t        \tfor br in englishDiv.find_all('br'):\n",
    "\t        \t\tif str(br.previous_sibling) == r'<br/>':\n",
    "\t        \t\t\tsongLyrics += '\\n'\n",
    "\t        \t\telse:\n",
    "\t        \t\t\tsongLyrics += str(br.previous_sibling) + '\\n'\n",
    "\t        \tsongLyrics += str(br.next_sibling)\n",
    "\n",
    "\t        \tdata = [movieName, songName, songSinger, songMusic, songLyricist, songLyrics]\n",
    "\n",
    "\t        \tlyrics_writer.writerow(data)\n",
    "\n",
    "\t        except:\n",
    "\t            log = [\"song\", songName, songLink]\n",
    "\t            logs_writer.writerow(log)\n",
    "\t            continue\t       \t\n",
    "\n",
    "    print(\"Page \", page, \"Completed\")"
   ]
  },
  {
   "cell_type": "code",
   "execution_count": null,
   "metadata": {},
   "outputs": [],
   "source": []
  }
 ],
 "metadata": {
  "kernelspec": {
   "display_name": "Python 3",
   "language": "python",
   "name": "python3"
  },
  "language_info": {
   "codemirror_mode": {
    "name": "ipython",
    "version": 3
   },
   "file_extension": ".py",
   "mimetype": "text/x-python",
   "name": "python",
   "nbconvert_exporter": "python",
   "pygments_lexer": "ipython3",
   "version": "3.7.3"
  }
 },
 "nbformat": 4,
 "nbformat_minor": 2
}
