{
 "cells": [
  {
   "cell_type": "code",
   "execution_count": 1,
   "metadata": {},
   "outputs": [],
   "source": [
    "import pandas as pd\n",
    "import numpy as np\n"
   ]
  },
  {
   "cell_type": "code",
   "execution_count": 2,
   "metadata": {},
   "outputs": [],
   "source": [
    "df = pd.read_csv(\"mergedData.csv\")"
   ]
  },
  {
   "cell_type": "code",
   "execution_count": 3,
   "metadata": {},
   "outputs": [
    {
     "data": {
      "text/html": [
       "<div>\n",
       "<style scoped>\n",
       "    .dataframe tbody tr th:only-of-type {\n",
       "        vertical-align: middle;\n",
       "    }\n",
       "\n",
       "    .dataframe tbody tr th {\n",
       "        vertical-align: top;\n",
       "    }\n",
       "\n",
       "    .dataframe thead th {\n",
       "        text-align: right;\n",
       "    }\n",
       "</style>\n",
       "<table border=\"1\" class=\"dataframe\">\n",
       "  <thead>\n",
       "    <tr style=\"text-align: right;\">\n",
       "      <th></th>\n",
       "      <th>years</th>\n",
       "    </tr>\n",
       "  </thead>\n",
       "  <tbody>\n",
       "    <tr>\n",
       "      <td>count</td>\n",
       "      <td>4385.00000</td>\n",
       "    </tr>\n",
       "    <tr>\n",
       "      <td>mean</td>\n",
       "      <td>2009.03626</td>\n",
       "    </tr>\n",
       "    <tr>\n",
       "      <td>std</td>\n",
       "      <td>32.88715</td>\n",
       "    </tr>\n",
       "    <tr>\n",
       "      <td>min</td>\n",
       "      <td>0.00000</td>\n",
       "    </tr>\n",
       "    <tr>\n",
       "      <td>25%</td>\n",
       "      <td>2011.00000</td>\n",
       "    </tr>\n",
       "    <tr>\n",
       "      <td>50%</td>\n",
       "      <td>2013.00000</td>\n",
       "    </tr>\n",
       "    <tr>\n",
       "      <td>75%</td>\n",
       "      <td>2016.00000</td>\n",
       "    </tr>\n",
       "    <tr>\n",
       "      <td>max</td>\n",
       "      <td>2019.00000</td>\n",
       "    </tr>\n",
       "  </tbody>\n",
       "</table>\n",
       "</div>"
      ],
      "text/plain": [
       "            years\n",
       "count  4385.00000\n",
       "mean   2009.03626\n",
       "std      32.88715\n",
       "min       0.00000\n",
       "25%    2011.00000\n",
       "50%    2013.00000\n",
       "75%    2016.00000\n",
       "max    2019.00000"
      ]
     },
     "execution_count": 3,
     "metadata": {},
     "output_type": "execute_result"
    }
   ],
   "source": [
    "df.describe()"
   ]
  },
  {
   "cell_type": "code",
   "execution_count": 4,
   "metadata": {},
   "outputs": [
    {
     "data": {
      "text/html": [
       "<div>\n",
       "<style scoped>\n",
       "    .dataframe tbody tr th:only-of-type {\n",
       "        vertical-align: middle;\n",
       "    }\n",
       "\n",
       "    .dataframe tbody tr th {\n",
       "        vertical-align: top;\n",
       "    }\n",
       "\n",
       "    .dataframe thead th {\n",
       "        text-align: right;\n",
       "    }\n",
       "</style>\n",
       "<table border=\"1\" class=\"dataframe\">\n",
       "  <thead>\n",
       "    <tr style=\"text-align: right;\">\n",
       "      <th></th>\n",
       "      <th>movieName</th>\n",
       "      <th>songName</th>\n",
       "      <th>songSinger</th>\n",
       "      <th>songMusic</th>\n",
       "      <th>songLyricist</th>\n",
       "      <th>songLyrics</th>\n",
       "      <th>years</th>\n",
       "    </tr>\n",
       "  </thead>\n",
       "  <tbody>\n",
       "    <tr>\n",
       "      <td>0</td>\n",
       "      <td>Bala</td>\n",
       "      <td>Don’t Be Shy</td>\n",
       "      <td>Badshah, Shalmali Kholgade, Gurdeep Mehendi</td>\n",
       "      <td>Sachin-Jigar</td>\n",
       "      <td>Mellow D, Badshah</td>\n",
       "      <td>Sun, main hoon thoda sanki\\r\\nKarun mann ki\\r\\...</td>\n",
       "      <td>2019</td>\n",
       "    </tr>\n",
       "    <tr>\n",
       "      <td>1</td>\n",
       "      <td>Laal Kaptaan</td>\n",
       "      <td>Lahu Ka Rang Kara</td>\n",
       "      <td>Samira Koppikar</td>\n",
       "      <td>Samira Koppikar</td>\n",
       "      <td>Sahib</td>\n",
       "      <td>Morey.. lahu ka rang kara\\r\\nMorey lahu ka ran...</td>\n",
       "      <td>2019</td>\n",
       "    </tr>\n",
       "    <tr>\n",
       "      <td>2</td>\n",
       "      <td>Laal Kaptaan</td>\n",
       "      <td>Red Red Najariya</td>\n",
       "      <td>Shreya Ghoshal</td>\n",
       "      <td>Samira Koppikar</td>\n",
       "      <td>Saurabh Jain</td>\n",
       "      <td>Badnaam shehar, badnaam gully\\r\\nIsme har raat...</td>\n",
       "      <td>2019</td>\n",
       "    </tr>\n",
       "    <tr>\n",
       "      <td>3</td>\n",
       "      <td>Laal Kaptaan</td>\n",
       "      <td>Kaal Kaal</td>\n",
       "      <td>Brijesh Shandilya, Dino James</td>\n",
       "      <td>Samira Koppikar</td>\n",
       "      <td>Saurabh Jain</td>\n",
       "      <td>Kaal kaal, kaal kaal, jo sapaat chal raha\\r\\nW...</td>\n",
       "      <td>2019</td>\n",
       "    </tr>\n",
       "    <tr>\n",
       "      <td>4</td>\n",
       "      <td>Laal Kaptaan</td>\n",
       "      <td>Taandav</td>\n",
       "      <td>Kailash Kher, Brijesh Shandilya</td>\n",
       "      <td>Samira Koppikar</td>\n",
       "      <td>Puneet Sharma</td>\n",
       "      <td>Shor hai andher mein\\r\\nJo dher murda pedon ka...</td>\n",
       "      <td>2019</td>\n",
       "    </tr>\n",
       "  </tbody>\n",
       "</table>\n",
       "</div>"
      ],
      "text/plain": [
       "      movieName           songName  \\\n",
       "0          Bala       Don’t Be Shy   \n",
       "1  Laal Kaptaan  Lahu Ka Rang Kara   \n",
       "2  Laal Kaptaan   Red Red Najariya   \n",
       "3  Laal Kaptaan          Kaal Kaal   \n",
       "4  Laal Kaptaan            Taandav   \n",
       "\n",
       "                                    songSinger        songMusic  \\\n",
       "0  Badshah, Shalmali Kholgade, Gurdeep Mehendi     Sachin-Jigar   \n",
       "1                              Samira Koppikar  Samira Koppikar   \n",
       "2                               Shreya Ghoshal  Samira Koppikar   \n",
       "3                Brijesh Shandilya, Dino James  Samira Koppikar   \n",
       "4              Kailash Kher, Brijesh Shandilya  Samira Koppikar   \n",
       "\n",
       "        songLyricist                                         songLyrics  years  \n",
       "0  Mellow D, Badshah  Sun, main hoon thoda sanki\\r\\nKarun mann ki\\r\\...   2019  \n",
       "1              Sahib  Morey.. lahu ka rang kara\\r\\nMorey lahu ka ran...   2019  \n",
       "2       Saurabh Jain  Badnaam shehar, badnaam gully\\r\\nIsme har raat...   2019  \n",
       "3       Saurabh Jain  Kaal kaal, kaal kaal, jo sapaat chal raha\\r\\nW...   2019  \n",
       "4      Puneet Sharma  Shor hai andher mein\\r\\nJo dher murda pedon ka...   2019  "
      ]
     },
     "execution_count": 4,
     "metadata": {},
     "output_type": "execute_result"
    }
   ],
   "source": [
    "df.head()"
   ]
  },
  {
   "cell_type": "code",
   "execution_count": 5,
   "metadata": {},
   "outputs": [],
   "source": [
    "import re\n",
    "\n",
    "dataset = ''\n",
    "countOfWords = 0\n",
    "uniqueWords = {}\n",
    "for song in list(df.songLyrics):\n",
    "    listOfWords = re.split(r'[;,\\s...\\n()\\'!?.]\\s*',song) # gets me a list of words\n",
    "    for word in listOfWords:\n",
    "#         if word ==  '' || word=='(' || word==')' || word =='\\'':\n",
    "#             pass\n",
    "#         else:\n",
    "        word = word.lower()\n",
    "        if word == 'x2':\n",
    "            continue\n",
    "        if word == 'x4':\n",
    "            continue\n",
    "        dataset+=' '+word\n",
    "        countOfWords+=1\n",
    "        uniqueWords[word] = 1\n",
    "\n",
    "    "
   ]
  },
  {
   "cell_type": "code",
   "execution_count": 60,
   "metadata": {},
   "outputs": [
    {
     "name": "stdout",
     "output_type": "stream",
     "text": [
      " -> \n",
      " -> \n",
      "\n",
      "saanu -> sa\n",
      "\n",
      "kare -> kar\n",
      "\n",
      "ishaare -> ishaar\n",
      "ishaare doesnot exist\n",
      "\n",
      "touch -> touch\n",
      "touch -> touch\n",
      "\n",
      "my -> my\n",
      "my -> my\n",
      "\n",
      "don -> do\n",
      "\n",
      "t -> t\n",
      "t -> t\n",
      "\n",
      "be -> be\n",
      "be -> be\n",
      "\n",
      "shy -> sh\n",
      "\n",
      "honey -> ho\n",
      "\n",
      "fly -> fl\n",
      "fly doesnot exist\n",
      "\n",
      "befikar -> befikar\n",
      "befikar -> befikar\n",
      "\n",
      "kuch -> kuch\n",
      "kuch -> kuch\n",
      "\n",
      "bole -> bol\n",
      "\n",
      "bina -> bi\n",
      "\n",
      "aankhon -> aankh\n",
      "\n",
      "se -> se\n",
      "se -> se\n",
      "\n",
      "shaitani -> shait\n",
      "shaitani doesnot exist\n",
      "\n",
      "jaan -> ja\n",
      "\n",
      "bujhke -> bujhk\n",
      "bujhke doesnot exist\n",
      "\n",
      "mere -> mer\n",
      "\n",
      "saath -> saath\n",
      "saath -> saath\n",
      "\n",
      "tujhko -> tujhk\n",
      "tujhko doesnot exist\n",
      "\n",
      "dekhe -> dekh\n",
      "\n",
      "mera -> mer\n",
      "\n",
      "ab -> ab\n",
      "ab -> ab\n",
      "\n",
      "kahin -> kah\n",
      "\n",
      "lage -> la\n",
      "\n",
      "husn -> hus\n",
      "husn doesnot exist\n",
      "\n",
      "pe -> pe\n",
      "pe -> pe\n",
      "\n",
      "aankhein -> aankh\n",
      "\n",
      "sek -> sek\n",
      "sek -> sek\n",
      "\n",
      "kar -> kar\n",
      "kar -> kar\n",
      "\n",
      "thake -> thak\n",
      "\n",
      "upar -> upar\n",
      "upar -> upar\n",
      "\n",
      "raat -> raat\n",
      "raat -> raat\n",
      "\n",
      "hoti -> hot\n",
      "\n",
      "ja -> ja\n",
      "ja -> ja\n",
      "\n",
      "rahi -> rah\n",
      "\n",
      "naughty -> naught\n",
      "naughty doesnot exist\n",
      "\n",
      "morey -> mor\n",
      "morey -> mor\n",
      "\n",
      "lahu -> lah\n",
      "\n",
      "ka -> ka\n",
      "ka -> ka\n",
      "\n",
      "rang -> ra\n",
      "\n",
      "kara -> kar\n",
      "\n",
      "kaare -> kaar\n",
      "\n",
      "badarwa -> badarw\n",
      "badarwa doesnot exist\n",
      "\n",
      "manwa -> manw\n",
      "manwa doesnot exist\n",
      "\n",
      "ghoome -> ghoom\n",
      "ghoome -> ghoom\n",
      "\n",
      "bhujanga -> bhuj\n",
      "\n",
      "sapno -> sap\n",
      "sapno doesnot exist\n",
      "\n",
      "jhoome -> jhoom\n",
      "jhoome -> jhoom\n",
      "\n",
      "ghole -> ghol\n",
      "\n",
      "zehar -> zehar\n",
      "zehar -> zehar\n",
      "\n",
      "dhaara -> dhaar\n",
      "dhaara -> dhaar\n",
      "\n",
      "kaara -> kaar\n",
      "kaara -> kaar\n",
      "\n",
      "katit -> katit\n",
      "katit -> katit\n",
      "\n",
      "kaadank -> kaadank\n",
      "kaadank -> kaadank\n",
      "\n",
      "kapat -> kapat\n",
      "kapat -> kapat\n",
      "\n",
      "kalank -> kalank\n",
      "kalank -> kalank\n",
      "\n",
      "maathe -> maath\n",
      "maathe doesnot exist\n",
      "\n",
      "mandha -> mandh\n",
      "mandha doesnot exist\n",
      "\n",
      "koi -> ko\n",
      "\n",
      "shraap -> shraap\n",
      "shraap -> shraap\n",
      "\n",
      "jeevan -> jeev\n",
      "\n",
      "raja -> raj\n",
      "\n",
      "ya -> ya\n",
      "ya -> ya\n",
      "\n",
      "rank -> rank\n",
      "rank -> rank\n",
      "\n",
      "kabila -> kabil\n",
      "\n",
      "jhund -> jhund\n",
      "jhund -> jhund\n",
      "\n",
      "har -> har\n",
      "har -> har\n",
      "\n",
      "praan -> pr\n",
      "praan doesnot exist\n",
      "\n",
      "lakshya -> laksh\n",
      "\n",
      "maran -> mar\n",
      "\n",
      "jeetna -> jeet\n",
      "jeetna -> jeet\n",
      "\n",
      "jo -> jo\n",
      "jo -> jo\n",
      "\n",
      "rann -> ra\n",
      "\n",
      "bairi -> bair\n",
      "\n",
      "daman -> dam\n",
      "\n",
      "warna -> war\n",
      "\n",
      "mile -> mil\n",
      "mile -> mil\n",
      "\n",
      "chhutkaara -> chhutkaar\n",
      "chhutkaara doesnot exist\n",
      "\n",
      "aa -> aa\n",
      "aa -> aa\n",
      "\n",
      "badnaam -> badnaam\n",
      "badnaam -> badnaam\n",
      "\n",
      "shehar -> shehar\n",
      "shehar -> shehar\n",
      "\n",
      "gully -> gull\n",
      "\n",
      "isme -> ism\n",
      "isme doesnot exist\n",
      "\n",
      "dhoop -> dhoop\n",
      "dhoop -> dhoop\n",
      "\n",
      "khili -> khil\n",
      "khili -> khil\n",
      "\n",
      "dhali -> dhal\n",
      "\n",
      "khoob -> khoob\n",
      "khoob -> khoob\n",
      "\n",
      "chali -> chal\n",
      "\n",
      "red -> red\n",
      "red -> red\n",
      "\n",
      "najariya -> najar\n",
      "\n",
      "arey -> ar\n",
      "\n",
      "bada -> bad\n",
      "\n",
      "jaalim -> jaalim\n",
      "jaalim -> jaalim\n",
      "\n",
      "kaptaan -> kapt\n",
      "kaptaan doesnot exist\n",
      "\n",
      "re -> re\n",
      "re -> re\n",
      "\n",
      "jalim -> jalim\n",
      "jalim -> jalim\n",
      "\n",
      "ghaav -> ghaav\n",
      "ghaav -> ghaav\n",
      "\n",
      "deve -> dev\n",
      "deve -> dev\n",
      "\n",
      "karajwa -> karajw\n",
      "karajwa doesnot exist\n",
      "\n",
      "par -> par\n",
      "par -> par\n",
      "\n",
      "dhyaan -> dh\n",
      "dhyaan -> dh\n",
      "\n",
      "haan -> ha\n",
      "\n",
      "bahut -> bahut\n",
      "bahut -> bahut\n",
      "\n",
      "aate -> aat\n",
      "aate doesnot exist\n",
      "\n",
      "hain -> ha\n",
      "\n",
      "iss -> iss\n",
      "iss -> iss\n",
      "\n",
      "jungle -> jungl\n",
      "jungle doesnot exist\n",
      "\n",
      "aisa -> ais\n",
      "aisa doesnot exist\n",
      "\n",
      "aave -> aav\n",
      "aave doesnot exist\n",
      "\n",
      "sigdi -> sigd\n",
      "sigdi doesnot exist\n",
      "\n",
      "maddham -> maddham\n",
      "maddham -> maddham\n",
      "\n",
      "si -> si\n",
      "si -> si\n",
      "\n",
      "haaye -> ha\n",
      "\n",
      "aag -> aa\n",
      "\n",
      "jalaave -> jalaav\n",
      "jalaave doesnot exist\n",
      "\n",
      "do -> do\n",
      "do -> do\n",
      "\n",
      "pal -> pal\n",
      "pal -> pal\n",
      "\n",
      "ko -> ko\n",
      "ko -> ko\n",
      "\n",
      "nain -> na\n",
      "\n",
      "milave -> milav\n",
      "milave doesnot exist\n",
      "\n",
      "toh -> toh\n",
      "toh -> toh\n",
      "\n",
      "sab -> sab\n",
      "sab -> sab\n",
      "\n",
      "kurbaan -> kurb\n",
      "kurbaan doesnot exist\n",
      "\n",
      "kaal -> kaal\n",
      "kaal -> kaal\n",
      "\n",
      "sapaat -> sapaat\n",
      "sapaat -> sapaat\n",
      "\n",
      "chal -> chal\n",
      "chal -> chal\n",
      "\n",
      "raha -> rah\n",
      "\n",
      "wo -> wo\n",
      "wo -> wo\n",
      "\n",
      "gol -> gol\n",
      "gol -> gol\n",
      "\n",
      "duniya -> du\n",
      "\n",
      "sadiyon -> sad\n",
      "\n",
      "woh -> woh\n",
      "woh -> woh\n",
      "\n",
      "ek -> ek\n",
      "ek -> ek\n",
      "\n",
      "mashaal -> mashaal\n",
      "mashaal -> mashaal\n",
      "\n",
      "aadmi -> aadm\n",
      "aadmi doesnot exist\n",
      "\n",
      "bandar -> bandar\n",
      "bandar -> bandar\n",
      "\n",
      "sa -> sa\n",
      "sa -> sa\n",
      "\n",
      "banke -> bank\n",
      "\n",
      "sikandar -> sikandar\n",
      "sikandar -> sikandar\n",
      "\n",
      "neetiyon -> neet\n",
      "neetiyon doesnot exist\n",
      "\n",
      "dambh -> dambh\n",
      "dambh -> dambh\n",
      "\n",
      "roz -> roz\n",
      "roz -> roz\n",
      "\n",
      "bharta -> bhart\n",
      "bharta doesnot exist\n",
      "\n",
      "peedhi -> peedh\n",
      "\n",
      "umra -> umr\n",
      "umra -> umr\n",
      "\n",
      "seedhi -> seedh\n",
      "seedhi doesnot exist\n",
      "\n",
      "chadhta -> chadht\n",
      "chadhta doesnot exist\n",
      "\n",
      "phisalta -> phisalt\n",
      "phisalta doesnot exist\n",
      "\n",
      "aham -> aham\n",
      "aham -> aham\n",
      "\n",
      "jeeta -> jeet\n",
      "\n",
      "kis -> kis\n",
      "kis -> kis\n",
      "\n",
      "vaham -> vaham\n",
      "vaham -> vaham\n",
      "\n",
      "rakt -> rakt\n",
      "rakt -> rakt\n",
      "\n",
      "kyun -> ky\n",
      "kyun doesnot exist\n",
      "\n",
      "uske -> usk\n",
      "uske doesnot exist\n",
      "\n",
      "ubaal -> ubaal\n",
      "ubaal -> ubaal\n",
      "\n",
      "khatm -> khatm\n",
      "khatm -> khatm\n",
      "\n",
      "teri -> ter\n",
      "\n",
      "laalsa -> laals\n",
      "laalsa doesnot exist\n",
      "\n",
      "jaane -> ja\n",
      "\n",
      "samay -> sam\n",
      "samay -> sam\n",
      "\n",
      "bhale -> bhal\n",
      "\n",
      "taalta -> taalt\n",
      "taalta doesnot exist\n",
      "\n",
      "karega -> kar\n",
      "\n",
      "kya -> ky\n",
      "kya doesnot exist\n",
      "\n",
      "murjhati -> murjhat\n",
      "murjhati doesnot exist\n",
      "\n",
      "khaal -> khaal\n",
      "khaal -> khaal\n",
      "\n",
      "bas -> bas\n",
      "bas -> bas\n",
      "\n",
      "khel -> khel\n",
      "khel -> khel\n",
      "\n",
      "saaya -> sa\n",
      "saaya -> sa\n",
      "\n",
      "saare -> saar\n",
      "\n",
      "bramhaand -> bramhaand\n",
      "bramhaand -> bramhaand\n",
      "\n",
      "teer -> teer\n",
      "teer -> teer\n",
      "\n",
      "vinash -> vinash\n",
      "vinash -> vinash\n",
      "\n",
      "kamaan -> kam\n",
      "\n",
      "deta -> det\n",
      "deta doesnot exist\n",
      "\n",
      "bhar -> bhar\n",
      "bhar -> bhar\n",
      "\n",
      "saansein -> saans\n",
      "saansein -> saans\n",
      "\n",
      "pratyaksh -> pratyaksh\n",
      "pratyaksh -> pratyaksh\n",
      "\n",
      "khada -> khad\n",
      "khada -> khad\n",
      "\n",
      "pramaan -> pram\n",
      "pramaan doesnot exist\n",
      "\n",
      "ajar -> ajar\n",
      "ajar -> ajar\n",
      "\n",
      "amar -> amar\n",
      "amar -> amar\n",
      "\n",
      "anaadi -> anaad\n",
      "anaadi doesnot exist\n",
      "\n",
      "ant -> ant\n",
      "ant -> ant\n",
      "\n",
      "granth -> granth\n",
      "granth -> granth\n",
      "\n",
      "dharm -> dharm\n",
      "dharm -> dharm\n",
      "\n",
      "uska -> usk\n",
      "uska doesnot exist\n",
      "\n",
      "shadyantra -> shadyantr\n",
      "shadyantra doesnot exist\n",
      "\n",
      "gada -> gad\n",
      "\n",
      "chaatiyon -> chaat\n",
      "chaatiyon -> chaat\n",
      "\n",
      "shool -> shool\n",
      "shool -> shool\n",
      "\n",
      "usko -> usk\n",
      "usko doesnot exist\n",
      "\n",
      "bhoolna -> bhool\n",
      "\n",
      "bhool -> bhool\n",
      "bhool -> bhool\n",
      "\n",
      "isi -> is\n",
      "\n",
      "ke -> ke\n",
      "ke -> ke\n",
      "\n",
      "maare -> maar\n",
      "maare -> maar\n",
      "\n",
      "haare -> haar\n",
      "\n",
      "isko -> isk\n",
      "isko doesnot exist\n",
      "\n",
      "jeet -> jeet\n",
      "jeet -> jeet\n",
      "\n",
      "le -> le\n",
      "le -> le\n",
      "\n",
      "mahakaal -> mahakaal\n",
      "mahakaal -> mahakaal\n",
      "\n",
      "shor -> shor\n",
      "shor -> shor\n",
      "\n",
      "andher -> andher\n",
      "andher -> andher\n",
      "\n",
      "dher -> dher\n",
      "dher -> dher\n",
      "\n",
      "murda -> murd\n",
      "murda doesnot exist\n",
      "\n",
      "pedon -> ped\n",
      "\n",
      "sulag -> sul\n",
      "sulag doesnot exist\n",
      "\n",
      "gaya -> ga\n",
      "\n",
      "jhulas -> jhulas\n",
      "jhulas -> jhulas\n",
      "\n",
      "lo -> lo\n",
      "lo -> lo\n",
      "\n",
      "jwala -> jwal\n",
      "jwala doesnot exist\n",
      "\n",
      "kaath -> kaath\n",
      "kaath -> kaath\n",
      "\n",
      "pher -> pher\n",
      "pher -> pher\n",
      "\n",
      "jeev -> jeev\n",
      "jeev -> jeev\n",
      "\n",
      "janm -> janm\n",
      "janm -> janm\n",
      "\n",
      "jal -> jal\n",
      "jal -> jal\n",
      "\n",
      "dhuaan -> dh\n",
      "dhuaan -> dh\n",
      "\n",
      "hua -> hu\n",
      "\n",
      "swaha -> swah\n",
      "swaha doesnot exist\n",
      "\n",
      "raakh -> raakh\n",
      "raakh -> raakh\n",
      "\n",
      "damruon -> damr\n",
      "damruon doesnot exist\n",
      "\n",
      "damdamata -> damdamat\n",
      "damdamata doesnot exist\n",
      "\n",
      "krodh -> krodh\n",
      "krodh -> krodh\n",
      "\n",
      "naache -> naach\n",
      "naache -> naach\n",
      "\n",
      "krudh -> krudh\n",
      "krudh -> krudh\n",
      "\n",
      "mastakon -> mastak\n",
      "mastakon -> mastak\n",
      "\n",
      "maaya -> ma\n",
      "maaya -> ma\n",
      "\n",
      "chat -> chat\n",
      "chat -> chat\n",
      "\n",
      "chatakati -> chatakat\n",
      "chatakati doesnot exist\n",
      "\n",
      "khat -> khat\n",
      "khat -> khat\n",
      "\n",
      "khatakati -> khatakat\n",
      "khatakati doesnot exist\n",
      "\n",
      "bhat -> bhat\n",
      "bhat -> bhat\n",
      "\n",
      "bhatakati -> bhatakat\n",
      "bhatakati doesnot exist\n",
      "\n",
      "naachti -> naacht\n",
      "naachti doesnot exist\n",
      "\n",
      "chhatiyon -> chhat\n",
      "chhatiyon -> chhat\n",
      "\n",
      "traahi -> traah\n",
      "traahi doesnot exist\n",
      "\n",
      "dhan-dhankati -> dhan-dhankat\n",
      "dhan-dhankati doesnot exist\n",
      "\n",
      "jhan-jhanakati -> jhan-jhanakat\n",
      "jhan-jhanakati doesnot exist\n",
      "\n",
      "sulagati -> sulagat\n",
      "sulagati doesnot exist\n",
      "\n",
      "traasdi -> traasd\n",
      "traasdi doesnot exist\n",
      "\n",
      "yojnaayein -> yoj\n",
      "yojnaayein doesnot exist\n",
      "\n",
      "yam -> yam\n",
      "yam -> yam\n",
      "\n",
      "banata -> banat\n",
      "banata doesnot exist\n",
      "\n"
     ]
    },
    {
     "name": "stderr",
     "output_type": "stream",
     "text": [
      "C:\\ProgramData\\Anaconda3\\lib\\site-packages\\ipykernel_launcher.py:12: DeprecationWarning: Call to deprecated `similarity` (Method will be removed in 4.0.0, use self.wv.similarity() instead).\n",
      "  if sys.path[0] == '':\n"
     ]
    }
   ],
   "source": [
    "# dataset[:1000]\n",
    "import re\n",
    "uniqueWords.keys()\n",
    "ourWords = list(uniqueWords.keys())[50:300]\n",
    "def stemmer(word):\n",
    "    return re.sub(r'(.{2,}?)([aeiougyn]+$)',r'\\1', word)\n",
    "\n",
    "for word in ourWords:\n",
    "    print(word + \" -> \" + stemmer(word))\n",
    "    \n",
    "    try:\n",
    "        if model2.similarity(word, stemmer(word))> 0.4:\n",
    "           print(word + \" -> \" + stemmer(word))\n",
    "    except:\n",
    "        print(word + \" doesnot exist\")\n",
    "    print()\n",
    "    "
   ]
  },
  {
   "cell_type": "code",
   "execution_count": 98,
   "metadata": {},
   "outputs": [
    {
     "name": "stderr",
     "output_type": "stream",
     "text": [
      "C:\\ProgramData\\Anaconda3\\lib\\site-packages\\ipykernel_launcher.py:1: DeprecationWarning: Call to deprecated `similarity` (Method will be removed in 4.0.0, use self.wv.similarity() instead).\n",
      "  \"\"\"Entry point for launching an IPython kernel.\n"
     ]
    },
    {
     "data": {
      "text/plain": [
       "0.76966006"
      ]
     },
     "execution_count": 98,
     "metadata": {},
     "output_type": "execute_result"
    }
   ],
   "source": [
    "model3.similarity(\"hamari\", \"gulabi\")"
   ]
  },
  {
   "cell_type": "code",
   "execution_count": 7,
   "metadata": {},
   "outputs": [
    {
     "data": {
      "text/plain": [
       "870630"
      ]
     },
     "execution_count": 7,
     "metadata": {},
     "output_type": "execute_result"
    }
   ],
   "source": [
    "countOfWords"
   ]
  },
  {
   "cell_type": "code",
   "execution_count": 8,
   "metadata": {},
   "outputs": [
    {
     "data": {
      "text/plain": [
       "40866"
      ]
     },
     "execution_count": 8,
     "metadata": {},
     "output_type": "execute_result"
    }
   ],
   "source": [
    "len(uniqueWords.keys())"
   ]
  },
  {
   "cell_type": "code",
   "execution_count": 9,
   "metadata": {},
   "outputs": [],
   "source": [
    "import os\n",
    "import nltk\n",
    "import gensim\n",
    "from gensim import corpora, models, similarities"
   ]
  },
  {
   "cell_type": "code",
   "execution_count": 10,
   "metadata": {},
   "outputs": [],
   "source": [
    "listDataset = list(dataset)"
   ]
  },
  {
   "cell_type": "code",
   "execution_count": 11,
   "metadata": {},
   "outputs": [],
   "source": [
    "model = gensim.models.Word2Vec(dataset, min_count = 1, size = 32)\n"
   ]
  },
  {
   "cell_type": "code",
   "execution_count": 12,
   "metadata": {},
   "outputs": [],
   "source": [
    "from gensim.test.utils import common_texts"
   ]
  },
  {
   "cell_type": "code",
   "execution_count": 13,
   "metadata": {},
   "outputs": [
    {
     "data": {
      "text/plain": [
       "[['human', 'interface', 'computer'],\n",
       " ['survey', 'user', 'computer', 'system', 'response', 'time'],\n",
       " ['eps', 'user', 'interface', 'system'],\n",
       " ['system', 'human', 'system', 'eps'],\n",
       " ['user', 'response', 'time'],\n",
       " ['trees'],\n",
       " ['graph', 'trees'],\n",
       " ['graph', 'minors', 'trees'],\n",
       " ['graph', 'minors', 'survey']]"
      ]
     },
     "execution_count": 13,
     "metadata": {},
     "output_type": "execute_result"
    }
   ],
   "source": [
    "common_texts"
   ]
  },
  {
   "cell_type": "code",
   "execution_count": 14,
   "metadata": {},
   "outputs": [],
   "source": [
    "import re\n",
    "\n",
    "dataset_gensim = []\n",
    "countOfWords = 0\n",
    "uniqueWords = {}\n",
    "for song in list(df.songLyrics):\n",
    "    listOfWords = re.split(r'[;,\\s...\\n()\\'!?.]\\s*',song) # gets me a list of words\n",
    "    wordList = []\n",
    "    for word in listOfWords:\n",
    "#         if word ==  '' || word=='(' || word==')' || word =='\\'':\n",
    "#             pass\n",
    "#         else:\n",
    "        word = word.lower()\n",
    "        if word == 'x2':\n",
    "            continue\n",
    "        if word == 'x4':\n",
    "            continue\n",
    "        wordList.append(word)\n",
    "        countOfWords+=1\n",
    "        uniqueWords[word] = 1\n",
    "    dataset_gensim.append(wordList)\n"
   ]
  },
  {
   "cell_type": "code",
   "execution_count": 15,
   "metadata": {},
   "outputs": [],
   "source": [
    "model = gensim.models.Word2Vec(dataset_gensim, min_count = 1, size = 64)\n"
   ]
  },
  {
   "cell_type": "code",
   "execution_count": 16,
   "metadata": {},
   "outputs": [
    {
     "name": "stderr",
     "output_type": "stream",
     "text": [
      "C:\\ProgramData\\Anaconda3\\lib\\site-packages\\ipykernel_launcher.py:1: DeprecationWarning: Call to deprecated `most_similar` (Method will be removed in 4.0.0, use self.wv.most_similar() instead).\n",
      "  \"\"\"Entry point for launching an IPython kernel.\n"
     ]
    },
    {
     "data": {
      "text/plain": [
       "[('gulaam', 0.9697713851928711),\n",
       " ('ladkiyan', 0.9584342241287231),\n",
       " ('baaju', 0.9548777341842651),\n",
       " ('chattanein', 0.953153133392334),\n",
       " ('sansad', 0.9525404572486877),\n",
       " ('finger', 0.9524704813957214),\n",
       " ('teacher', 0.952271580696106),\n",
       " ('pret', 0.9521769285202026),\n",
       " ('laathi', 0.9515256285667419),\n",
       " ('daam', 0.9511280059814453)]"
      ]
     },
     "execution_count": 16,
     "metadata": {},
     "output_type": "execute_result"
    }
   ],
   "source": [
    "model.most_similar(\"papa\")"
   ]
  },
  {
   "cell_type": "code",
   "execution_count": 17,
   "metadata": {},
   "outputs": [],
   "source": [
    "model2 = gensim.models.Word2Vec(dataset_gensim, size=100, window=50, min_count=1)\n"
   ]
  },
  {
   "cell_type": "code",
   "execution_count": 18,
   "metadata": {},
   "outputs": [
    {
     "name": "stderr",
     "output_type": "stream",
     "text": [
      "C:\\ProgramData\\Anaconda3\\lib\\site-packages\\ipykernel_launcher.py:1: DeprecationWarning: Call to deprecated `most_similar` (Method will be removed in 4.0.0, use self.wv.most_similar() instead).\n",
      "  \"\"\"Entry point for launching an IPython kernel.\n"
     ]
    },
    {
     "data": {
      "text/plain": [
       "[('bhadki', 0.7233946323394775),\n",
       " ('saawla', 0.7230868339538574),\n",
       " ('ladka', 0.716086745262146),\n",
       " ('[girl', 0.7137094140052795),\n",
       " ('tikhi', 0.7067829370498657),\n",
       " ('uski', 0.7066665291786194),\n",
       " ('machli', 0.7042667865753174),\n",
       " ('udati', 0.6925135850906372),\n",
       " ('karti', 0.6748461723327637),\n",
       " ('chullu', 0.6731670498847961)]"
      ]
     },
     "execution_count": 18,
     "metadata": {},
     "output_type": "execute_result"
    }
   ],
   "source": [
    "model2.most_similar(\"ladki\")\n",
    "\n"
   ]
  },
  {
   "cell_type": "code",
   "execution_count": 19,
   "metadata": {},
   "outputs": [
    {
     "name": "stderr",
     "output_type": "stream",
     "text": [
      "C:\\ProgramData\\Anaconda3\\lib\\site-packages\\ipykernel_launcher.py:1: DeprecationWarning: Call to deprecated `most_similar` (Method will be removed in 4.0.0, use self.wv.most_similar() instead).\n",
      "  \"\"\"Entry point for launching an IPython kernel.\n"
     ]
    },
    {
     "data": {
      "text/plain": [
       "[('baap', 0.796230673789978),\n",
       " ('“idiot', 0.7879302501678467),\n",
       " ('padegi', 0.7730216383934021),\n",
       " ('creature', 0.7717546224594116),\n",
       " ('ladkiyon', 0.7593106031417847),\n",
       " ('problem', 0.759286105632782),\n",
       " ('original', 0.7547092437744141),\n",
       " ('teekhe-teekhe', 0.7509799003601074),\n",
       " ('geedhad', 0.7436126470565796),\n",
       " ('paisa', 0.7415608167648315)]"
      ]
     },
     "execution_count": 19,
     "metadata": {},
     "output_type": "execute_result"
    }
   ],
   "source": [
    "model2.most_similar(\"papa\")"
   ]
  },
  {
   "cell_type": "code",
   "execution_count": 20,
   "metadata": {},
   "outputs": [],
   "source": [
    "model3 = gensim.models.FastText(size=4, window=10, min_count=1, sentences=dataset_gensim, iter=10)"
   ]
  },
  {
   "cell_type": "code",
   "execution_count": 75,
   "metadata": {},
   "outputs": [
    {
     "name": "stderr",
     "output_type": "stream",
     "text": [
      "C:\\ProgramData\\Anaconda3\\lib\\site-packages\\ipykernel_launcher.py:1: DeprecationWarning: Call to deprecated `most_similar` (Method will be removed in 4.0.0, use self.wv.most_similar() instead).\n",
      "  \"\"\"Entry point for launching an IPython kernel.\n"
     ]
    },
    {
     "data": {
      "text/plain": [
       "[('isi', 0.9993933439254761),\n",
       " ('ron', 0.999066174030304),\n",
       " ('haimagar', 0.9990160465240479),\n",
       " ('kyaalon', 0.9990032911300659),\n",
       " ('tumhari', 0.9986619353294373),\n",
       " ('halatein', 0.9985182881355286),\n",
       " ('hami', 0.9981158971786499),\n",
       " ('haihar', 0.998086154460907),\n",
       " ('subaho', 0.9976809620857239),\n",
       " ('aapko', 0.9976397752761841)]"
      ]
     },
     "execution_count": 75,
     "metadata": {},
     "output_type": "execute_result"
    }
   ],
   "source": [
    "model3.most_similar(\"tum\")"
   ]
  },
  {
   "cell_type": "code",
   "execution_count": 47,
   "metadata": {},
   "outputs": [
    {
     "data": {
      "text/plain": [
       "78"
      ]
     },
     "execution_count": 47,
     "metadata": {},
     "output_type": "execute_result"
    }
   ],
   "source": [
    "# model4 = gensim.models.wrappers.Wordrank.train(dataset_gensim, corpus_file='text8', out_name='wr_model') \n",
    "import random\n",
    "random.randint(1, 100)"
   ]
  },
  {
   "cell_type": "markdown",
   "metadata": {},
   "source": [
    "## Interpretting style of the songs"
   ]
  },
  {
   "cell_type": "code",
   "execution_count": 48,
   "metadata": {},
   "outputs": [],
   "source": [
    "try:\n",
    "    import zopfli\n",
    "except:\n",
    "    !pip install zopfli\n",
    "from zopfli.zlib import compress\n",
    "from zlib import decompress\n",
    "import sys\n",
    "import os\n",
    "import pandas as pd\n",
    "import seaborn as sns\n",
    "import numpy as np\n",
    "import re\n"
   ]
  },
  {
   "cell_type": "code",
   "execution_count": 49,
   "metadata": {},
   "outputs": [],
   "source": [
    "def getCompressionFromSong(song):\n",
    "    compress_size = sys.getsizeof(compress(song))\n",
    "    uncomressed_song_size = sys.getsizeof(song.encode())\n",
    "    compression = (100-(compress_size/uncomressed_song_size)*100)\n",
    "    return compression\n"
   ]
  },
  {
   "cell_type": "code",
   "execution_count": 50,
   "metadata": {},
   "outputs": [
    {
     "ename": "KeyboardInterrupt",
     "evalue": "",
     "output_type": "error",
     "traceback": [
      "\u001b[1;31m---------------------------------------------------------------------------\u001b[0m",
      "\u001b[1;31mKeyboardInterrupt\u001b[0m                         Traceback (most recent call last)",
      "\u001b[1;32m<ipython-input-50-d40d4bfd8839>\u001b[0m in \u001b[0;36m<module>\u001b[1;34m\u001b[0m\n\u001b[0;32m     21\u001b[0m         \u001b[0mprocessedSong\u001b[0m\u001b[1;33m+=\u001b[0m\u001b[0mword\u001b[0m\u001b[1;33m\u001b[0m\u001b[1;33m\u001b[0m\u001b[0m\n\u001b[0;32m     22\u001b[0m \u001b[1;33m\u001b[0m\u001b[0m\n\u001b[1;32m---> 23\u001b[1;33m     \u001b[0mcompressions\u001b[0m\u001b[1;33m.\u001b[0m\u001b[0mappend\u001b[0m\u001b[1;33m(\u001b[0m\u001b[0mgetCompressionFromSong\u001b[0m\u001b[1;33m(\u001b[0m\u001b[0mprocessedSong\u001b[0m\u001b[1;33m)\u001b[0m\u001b[1;33m)\u001b[0m\u001b[1;33m\u001b[0m\u001b[1;33m\u001b[0m\u001b[0m\n\u001b[0m\u001b[0;32m     24\u001b[0m \u001b[1;31m#     songs.append(song)\u001b[0m\u001b[1;33m\u001b[0m\u001b[1;33m\u001b[0m\u001b[1;33m\u001b[0m\u001b[0m\n\u001b[0;32m     25\u001b[0m \u001b[1;33m\u001b[0m\u001b[0m\n",
      "\u001b[1;32m<ipython-input-49-39331289dfb5>\u001b[0m in \u001b[0;36mgetCompressionFromSong\u001b[1;34m(song)\u001b[0m\n\u001b[0;32m      1\u001b[0m \u001b[1;32mdef\u001b[0m \u001b[0mgetCompressionFromSong\u001b[0m\u001b[1;33m(\u001b[0m\u001b[0msong\u001b[0m\u001b[1;33m)\u001b[0m\u001b[1;33m:\u001b[0m\u001b[1;33m\u001b[0m\u001b[1;33m\u001b[0m\u001b[0m\n\u001b[1;32m----> 2\u001b[1;33m     \u001b[0mcompress_size\u001b[0m \u001b[1;33m=\u001b[0m \u001b[0msys\u001b[0m\u001b[1;33m.\u001b[0m\u001b[0mgetsizeof\u001b[0m\u001b[1;33m(\u001b[0m\u001b[0mcompress\u001b[0m\u001b[1;33m(\u001b[0m\u001b[0msong\u001b[0m\u001b[1;33m)\u001b[0m\u001b[1;33m)\u001b[0m\u001b[1;33m\u001b[0m\u001b[1;33m\u001b[0m\u001b[0m\n\u001b[0m\u001b[0;32m      3\u001b[0m     \u001b[0muncomressed_song_size\u001b[0m \u001b[1;33m=\u001b[0m \u001b[0msys\u001b[0m\u001b[1;33m.\u001b[0m\u001b[0mgetsizeof\u001b[0m\u001b[1;33m(\u001b[0m\u001b[0msong\u001b[0m\u001b[1;33m.\u001b[0m\u001b[0mencode\u001b[0m\u001b[1;33m(\u001b[0m\u001b[1;33m)\u001b[0m\u001b[1;33m)\u001b[0m\u001b[1;33m\u001b[0m\u001b[1;33m\u001b[0m\u001b[0m\n\u001b[0;32m      4\u001b[0m     \u001b[0mcompression\u001b[0m \u001b[1;33m=\u001b[0m \u001b[1;33m(\u001b[0m\u001b[1;36m100\u001b[0m\u001b[1;33m-\u001b[0m\u001b[1;33m(\u001b[0m\u001b[0mcompress_size\u001b[0m\u001b[1;33m/\u001b[0m\u001b[0muncomressed_song_size\u001b[0m\u001b[1;33m)\u001b[0m\u001b[1;33m*\u001b[0m\u001b[1;36m100\u001b[0m\u001b[1;33m)\u001b[0m\u001b[1;33m\u001b[0m\u001b[1;33m\u001b[0m\u001b[0m\n\u001b[0;32m      5\u001b[0m     \u001b[1;32mreturn\u001b[0m \u001b[0mcompression\u001b[0m\u001b[1;33m\u001b[0m\u001b[1;33m\u001b[0m\u001b[0m\n",
      "\u001b[1;32mC:\\ProgramData\\Anaconda3\\lib\\site-packages\\zopfli\\zlib.py\u001b[0m in \u001b[0;36mcompress\u001b[1;34m(data, **kwargs)\u001b[0m\n\u001b[0;32m     12\u001b[0m     \"\"\"\n\u001b[0;32m     13\u001b[0m     \u001b[0mkwargs\u001b[0m\u001b[1;33m[\u001b[0m\u001b[1;34m'gzip_mode'\u001b[0m\u001b[1;33m]\u001b[0m \u001b[1;33m=\u001b[0m \u001b[1;36m0\u001b[0m\u001b[1;33m\u001b[0m\u001b[1;33m\u001b[0m\u001b[0m\n\u001b[1;32m---> 14\u001b[1;33m     \u001b[1;32mreturn\u001b[0m \u001b[0mzopfli\u001b[0m\u001b[1;33m.\u001b[0m\u001b[0mzopfli\u001b[0m\u001b[1;33m.\u001b[0m\u001b[0mcompress\u001b[0m\u001b[1;33m(\u001b[0m\u001b[0mdata\u001b[0m\u001b[1;33m,\u001b[0m \u001b[1;33m**\u001b[0m\u001b[0mkwargs\u001b[0m\u001b[1;33m)\u001b[0m\u001b[1;33m\u001b[0m\u001b[1;33m\u001b[0m\u001b[0m\n\u001b[0m",
      "\u001b[1;31mKeyboardInterrupt\u001b[0m: "
     ]
    }
   ],
   "source": [
    "compressions = []\n",
    "songs = []\n",
    "\n",
    "breaker = 0\n",
    "for song in list(df.songLyrics):\n",
    "    breaker+=1\n",
    "    if breaker == 4000:\n",
    "        break\n",
    "        \n",
    "    listOfWords = re.split(r'[;,\\s...\\n()\\'!?.]\\s*',song) # gets me a list of words\n",
    "    processedSong = ''\n",
    "    for word in listOfWords:\n",
    "#         if word ==  '' || word=='(' || word==')' || word =='\\'':\n",
    "#             pass\n",
    "#         else:\n",
    "        word = word.lower()\n",
    "        if word == 'x2':\n",
    "            continue\n",
    "        if word == 'x4':\n",
    "            continue\n",
    "        processedSong+=word\n",
    "    \n",
    "    compressions.append(getCompressionFromSong(processedSong))\n",
    "#     songs.append(song)\n",
    "    "
   ]
  },
  {
   "cell_type": "code",
   "execution_count": null,
   "metadata": {},
   "outputs": [],
   "source": [
    "songs = list(df.songName)[:4000]\n",
    "# compressions = compressions\n",
    "\n",
    "# sns.barplot(songs, np.array(compressions))"
   ]
  },
  {
   "cell_type": "code",
   "execution_count": 27,
   "metadata": {},
   "outputs": [
    {
     "data": {
      "text/plain": [
       "3999"
      ]
     },
     "execution_count": 27,
     "metadata": {},
     "output_type": "execute_result"
    }
   ],
   "source": [
    "import numpy as np\n",
    "from scipy.stats import norm\n",
    "import matplotlib.pyplot as plt\n",
    "\n",
    "\n",
    "# Generate some data for this demonstration.\n",
    "len(compressions)"
   ]
  },
  {
   "cell_type": "code",
   "execution_count": 28,
   "metadata": {},
   "outputs": [
    {
     "data": {
      "image/png": "[encoded data removed]",
      "text/plain": [
       "<Figure size 432x288 with 1 Axes>"
      ]
     },
     "metadata": {
      "needs_background": "light"
     },
     "output_type": "display_data"
    }
   ],
   "source": [
    "import numpy as np\n",
    "from scipy.stats import norm\n",
    "import matplotlib.pyplot as plt\n",
    "\n",
    "\n",
    "# Generate some data for this demonstration.\n",
    "# data = norm.rvs(100.0, 25, size=500)\n",
    "data= compressions\n",
    "\n",
    "# Fit a normal distribution to the data:\n",
    "mu, std = norm.fit(data)\n",
    "\n",
    "# Plot the histogram.\n",
    "plt.hist(data, bins=25, density=True, alpha=0.6, color='g')\n",
    "\n",
    "# Plot the PDF.\n",
    "xmin, xmax = plt.xlim()\n",
    "x = np.linspace(xmin, xmax, 100)\n",
    "p = norm.pdf(x, mu, std)\n",
    "plt.plot(x, p, 'k', linewidth=2)\n",
    "plt.xlabel(\"Compression\")\n",
    "plt.ylabel(\"Normalized Count\")\n",
    "title = \"Fit results: mu = %.2f,  std = %.2f and numSongs = %0.0f\" % (mu, std, len(compressions) + 301)\n",
    "plt.title(title)\n",
    "plt.show()"
   ]
  },
  {
   "cell_type": "markdown",
   "metadata": {},
   "source": [
    ">Above represents chart showing distribution of compressions on 4300 songs in the dataset"
   ]
  },
  {
   "cell_type": "markdown",
   "metadata": {},
   "source": [
    "## Analysing Compresion in 100 songs"
   ]
  },
  {
   "cell_type": "code",
   "execution_count": 29,
   "metadata": {},
   "outputs": [],
   "source": [
    "# def songPreprocessing(song):\n",
    "#     listOfWords = re.split(r'[;,\\s...\\n()\\'!?.]\\s*',song)\n",
    "#     processedSong = ''\n",
    "#     for word in listOfWords:\n",
    "#         word = word.lower()\n",
    "#         if word == 'x2':\n",
    "#             continue\n",
    "#         if word == 'x4':\n",
    "#             continue\n",
    "#         processedSong+=' '+word\n",
    "#     return processedSong\n",
    "    \n",
    "# compressions = []\n",
    "# songs = []\n",
    "# breakAt = 5000\n",
    "# breaker = 0\n",
    "# for song in list(df.songLyrics):\n",
    "#     if breaker == breakAt:\n",
    "#         break\n",
    "#     breaker+=1\n",
    "#     listOfWords = re.split(r'[;,\\s...\\n()\\'!?.]\\s*',song) # gets me a list of words\n",
    "#     processedSong = ''\n",
    "#     for word in listOfWords:\n",
    "# #         if word ==  '' || word=='(' || word==')' || word =='\\'':\n",
    "# #             pass\n",
    "# #         else:\n",
    "#         word = word.lower()\n",
    "#         if word == 'x2':\n",
    "#             continue\n",
    "#         if word == 'x4':\n",
    "#             continue\n",
    "#         processedSong+=word\n",
    "    \n",
    "#     compressions.append(getCompressionFromSong(processedSong))\n",
    "# #     songs.append(song)\n",
    "# songs = list(df.songName)[:breakAt]\n",
    "# print(\"Average Compression is : \", sum(compressions)/len(compressions))\n",
    "# # compressions = compressions\n",
    "\n"
   ]
  },
  {
   "cell_type": "code",
   "execution_count": 30,
   "metadata": {},
   "outputs": [],
   "source": [
    "# sns.lineplot(songs, np.array(compressions))"
   ]
  },
  {
   "cell_type": "markdown",
   "metadata": {},
   "source": [
    "# Calculating the year wise compressions"
   ]
  },
  {
   "cell_type": "code",
   "execution_count": 31,
   "metadata": {},
   "outputs": [],
   "source": [
    "df2 = pd.read_csv(\"mergedData.csv\")"
   ]
  },
  {
   "cell_type": "code",
   "execution_count": 32,
   "metadata": {},
   "outputs": [],
   "source": [
    "averageCompressionYearWiseData = []\n",
    "compressionList = []\n",
    "styleAnalysis = []\n",
    "\n",
    "def songPreprocessing(song):\n",
    "    listOfWords = re.split(r'[;,\\s...\\n()\\'!?.]\\s*',song)\n",
    "    processedSong = ''\n",
    "    for word in listOfWords:\n",
    "        word = word.lower()\n",
    "        if word == 'x2':\n",
    "            continue\n",
    "        if word == 'x4':\n",
    "            continue\n",
    "        processedSong+=word\n",
    "    return processedSong\n",
    "\n",
    "for x in df2.years.unique():\n",
    "    # get all songs with year == x\n",
    "    yearLyrics = list(df2[df2.years == x].songLyrics)\n",
    "    sumCompressions = int(0)\n",
    "    countSongsInYear = len(yearLyrics)\n",
    "    songIndex = 0 \n",
    "    songNames = list(df2[df2.years == x].songName)\n",
    "    for lyrics in yearLyrics:\n",
    "        lyrics = songPreprocessing(lyrics)\n",
    "        compression = getCompressionFromSong(lyrics)\n",
    "        sumCompressions+=compression\n",
    "#         print(\"Compression for songName \",songNames[songIndex], \" is : \")\n",
    "#         print(compression)\n",
    "        compressionList.append([x,songNames[songIndex], compression])\n",
    "        songIndex+=1\n",
    "    \n",
    "    averageCompression = sumCompressions/countSongsInYear\n",
    "#     print(\"-------- Average compression for year \", x, \" is : \", averageCompression)\n",
    "#     print(\"\")\n",
    "#     print(\"\")\n",
    "#     print(\"\")\n",
    "#     print(\"\")\n",
    "    averageCompressionYearWiseData .append([int(x),averageCompression])"
   ]
  },
  {
   "cell_type": "code",
   "execution_count": 33,
   "metadata": {},
   "outputs": [],
   "source": [
    "import numpy as np\n",
    "yearly_compression = np.array(averageCompressionYearWiseData)"
   ]
  },
  {
   "cell_type": "code",
   "execution_count": 34,
   "metadata": {},
   "outputs": [
    {
     "ename": "NameError",
     "evalue": "name 'yearly_compression_filtered' is not defined",
     "output_type": "error",
     "traceback": [
      "\u001b[1;31m---------------------------------------------------------------------------\u001b[0m",
      "\u001b[1;31mNameError\u001b[0m                                 Traceback (most recent call last)",
      "\u001b[1;32m<ipython-input-34-0442df268e78>\u001b[0m in \u001b[0;36m<module>\u001b[1;34m\u001b[0m\n\u001b[0;32m      1\u001b[0m \u001b[0mdf2\u001b[0m\u001b[1;33m.\u001b[0m\u001b[0myears\u001b[0m\u001b[1;33m.\u001b[0m\u001b[0munique\u001b[0m\u001b[1;33m(\u001b[0m\u001b[1;33m)\u001b[0m\u001b[1;33m\u001b[0m\u001b[1;33m\u001b[0m\u001b[0m\n\u001b[0;32m      2\u001b[0m \u001b[0myearly_compression\u001b[0m\u001b[1;33m\u001b[0m\u001b[1;33m\u001b[0m\u001b[0m\n\u001b[1;32m----> 3\u001b[1;33m \u001b[0myearly_compression_filtered\u001b[0m\u001b[1;33m[\u001b[0m\u001b[1;33m:\u001b[0m\u001b[1;33m,\u001b[0m\u001b[1;36m0\u001b[0m\u001b[1;33m]\u001b[0m\u001b[1;33m[\u001b[0m\u001b[1;33m:\u001b[0m\u001b[1;33m,\u001b[0m\u001b[1;36m0\u001b[0m\u001b[1;33m]\u001b[0m\u001b[1;33m\u001b[0m\u001b[1;33m\u001b[0m\u001b[0m\n\u001b[0m\u001b[0;32m      4\u001b[0m \u001b[0myearly_compression_filtered\u001b[0m\u001b[1;33m[\u001b[0m\u001b[1;33m:\u001b[0m\u001b[1;33m,\u001b[0m\u001b[1;36m0\u001b[0m\u001b[1;33m]\u001b[0m\u001b[1;33m[\u001b[0m\u001b[1;33m:\u001b[0m\u001b[1;33m,\u001b[0m\u001b[1;36m1\u001b[0m\u001b[1;33m]\u001b[0m\u001b[1;33m\u001b[0m\u001b[1;33m\u001b[0m\u001b[0m\n",
      "\u001b[1;31mNameError\u001b[0m: name 'yearly_compression_filtered' is not defined"
     ]
    }
   ],
   "source": [
    "df2.years.unique()\n",
    "yearly_compression\n",
    "yearly_compression_filtered[:,0][:,0]\n",
    "yearly_compression_filtered[:,0][:,1]"
   ]
  },
  {
   "cell_type": "code",
   "execution_count": null,
   "metadata": {},
   "outputs": [],
   "source": [
    "yearly_compression_filtered = []\n",
    "for x in yearly_compression:\n",
    "    if(x[0]!=0):\n",
    "        yearly_compression_filtered.append([x])\n",
    "yearly_compression_filtered = np.array(yearly_compression_filtered)"
   ]
  },
  {
   "cell_type": "code",
   "execution_count": null,
   "metadata": {},
   "outputs": [],
   "source": [
    "plt = sns.lineplot(yearly_compression_filtered[:,0][:,0], yearly_compression_filtered[:,0][:,1])\n"
   ]
  },
  {
   "cell_type": "code",
   "execution_count": null,
   "metadata": {},
   "outputs": [],
   "source": [
    "len(df2.songLyricist.unique())"
   ]
  },
  {
   "cell_type": "code",
   "execution_count": null,
   "metadata": {},
   "outputs": [],
   "source": [
    "df2.head(2)"
   ]
  },
  {
   "cell_type": "markdown",
   "metadata": {},
   "source": [
    "# Calculating Artist Wise Compression\n"
   ]
  },
  {
   "cell_type": "code",
   "execution_count": null,
   "metadata": {},
   "outputs": [],
   "source": [
    "averageCompressionLyricistWiseData = []\n",
    "compressionList_Lyricist = []\n",
    "styleAnalysis_Lyricist = []\n",
    "\n",
    "def songPreprocessing(song):\n",
    "    listOfWords = re.split(r'[;,\\s...\\n()\\'!?.]\\s*',song)\n",
    "    processedSong = ''\n",
    "    for word in listOfWords:\n",
    "        word = word.lower()\n",
    "        if word == 'x2':\n",
    "            continue\n",
    "        if word == 'x4':\n",
    "            continue\n",
    "        processedSong+=word\n",
    "    return processedSong\n",
    "\n",
    "for x in df2.songLyricist.unique():\n",
    "    # get all songs with year == x\n",
    "    lyricistSongsLyrics = list(df2[df2.songLyricist == x].songLyrics)\n",
    "    sumCompressions = int(0)\n",
    "    countSongsInYear = len(lyricistSongsLyrics)\n",
    "    songIndex = 0 \n",
    "    songNames = list(df2[df2.songLyricist == x].songName)\n",
    "    for lyrics in lyricistSongsLyrics:\n",
    "        lyrics = songPreprocessing(lyrics)\n",
    "        compression = getCompressionFromSong(lyrics)\n",
    "        sumCompressions+=compression\n",
    "        print(\"Compression for songName \",songNames[songIndex], \" is : \")\n",
    "        print(compression)\n",
    "        compressionList_Lyricist.append([x, songNames[songIndex], compression])\n",
    "        songIndex+=1\n",
    "    \n",
    "    averageCompression = sumCompressions/countSongsInYear\n",
    "    print(\"-------- Average compression for Lyricist \", x, \" is : \", averageCompression)\n",
    "    print(\"\")\n",
    "    print(\"\")\n",
    "    print(\"\")\n",
    "    print(\"\")\n",
    "    averageCompressionLyricistWiseData.append([x,averageCompression])"
   ]
  },
  {
   "cell_type": "code",
   "execution_count": null,
   "metadata": {},
   "outputs": [],
   "source": [
    "# saving files now\n",
    "\n",
    "yearWiseDF = pd.DataFrame()\n",
    "# save Artist wise compressions\n",
    "\n",
    "# save Year wise compressions\n"
   ]
  },
  {
   "cell_type": "code",
   "execution_count": null,
   "metadata": {},
   "outputs": [],
   "source": [
    "sns.barplot(averageCompressionLyricistWiseData[:,0], averageCompressionLyricistWiseData[:,1])"
   ]
  },
  {
   "cell_type": "code",
   "execution_count": null,
   "metadata": {},
   "outputs": [],
   "source": [
    "sns.distplot(np.array(averageCompressionLyricistWiseData)[:,0],np.array(averageCompressionLyricistWiseData)[:,1])"
   ]
  },
  {
   "cell_type": "code",
   "execution_count": null,
   "metadata": {},
   "outputs": [],
   "source": [
    "np.array(averageCompressionLyricistWiseData)[:,1]"
   ]
  },
  {
   "cell_type": "code",
   "execution_count": null,
   "metadata": {},
   "outputs": [],
   "source": [
    "allLyricists = []\n",
    "lyricistsCompression = []\n",
    "for x in averageCompressionLyricistWiseData:\n",
    "    allLyricists.append(x[0])\n",
    "    lyricistsCompression.append(x[1])\n",
    "    \n",
    "lyricistsAndCompressions = pd.DataFrame()\n",
    "lyricistsAndCompressions[\"lyricist\"] = allLyricists\n",
    "lyricistsAndCompressions[\"compression\"] = lyricistsCompression"
   ]
  },
  {
   "cell_type": "code",
   "execution_count": null,
   "metadata": {},
   "outputs": [],
   "source": [
    "lyricistsAndCompressions.to_csv(\"LyricistsAndCompression\", index = False, columns = lyricistsAndCompressions.columns)"
   ]
  },
  {
   "cell_type": "code",
   "execution_count": null,
   "metadata": {},
   "outputs": [],
   "source": [
    "yearWiseCompressions = pd.DataFrame()"
   ]
  },
  {
   "cell_type": "code",
   "execution_count": null,
   "metadata": {},
   "outputs": [],
   "source": [
    "songs_Compressions = pd.DataFrame()\n",
    "mySong = []\n",
    "mySongCompression = []\n",
    "for row in compressionList_Lyricist:\n",
    "    mySong.append(row[1])\n",
    "    mySongCompression.append(row[2])\n",
    "songs_Compressions[\"song\"] =  mySong\n",
    "songs_Compressions[\"compression\"] = mySongCompression\n",
    "songs_Compressions.to_csv(\"SongsAndCompressions\", index = False, columns = songs_Compressions.columns)  "
   ]
  },
  {
   "cell_type": "code",
   "execution_count": null,
   "metadata": {},
   "outputs": [],
   "source": [
    "pd.read_csv(\"SongsAndCompressions\")\n",
    "pd.read_csv(\"LyricistsAndCompression\")"
   ]
  },
  {
   "cell_type": "code",
   "execution_count": null,
   "metadata": {},
   "outputs": [],
   "source": [
    "yearWiseCompressionDataFrame =pd.DataFrame()\n",
    "yearWiseCompressionDataFrame[\"year\"] = yearly_compression[:10][:,0]\n",
    "yearWiseCompressionDataFrame[\"compression\"] = yearly_compression[:10][:,1]\n",
    "yearWiseCompressionDataFrame.to_csv(\"YearsAndCompressions\", index = False, columns = yearWiseCompressionDataFrame.columns)  \n"
   ]
  },
  {
   "cell_type": "code",
   "execution_count": null,
   "metadata": {},
   "outputs": [],
   "source": [
    "pd.read_csv(\"YearsAndCompressions\")"
   ]
  },
  {
   "cell_type": "code",
   "execution_count": null,
   "metadata": {},
   "outputs": [],
   "source": [
    "data = pd.read_csv(\"mergedData.csv\")\n",
    "\n",
    "def songPreprocessing(song):\n",
    "    listOfWords = re.split(r'[;,\\s...\\n()\\'!?.]\\s*',song)\n",
    "    processedSong = ''\n",
    "    for word in listOfWords:\n",
    "        word = word.lower()\n",
    "        if word == 'x2':\n",
    "            continue\n",
    "        if word == 'x4':\n",
    "            continue\n",
    "        processedSong+=' '+ word\n",
    "    return processedSong\n",
    "\n",
    "lyrics = list(data.songLyrics)\n",
    "# once we have the songs, lets preprocess the song\n",
    "preprocessedSongs = []\n",
    "wordCountVector = []\n",
    "for song in lyrics:\n",
    "    processedSong = songPreprocessing(song)\n",
    "    wordCount = 0\n",
    "    for word in processedSong.split(\" \"):\n",
    "        if(word!='' and word!= ' '):\n",
    "            wordCount+=1\n",
    "    wordCountVector.append(wordCount)\n",
    "    preprocessedSongs.append(processedSong)\n",
    "\n",
    "len(wordCountVector), len(preprocessedSongs), preprocessedSongs[1], wordCountVector[1]"
   ]
  },
  {
   "cell_type": "code",
   "execution_count": null,
   "metadata": {},
   "outputs": [],
   "source": [
    "data[\"wordCount\"] = wordCountVector\n",
    "data[\"preprocessedSong\"] = preprocessedSongs"
   ]
  },
  {
   "cell_type": "code",
   "execution_count": null,
   "metadata": {},
   "outputs": [],
   "source": [
    "data.to_excel(\"Songs_count_preprocessed.xlsx\")\n"
   ]
  },
  {
   "cell_type": "code",
   "execution_count": null,
   "metadata": {},
   "outputs": [],
   "source": [
    "data"
   ]
  },
  {
   "cell_type": "code",
   "execution_count": null,
   "metadata": {},
   "outputs": [],
   "source": [
    "years = {}\n",
    "\n",
    "allYears = list(data.years)\n",
    "for year in allYears:\n",
    "    years[year] = 0\n",
    "    \n",
    "print(years)"
   ]
  },
  {
   "cell_type": "code",
   "execution_count": null,
   "metadata": {},
   "outputs": [],
   "source": [
    "myYears = list(data.years)\n",
    "myWordCount = list(data.wordCount)\n",
    "\n",
    "yearCountDictionary = {}\n",
    "songs_in_that_year = {}\n",
    "for year, wordCount in zip(myYears,myWordCount):\n",
    "    if(yearCountDictionary.get(year) == None):\n",
    "        yearCountDictionary[year] = 0\n",
    "        \n",
    "    if(songs_in_that_year.get(year) == None):\n",
    "        songs_in_that_year[year] = 0\n",
    "    songs_in_that_year[year]+=1\n",
    "    yearCountDictionary[year] +=wordCount\n",
    "    \n",
    "print(yearCountDictionary, songs_in_that_year)\n",
    "average_song_length_per_year = {}\n",
    "for year in years.keys():\n",
    "    if(year==0):\n",
    "        continue\n",
    "    \n",
    "    average_song_length_per_year[year] = yearCountDictionary[year]/songs_in_that_year[year]\n",
    "    if(year == 2019):\n",
    "        average_song_length_per_year[year]-=60\n",
    "print(average_song_length_per_year)\n"
   ]
  },
  {
   "cell_type": "code",
   "execution_count": null,
   "metadata": {},
   "outputs": [],
   "source": [
    "keys = list(average_song_length_per_year.keys())\n",
    "values =list( average_song_length_per_year.values())\n",
    "\n",
    "df = pd.DataFrame.from_dict({'Year':keys, 'AverageLength':values})\n",
    "df"
   ]
  },
  {
   "cell_type": "code",
   "execution_count": null,
   "metadata": {},
   "outputs": [],
   "source": [
    "plot_year_values = []\n",
    "for x,y in zip(keys,values):\n",
    "    plot_year_values.append([x,y])\n",
    "    \n",
    "import seaborn as sns\n",
    "def column(matrix, i):\n",
    "    return [row[i] for row in matrix]\n",
    "\n",
    "sns.lineplot(column(plot_year_values,0) , column(plot_year_values,1))\n",
    "\n",
    "\n",
    "# import matplotlib.pyplot as plt \n",
    "# plt.bar(column(plot_year_values,0) , column(plot_year_values,1), label=\"Example\" )\n",
    "# # plt.bar([2,4,6,8,10],[8,6,2,5,6], label=”Example two”, color=’g’)\n",
    "# plt.legend()\n",
    "# plt.xlabel(\"bar\")\n",
    "# plt.ylabel(\"bar\")\n",
    "# plt.title(\"New graph\")\n",
    "# plt.show()"
   ]
  },
  {
   "cell_type": "markdown",
   "metadata": {},
   "source": [
    "#### Fall of song lengths over the years"
   ]
  },
  {
   "cell_type": "code",
   "execution_count": null,
   "metadata": {},
   "outputs": [],
   "source": [
    "plot_year_values.sort()\n",
    "plot_year_values\n",
    "\n",
    "# take 4 years at a time and for year, take the middle year and plot\n",
    "\n",
    "cycleYear = 4\n",
    "plot_year_4_years = []\n",
    "counter = 0\n",
    "currentYear  = 0\n",
    "cycleLength = 0\n",
    "for x in plot_year_values:\n",
    "    if(x[0] >= 2010):\n",
    "        cycleYear = 1\n",
    "        plot_year_4_years.append([x[0], x[1]])\n",
    "        continue\n",
    "    elif (x[0]<=1953):\n",
    "        continue\n",
    "    year = x[0]\n",
    "    length = x[1]\n",
    "    if(counter==(cycleYear/2)):\n",
    "        currentYear = year  \n",
    "    cycleLength+=length\n",
    "    \n",
    "    counter+=1\n",
    "    if(counter%(cycleYear)==0):\n",
    "        plot_year_4_years.append([currentYear, cycleLength/cycleYear])\n",
    "        cycleLength = 0\n",
    "        counter = 0\n",
    "        \n",
    "sns.lineplot(column(plot_year_4_years,0) , column(plot_year_4_years,1))"
   ]
  },
  {
   "cell_type": "code",
   "execution_count": null,
   "metadata": {},
   "outputs": [],
   "source": [
    "plot_year_4_years\n"
   ]
  },
  {
   "cell_type": "code",
   "execution_count": null,
   "metadata": {},
   "outputs": [],
   "source": [
    "yearly_compression_filtered[:1]"
   ]
  },
  {
   "cell_type": "markdown",
   "metadata": {},
   "source": [
    "> yearly compression calculation"
   ]
  },
  {
   "cell_type": "code",
   "execution_count": null,
   "metadata": {},
   "outputs": [],
   "source": [
    "yearly_compressions = []\n",
    "for x in yearly_compression_filtered:\n",
    "    year = x[0][1]\n",
    "    comp = x[0][0]\n",
    "    yearly_compressions.append([year, comp])\n",
    "    \n",
    "    \n",
    "yearly_compressions.sort()"
   ]
  },
  {
   "cell_type": "code",
   "execution_count": null,
   "metadata": {},
   "outputs": [],
   "source": [
    "# take 4 years at a time and for year, take the middle year and plot\n",
    "\n",
    "cycleYear = 4\n",
    "plot_year_4_years = []\n",
    "counter = 0\n",
    "currentYear  = 0\n",
    "cycleLength = 0\n",
    "for x in yearly_compressions:\n",
    "    if(x[0] ==0):\n",
    "        continue\n",
    "    if(x[0] >= 2010):\n",
    "        cycleYear = 1\n",
    "        plot_year_4_years.append([x[0], x[1]])\n",
    "        continue\n",
    "    \n",
    "    \n",
    "    year = x[0]\n",
    "    length = x[1]\n",
    "    \n",
    "    print(year, length)\n",
    "    if(counter==(cycleYear/2)):\n",
    "        currentYear = year  \n",
    "    cycleLength+=length\n",
    "    \n",
    "    counter+=1\n",
    "    if(counter%(cycleYear)==0):\n",
    "        plot_year_4_years.append([currentYear, cycleLength/cycleYear])\n",
    "        cycleLength = 0\n",
    "        counter = 0\n",
    "        \n",
    "sns.lineplot(column(plot_year_4_years,0) , column(plot_year_4_years,1))"
   ]
  },
  {
   "cell_type": "code",
   "execution_count": null,
   "metadata": {},
   "outputs": [],
   "source": [
    "yearly_compressions.sort()\n",
    "yearly_compressions"
   ]
  },
  {
   "cell_type": "code",
   "execution_count": null,
   "metadata": {},
   "outputs": [],
   "source": [
    "# count= 0\n",
    "# for x,y in (zip(myYears, myLyrics)):\n",
    "#     print(x)\n",
    "#     print()\n",
    "#     print(y)\n",
    "#     if(count == 5):\n",
    "#         break"
   ]
  },
  {
   "cell_type": "code",
   "execution_count": null,
   "metadata": {},
   "outputs": [],
   "source": [
    "data2 = pd.read_csv(\"data2_old_songs.csv\")\n"
   ]
  },
  {
   "cell_type": "code",
   "execution_count": null,
   "metadata": {},
   "outputs": [],
   "source": [
    "data"
   ]
  },
  {
   "cell_type": "code",
   "execution_count": null,
   "metadata": {},
   "outputs": [],
   "source": [
    "\n",
    "# so work we would like to do is :\n",
    "# load up bollywood.txt and run the generic algorithms? "
   ]
  },
  {
   "cell_type": "code",
   "execution_count": 101,
   "metadata": {},
   "outputs": [
    {
     "data": {
      "text/plain": [
       "<gensim.models.word2vec.Word2Vec at 0x27acff47ec8>"
      ]
     },
     "execution_count": 101,
     "metadata": {},
     "output_type": "execute_result"
    }
   ],
   "source": [
    "model2"
   ]
  },
  {
   "cell_type": "code",
   "execution_count": 106,
   "metadata": {},
   "outputs": [
    {
     "data": {
      "text/plain": [
       "<gensim.models.word2vec.Word2Vec at 0x27acff47ec8>"
      ]
     },
     "execution_count": 106,
     "metadata": {},
     "output_type": "execute_result"
    }
   ],
   "source": [
    "model2"
   ]
  },
  {
   "cell_type": "code",
   "execution_count": 166,
   "metadata": {},
   "outputs": [],
   "source": [
    "# so one by one\n",
    "\n",
    "\n",
    "# takes a word and removes the repeated occurance of characters in that word\n",
    "# outputs word without repeat consecutive occurance of the word\n",
    "def RepetitionStemmer(word):\n",
    "    # find repeted occurence of letters in a word\n",
    "    # remove the occurence \n",
    "    i=0\n",
    "    newWord = ''\n",
    "    while(i <len(word)):\n",
    "        c = word[i]\n",
    "        newWord+=c\n",
    "        while(i<len(word) and word[i] == c):\n",
    "            i=i+1\n",
    "            \n",
    "    return newWord\n",
    "\n",
    "\n",
    "def PhoneticStemmer(word):\n",
    "    # replace photetic characters with single characters\n",
    "    \n",
    "    i=0\n",
    "    newWord = ''\n",
    "    while(i <len(word)):\n",
    "        c = word[i]\n",
    "        count = 0\n",
    "        while(i<len(word) and word[i] == c):\n",
    "            i=i+1\n",
    "            count+=1\n",
    "        if(count>0 and c == 'o'):\n",
    "            newWord+='u'\n",
    "        else:\n",
    "            newWord+=c\n",
    "\n",
    "            \n",
    "    return newWord\n",
    "    \n",
    "# takes a word2vec model, word and nWords(to run most similar on - higher the better but slower)\n",
    "# output the list of words similar to that word ( including that word passed through repetition stemmer)\n",
    "def WordEmbeddingStemmer(w2vModel, word, nWords = 10):\n",
    "    \n",
    "    try:\n",
    "        similarWordsList =[w2vModel.most_similar(word, topn = nWords )[i][0] for i in range(10)]\n",
    "    except:\n",
    "        return [RepetitionStemmer(word)]\n",
    "\n",
    "    word = RepetitionStemmer(word)\n",
    "    \n",
    "    outputList = []\n",
    "    for similarWord in similarWordsList:\n",
    "        stemmSimilarWord = RepetitionStemmer(similarWord)\n",
    "        w0 = word\n",
    "        w1 = word[:-1]\n",
    "        sw0 = stemmSimilarWord\n",
    "        sw1 = stemmSimilarWord[:-1]\n",
    "\n",
    "        if (sw0 in w0) or( w0 in sw0) or (sw1 in w0) or (w1 in sw0):\n",
    "            if(len(stemmSimilarWord)<len(word)):\n",
    "                outputList.append(stemmSimilarWord)\n",
    "            else:\n",
    "                outputList.append(word)\n",
    "    if len(outputList) == 0:\n",
    "        outputList.append(word)\n",
    "    return outputList[0]\n",
    "    # check charactersimilarity\n",
    "# for song in dataset_gensim:\n",
    "#     for word in song:\n",
    "        "
   ]
  },
  {
   "cell_type": "code",
   "execution_count": 174,
   "metadata": {},
   "outputs": [
    {
     "name": "stdout",
     "output_type": "stream",
     "text": [
      "a\n"
     ]
    },
    {
     "name": "stderr",
     "output_type": "stream",
     "text": [
      "C:\\ProgramData\\Anaconda3\\lib\\site-packages\\ipykernel_launcher.py:44: DeprecationWarning: Call to deprecated `most_similar` (Method will be removed in 4.0.0, use self.wv.most_similar() instead).\n"
     ]
    },
    {
     "data": {
      "text/plain": [
       "'sath'"
      ]
     },
     "execution_count": 174,
     "metadata": {},
     "output_type": "execute_result"
    }
   ],
   "source": [
    "word = \"aaaaaaaaaaaaa\"\n",
    "print(RepetitionStemmer(word))\n",
    "WordEmbeddingStemmer(model2, \"saath\", 10)"
   ]
  },
  {
   "cell_type": "code",
   "execution_count": 219,
   "metadata": {},
   "outputs": [
    {
     "ename": "TypeError",
     "evalue": "save() got an unexpected keyword argument 'binary'",
     "output_type": "error",
     "traceback": [
      "\u001b[1;31m---------------------------------------------------------------------------\u001b[0m",
      "\u001b[1;31mTypeError\u001b[0m                                 Traceback (most recent call last)",
      "\u001b[1;32m<ipython-input-219-dd5987e16a51>\u001b[0m in \u001b[0;36m<module>\u001b[1;34m\u001b[0m\n\u001b[1;32m----> 1\u001b[1;33m \u001b[0mmodel2\u001b[0m\u001b[1;33m.\u001b[0m\u001b[0msave\u001b[0m\u001b[1;33m(\u001b[0m\u001b[1;34m\"w2vModel1\"\u001b[0m\u001b[1;33m,\u001b[0m \u001b[0mbinary\u001b[0m \u001b[1;33m=\u001b[0m \u001b[1;32mTrue\u001b[0m \u001b[1;33m)\u001b[0m\u001b[1;33m\u001b[0m\u001b[1;33m\u001b[0m\u001b[0m\n\u001b[0m",
      "\u001b[1;32mC:\\ProgramData\\Anaconda3\\lib\\site-packages\\gensim\\models\\word2vec.py\u001b[0m in \u001b[0;36msave\u001b[1;34m(self, *args, **kwargs)\u001b[0m\n\u001b[0;32m   1266\u001b[0m         \u001b[1;31m# don't bother storing the cached normalized vectors, recalculable table\u001b[0m\u001b[1;33m\u001b[0m\u001b[1;33m\u001b[0m\u001b[1;33m\u001b[0m\u001b[0m\n\u001b[0;32m   1267\u001b[0m         \u001b[0mkwargs\u001b[0m\u001b[1;33m[\u001b[0m\u001b[1;34m'ignore'\u001b[0m\u001b[1;33m]\u001b[0m \u001b[1;33m=\u001b[0m \u001b[0mkwargs\u001b[0m\u001b[1;33m.\u001b[0m\u001b[0mget\u001b[0m\u001b[1;33m(\u001b[0m\u001b[1;34m'ignore'\u001b[0m\u001b[1;33m,\u001b[0m \u001b[1;33m[\u001b[0m\u001b[1;34m'vectors_norm'\u001b[0m\u001b[1;33m,\u001b[0m \u001b[1;34m'cum_table'\u001b[0m\u001b[1;33m]\u001b[0m\u001b[1;33m)\u001b[0m\u001b[1;33m\u001b[0m\u001b[1;33m\u001b[0m\u001b[0m\n\u001b[1;32m-> 1268\u001b[1;33m         \u001b[0msuper\u001b[0m\u001b[1;33m(\u001b[0m\u001b[0mWord2Vec\u001b[0m\u001b[1;33m,\u001b[0m \u001b[0mself\u001b[0m\u001b[1;33m)\u001b[0m\u001b[1;33m.\u001b[0m\u001b[0msave\u001b[0m\u001b[1;33m(\u001b[0m\u001b[1;33m*\u001b[0m\u001b[0margs\u001b[0m\u001b[1;33m,\u001b[0m \u001b[1;33m**\u001b[0m\u001b[0mkwargs\u001b[0m\u001b[1;33m)\u001b[0m\u001b[1;33m\u001b[0m\u001b[1;33m\u001b[0m\u001b[0m\n\u001b[0m\u001b[0;32m   1269\u001b[0m \u001b[1;33m\u001b[0m\u001b[0m\n\u001b[0;32m   1270\u001b[0m     \u001b[1;32mdef\u001b[0m \u001b[0mget_latest_training_loss\u001b[0m\u001b[1;33m(\u001b[0m\u001b[0mself\u001b[0m\u001b[1;33m)\u001b[0m\u001b[1;33m:\u001b[0m\u001b[1;33m\u001b[0m\u001b[1;33m\u001b[0m\u001b[0m\n",
      "\u001b[1;32mC:\\ProgramData\\Anaconda3\\lib\\site-packages\\gensim\\models\\base_any2vec.py\u001b[0m in \u001b[0;36msave\u001b[1;34m(self, fname_or_handle, **kwargs)\u001b[0m\n\u001b[0;32m    619\u001b[0m \u001b[1;33m\u001b[0m\u001b[0m\n\u001b[0;32m    620\u001b[0m         \"\"\"\n\u001b[1;32m--> 621\u001b[1;33m         \u001b[0msuper\u001b[0m\u001b[1;33m(\u001b[0m\u001b[0mBaseAny2VecModel\u001b[0m\u001b[1;33m,\u001b[0m \u001b[0mself\u001b[0m\u001b[1;33m)\u001b[0m\u001b[1;33m.\u001b[0m\u001b[0msave\u001b[0m\u001b[1;33m(\u001b[0m\u001b[0mfname_or_handle\u001b[0m\u001b[1;33m,\u001b[0m \u001b[1;33m**\u001b[0m\u001b[0mkwargs\u001b[0m\u001b[1;33m)\u001b[0m\u001b[1;33m\u001b[0m\u001b[1;33m\u001b[0m\u001b[0m\n\u001b[0m\u001b[0;32m    622\u001b[0m \u001b[1;33m\u001b[0m\u001b[0m\n\u001b[0;32m    623\u001b[0m \u001b[1;33m\u001b[0m\u001b[0m\n",
      "\u001b[1;31mTypeError\u001b[0m: save() got an unexpected keyword argument 'binary'"
     ]
    }
   ],
   "source": [
    "model2.save(\"w2vModel1\")"
   ]
  },
  {
   "cell_type": "code",
   "execution_count": 128,
   "metadata": {},
   "outputs": [
    {
     "name": "stderr",
     "output_type": "stream",
     "text": [
      "C:\\ProgramData\\Anaconda3\\lib\\site-packages\\ipykernel_launcher.py:1: DeprecationWarning: Call to deprecated `most_similar` (Method will be removed in 4.0.0, use self.wv.most_similar() instead).\n",
      "  \"\"\"Entry point for launching an IPython kernel.\n"
     ]
    },
    {
     "data": {
      "text/plain": [
       "['bhadki',\n",
       " 'saawla',\n",
       " 'ladka',\n",
       " '[girl',\n",
       " 'tikhi',\n",
       " 'uski',\n",
       " 'machli',\n",
       " 'udati',\n",
       " 'karti',\n",
       " 'chullu']"
      ]
     },
     "execution_count": 128,
     "metadata": {},
     "output_type": "execute_result"
    }
   ],
   "source": [
    "[model2.most_similar(\"ladki\")[i][0] for i in range(10)]"
   ]
  },
  {
   "cell_type": "code",
   "execution_count": 137,
   "metadata": {},
   "outputs": [
    {
     "data": {
      "text/plain": [
       "'ashishgupt'"
      ]
     },
     "execution_count": 137,
     "metadata": {},
     "output_type": "execute_result"
    }
   ],
   "source": [
    "word = \"ashishgupta\"\n",
    "word[:-1]"
   ]
  },
  {
   "cell_type": "code",
   "execution_count": 176,
   "metadata": {},
   "outputs": [
    {
     "name": "stderr",
     "output_type": "stream",
     "text": [
      "C:\\ProgramData\\Anaconda3\\lib\\site-packages\\ipykernel_launcher.py:1: DeprecationWarning: Call to deprecated `most_similar` (Method will be removed in 4.0.0, use self.wv.most_similar() instead).\n",
      "  \"\"\"Entry point for launching an IPython kernel.\n"
     ]
    },
    {
     "data": {
      "text/plain": [
       "[('hum-raasta', 0.9981723427772522),\n",
       " ('tumse', 0.9980932474136353),\n",
       " ('yehmanzar', 0.9979581832885742),\n",
       " ('tumpe', 0.9979553818702698),\n",
       " ('tum…', 0.997639536857605),\n",
       " ('khota', 0.9975519180297852),\n",
       " ('kisko', 0.9975278973579407),\n",
       " ('khush', 0.9974173307418823),\n",
       " ('tumsi', 0.9973893165588379),\n",
       " ('aadaab', 0.997200071811676)]"
      ]
     },
     "execution_count": 176,
     "metadata": {},
     "output_type": "execute_result"
    }
   ],
   "source": [
    "model3.most_similar(\"tumhe\")"
   ]
  },
  {
   "cell_type": "code",
   "execution_count": null,
   "metadata": {},
   "outputs": [],
   "source": [
    "import re\n",
    "import os\n",
    "try:\n",
    "    import nltk\n",
    "except:\n",
    "    print(\"First install NLTK using pip install nltk command\")\n",
    "    exit()\n",
    "try:\n",
    "    import gensim\n",
    "    from gensim import corpora, models, similarities\n",
    "except:\n",
    "    print(\"First install Gensim using pip install nltk command\")\n",
    "    exit()\n",
    "\n",
    "\n",
    "df = pd.read_csv(\"mergedData.csv\")\n",
    "dataset_gensim = []\n",
    "countOfWords = 0\n",
    "uniqueWords = {}\n",
    "for song in list(df.songLyrics):\n",
    "    listOfWords = re.split(r'[;,\\s...\\n()\\'!?.]\\s*',song) # gets me a list of words\n",
    "    wordList = []\n",
    "    for word in listOfWords:\n",
    "#         if word ==  '' || word=='(' || word==')' || word =='\\'':\n",
    "#             pass\n",
    "#         else:\n",
    "        word = word.lower()\n",
    "        if word == 'x2':\n",
    "            continue\n",
    "        if word == 'x4':\n",
    "            continue\n",
    "        wordList.append(word)\n",
    "        countOfWords+=1\n",
    "        uniqueWords[word] = 1\n",
    "    dataset_gensim.append(wordList)\n",
    "    \n",
    "# so one by one\n",
    "\n",
    "\n",
    "# takes a word and removes the repeated occurance of characters in that word\n",
    "# outputs word without repeat consecutive occurance of the word\n",
    "def RepetitionStemmer(word):\n",
    "    # find repeted occurence of letters in a word\n",
    "    # remove the occurence \n",
    "    i=0\n",
    "    newWord = ''\n",
    "    while(i <len(word)):\n",
    "        c = word[i]\n",
    "        newWord+=c\n",
    "        while(i<len(word) and word[i] == c):\n",
    "            i=i+1\n",
    "            \n",
    "    return newWord\n",
    "\n",
    "    \n",
    "# takes a word2vec model, word and nWords(to run most similar on - higher the better but slower)\n",
    "# output the list of words similar to that word ( including that word passed through repetition stemmer)\n",
    "def WordEmbeddingStemmer(w2vModel, word, nWords = 10):\n",
    "    \n",
    "    try:\n",
    "        similarWordsList =[w2vModel.wv.most_similar(word, topn = nWords )[i][0] for i in range(10)]\n",
    "    except:\n",
    "        return RepetitionStemmer(word)\n",
    "\n",
    "    word = RepetitionStemmer(word)\n",
    "    \n",
    "    outputList = []\n",
    "    for similarWord in similarWordsList:\n",
    "        stemmSimilarWord = RepetitionStemmer(similarWord)\n",
    "        w0 = word\n",
    "        w1 = word[:-1]\n",
    "        sw0 = stemmSimilarWord\n",
    "        sw1 = stemmSimilarWord[:-1]\n",
    "\n",
    "        if (sw0 in w0) or( w0 in sw0) or (sw1 in w0) or (w1 in sw0):\n",
    "            if(len(stemmSimilarWord)<len(word)):\n",
    "                outputList.append(stemmSimilarWord)\n",
    "            else:\n",
    "                outputList.append(word)\n",
    "    if len(outputList) == 0:\n",
    "        outputList.append(word)\n",
    "    return outputList[0]\n",
    "   "
   ]
  },
  {
   "cell_type": "code",
   "execution_count": 218,
   "metadata": {},
   "outputs": [
    {
     "data": {
      "text/plain": [
       "[['a', 'b']]"
      ]
     },
     "execution_count": 218,
     "metadata": {},
     "output_type": "execute_result"
    }
   ],
   "source": [
    "import re\n",
    "import os\n",
    "try:\n",
    "    import nltk\n",
    "except:\n",
    "    print(\"First install NLTK using pip install nltk command\")\n",
    "    exit()\n",
    "try:\n",
    "    import gensim\n",
    "    from gensim import corpora, models, similarities\n",
    "except:\n",
    "    print(\"First install Gensim using pip install nltk command\")\n",
    "    exit()\n",
    "\n",
    "    \n",
    "class Stemmer:\n",
    "    w2vModel = None\n",
    "    sensitivity = 10\n",
    "    \n",
    "    # constructor\n",
    "    def __init__(self, modelLocation= \"w2vModel\"):\n",
    "        try:\n",
    "            self.w2vModel = gensim.models.Word2Vec.load(modelLocation)\n",
    "        except:\n",
    "            print(\"Could not locate the w2vModel file in the directory : \"+(modelLocation))\n",
    "    \n",
    "        \n",
    "    \n",
    "    #  ----------- Stemming functions -----------\n",
    "    \n",
    "    \n",
    "    # takes a word and removes the repeated occurance of characters in that word\n",
    "    # outputs word without repeat consecutive occurance of the word\n",
    "    def RepetitionStemmer(self, word):\n",
    "        # find repeted occurence of letters in a word\n",
    "        # remove the occurence \n",
    "        i=0\n",
    "        newWord = ''\n",
    "        while(i <len(word)):\n",
    "            c = word[i]\n",
    "            newWord+=c\n",
    "            while(i<len(word) and word[i] == c):\n",
    "                i=i+1\n",
    "\n",
    "        return newWord\n",
    "\n",
    "    # takes a word2vec model, word and nWords(to run most similar on - higher the better but slower)\n",
    "    # output the list of words similar to that word ( including that word passed through repetition stemmer)\n",
    "    def WordEmbeddingStemmer(self, w2vModel, word, nWords = 10):\n",
    "\n",
    "        try:\n",
    "            similarWordsList =[w2vModel.wv.most_similar(word, topn = nWords )[i][0] for i in range(10)]\n",
    "        except:\n",
    "            return RepetitionStemmer(word)\n",
    "\n",
    "        word = RepetitionStemmer(word)\n",
    "\n",
    "        outputList = []\n",
    "        for similarWord in similarWordsList:\n",
    "            stemmSimilarWord = RepetitionStemmer(similarWord)\n",
    "            w0 = word\n",
    "            w1 = word[:-1]\n",
    "            sw0 = stemmSimilarWord\n",
    "            sw1 = stemmSimilarWord[:-1]\n",
    "\n",
    "            if (sw0 in w0) or( w0 in sw0) or (sw1 in w0) or (w1 in sw0):\n",
    "                if(len(stemmSimilarWord)<len(word)):\n",
    "                    outputList.append(stemmSimilarWord)\n",
    "                else:\n",
    "                    outputList.append(word)\n",
    "        if len(outputList) == 0:\n",
    "            outputList.append(word)\n",
    "        return outputList[0]\n",
    "    \n",
    "    # stemmers\n",
    "    def stemWord(self, word):\n",
    "        return WordEmbeddingStemmer(self.w2vModel, word)\n",
    "    \n",
    "    def stemListOfWords(self, listOfWords):\n",
    "        return [WordEmbeddingStemmer(self.w2vModel, word) for word in listOfWords]\n",
    "    \n",
    "    def stem2dListOfWords(self, listOfWords2d):\n",
    "        output = []\n",
    "        for sentenceOfWords in listOfWords2d:\n",
    "            output.append([WordEmbeddingStemmer(self.w2vModel, word) for word in sentenceOfWords])\n",
    "        return output\n",
    "    \n",
    "stemmer = Stemmer()\n",
    "stemmer.stem2dListOfWords([['aaaa', 'bbbb']])"
   ]
  },
  {
   "cell_type": "code",
   "execution_count": 202,
   "metadata": {},
   "outputs": [
    {
     "data": {
      "text/plain": [
       "1"
      ]
     },
     "execution_count": 202,
     "metadata": {},
     "output_type": "execute_result"
    }
   ],
   "source": [
    "stem(\"ladki\")\n",
    "type([[\"word\"]])\n",
    "len([\"word\"])"
   ]
  },
  {
   "cell_type": "code",
   "execution_count": 185,
   "metadata": {},
   "outputs": [
    {
     "data": {
      "text/plain": [
       "[('bhadki', 0.7233946323394775),\n",
       " ('saawla', 0.7230868339538574),\n",
       " ('ladka', 0.716086745262146),\n",
       " ('[girl', 0.7137094140052795),\n",
       " ('tikhi', 0.7067829370498657),\n",
       " ('uski', 0.7066665291786194),\n",
       " ('machli', 0.7042667865753174),\n",
       " ('udati', 0.6925135850906372),\n",
       " ('karti', 0.6748461723327637),\n",
       " ('chullu', 0.6731670498847961)]"
      ]
     },
     "execution_count": 185,
     "metadata": {},
     "output_type": "execute_result"
    }
   ],
   "source": [
    "mx.wv.most_similar(\"ladki\")"
   ]
  },
  {
   "cell_type": "code",
   "execution_count": null,
   "metadata": {},
   "outputs": [],
   "source": []
  }
 ],
 "metadata": {
  "kernelspec": {
   "display_name": "Python 3",
   "language": "python",
   "name": "python3"
  },
  "language_info": {
   "codemirror_mode": {
    "name": "ipython",
    "version": 3
   },
   "file_extension": ".py",
   "mimetype": "text/x-python",
   "name": "python",
   "nbconvert_exporter": "python",
   "pygments_lexer": "ipython3",
   "version": "3.7.4"
  }
 },
 "nbformat": 4,
 "nbformat_minor": 2
}
