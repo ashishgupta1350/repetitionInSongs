{
 "cells": [
  {
   "cell_type": "code",
   "execution_count": 1,
   "metadata": {},
   "outputs": [],
   "source": [
    "import numpy as np"
   ]
  },
  {
   "cell_type": "code",
   "execution_count": 2,
   "metadata": {},
   "outputs": [
    {
     "name": "stdout",
     "output_type": "stream",
     "text": [
      "Collecting zopfli\n",
      "  Downloading https://files.pythonhosted.org/packages/e2/60/14cb2853e6cbbb7090670240db8167c66759a88b5b7072cf4c8ab742bb15/zopfli-0.1.6-cp37-cp37m-win_amd64.whl\n",
      "Installing collected packages: zopfli\n",
      "Successfully installed zopfli-0.1.6\n"
     ]
    }
   ],
   "source": [
    "!pip install zopfli"
   ]
  },
  {
   "cell_type": "code",
   "execution_count": 4,
   "metadata": {},
   "outputs": [
    {
     "name": "stdout",
     "output_type": "stream",
     "text": [
      "b'Hello World'\n"
     ]
    }
   ],
   "source": [
    "s = 'Hello World'\n",
    "print(decompress(compress(s)))"
   ]
  },
  {
   "cell_type": "code",
   "execution_count": 5,
   "metadata": {},
   "outputs": [
    {
     "name": "stdout",
     "output_type": "stream",
     "text": [
      "b'x\\xda\\xf3H\\xcd\\xc9\\xc9W\\x08\\xcf/\\xcaI\\x01\\x00\\x18\\x0b\\x04\\x1d'\n"
     ]
    }
   ],
   "source": [
    "print(compress(s))"
   ]
  },
  {
   "cell_type": "code",
   "execution_count": 6,
   "metadata": {},
   "outputs": [
    {
     "data": {
      "text/plain": [
       "bytes"
      ]
     },
     "execution_count": 6,
     "metadata": {},
     "output_type": "execute_result"
    }
   ],
   "source": [
    "type(compress(s))"
   ]
  },
  {
   "cell_type": "code",
   "execution_count": 8,
   "metadata": {},
   "outputs": [],
   "source": [
    "obj = compress(s)\n"
   ]
  },
  {
   "cell_type": "code",
   "execution_count": 9,
   "metadata": {},
   "outputs": [
    {
     "data": {
      "text/plain": [
       "bytes"
      ]
     },
     "execution_count": 9,
     "metadata": {},
     "output_type": "execute_result"
    }
   ],
   "source": [
    "type(obj)"
   ]
  },
  {
   "cell_type": "code",
   "execution_count": 10,
   "metadata": {},
   "outputs": [
    {
     "ename": "TypeError",
     "evalue": "decompress() takes at least 1 positional arguments (0 given)",
     "output_type": "error",
     "traceback": [
      "\u001b[1;31m---------------------------------------------------------------------------\u001b[0m",
      "\u001b[1;31mTypeError\u001b[0m                                 Traceback (most recent call last)",
      "\u001b[1;32m<ipython-input-10-85cce1fdafd9>\u001b[0m in \u001b[0;36m<module>\u001b[1;34m\u001b[0m\n\u001b[1;32m----> 1\u001b[1;33m \u001b[0mdecompress\u001b[0m\u001b[1;33m(\u001b[0m\u001b[1;33m)\u001b[0m\u001b[1;33m\u001b[0m\u001b[1;33m\u001b[0m\u001b[0m\n\u001b[0m",
      "\u001b[1;31mTypeError\u001b[0m: decompress() takes at least 1 positional arguments (0 given)"
     ]
    }
   ],
   "source": [
    "decompress()"
   ]
  },
  {
   "cell_type": "code",
   "execution_count": 44,
   "metadata": {},
   "outputs": [
    {
     "name": "stdout",
     "output_type": "stream",
     "text": [
      "Percentage compression in the song is : \n",
      "96.6692789968652\n"
     ]
    }
   ],
   "source": [
    "getCompressionFromSong(song)"
   ]
  },
  {
   "cell_type": "markdown",
   "metadata": {},
   "source": [
    "# Code Implementation"
   ]
  },
  {
   "cell_type": "code",
   "execution_count": 102,
   "metadata": {},
   "outputs": [],
   "source": [
    "from zopfli.zlib import compress\n",
    "from zlib import decompress\n",
    "import sys\n",
    "import os\n",
    "import pandas as pd\n",
    "import seaborn as sns\n",
    "import numpy as np"
   ]
  },
  {
   "cell_type": "code",
   "execution_count": 31,
   "metadata": {},
   "outputs": [],
   "source": [
    "f1 = open('C:/Users/ashis/Desktop/Zopfli/cheapthrills.txt','r')\n",
    "song = f1.read()\n",
    "f1.close()\n",
    "# print(song)\n",
    "\n",
    "f1 = open('C:/Users/ashis/Desktop/Zopfli/tujheKitnaChahneLageHum.txt','r')\n",
    "song = f1.read()\n",
    "f1.close()\n",
    "# print(song)\n",
    "\n",
    "f1 = open('C:/Users/ashis/Desktop/Zopfli/tomTomClub.txt','r')\n",
    "song = f1.read()\n",
    "f1.close()\n",
    "# print(song)\n",
    "\n",
    "f1 = open('C:/Users/ashis/Desktop/Zopfli/aroundTheWorld.txt','r')\n",
    "song = f1.read()\n",
    "f1.close()"
   ]
  },
  {
   "cell_type": "code",
   "execution_count": 67,
   "metadata": {},
   "outputs": [],
   "source": [
    "# access directory in python\n",
    "# get file name, open file\n",
    "# for each lyrics + the year: \n",
    "\n",
    "\n",
    "def getCompressionFromSong(song):\n",
    "    compress_size = sys.getsizeof(compress(song))\n",
    "    uncomressed_song_size = sys.getsizeof(song.encode())\n",
    "    compression = (100-(compress_size/uncomressed_song_size)*100)\n",
    "    return compression\n",
    "\n",
    "# also try and read the byte code being actually saved in the compressed file"
   ]
  },
  {
   "cell_type": "code",
   "execution_count": 16,
   "metadata": {},
   "outputs": [],
   "source": []
  },
  {
   "cell_type": "code",
   "execution_count": null,
   "metadata": {},
   "outputs": [],
   "source": [
    "songsDF = pd.DataFrame()"
   ]
  },
  {
   "cell_type": "code",
   "execution_count": 17,
   "metadata": {},
   "outputs": [],
   "source": []
  },
  {
   "cell_type": "code",
   "execution_count": 27,
   "metadata": {},
   "outputs": [
    {
     "name": "stdout",
     "output_type": "stream",
     "text": [
      "[['1995', 'DheereDheereAapMere.txt', 'Dhire dhire ap mere dil ke mehma ho gaye\\nDhire dhire ap mere dil ke mehma ho gaye\\nPahle jaa phir jane jaa phir jane jana ho gaye\\n\\n\\nDhire dhire ap mere dil ke mehma ho gaye\\nDhire dhire ap mere dil ke mehma ho gaye\\nPahle jaa phi jane jaa phir jane jana ho gaye\\nDhire dhire ap mere dil ke mehma ho gaye\\n\\n\\nYe hai karam apk tumne mujhe chun liya\\nAb chahae kuch na kaho hamne sab sun liya\\nPahle jaa phir jane jaa phir jane jana ho gaye\\nDhire dhire ap mere dil ke mehma ho gaye\\nDhire dhire ap mere dil ke mehma ho gaye\\n\\n\\nPagal jawani teri katil tumhari ada\\nAisa chada dono pe ashiki ka nasha\\nPahle jaa phir jane jaa phir jane jana ho gaye\\nDhire dhire ap mere dil ke mehma ho gaye\\nDhire dhire ap mere dil ke mehma ho gaye\\nPahle jaa phi jane jaa phir jane jana ho gaye.\\n\\n'], ['1995', 'HoGayaHTujkoJoPyar.txt', 'Na jaane mere\\nDil ko kya ho gaya\\nAbhi to yahin\\nTha abhi\\nKho gaya\\n\\nNa jaane mere\\nDil ko kya ho gaya\\nAbhi to yahin\\nTha abhi\\nKho gaya\\n\\nNa jaane mere\\nDil ko kya ho gaya\\nAbhi to yahin\\nTha abhi\\nKho gaya\\n\\nHo gaya hai tujhko to pyar sajna\\nLaakh kar le tu inakaar sajna\\nHo gaya hai tujhko to pyar sajna\\nLaakh kar le tu inakaar sajna\\nDiladaar sajna\\nHai yeh pyaar sajna\\nAa.aa.ho.aaâ€¦\\nHo gaya hai tujhko to pyar sajna\\nLaakh kar le tu inakaar sajna\\nDiladaar sajna\\nHai yeh pyaar sajna\\nDekha na tune\\nMudake bhi pichhe\\nKuch der to main ruka tha\\nJab dil ne tujh ko\\nRokana chaha\\nDoor tu ja chuka tha\\n\\nHua kya\\nNaa jaana\\nYeh dil kyon\\nDiwana\\nHo gaya hai tujhko to pyar sajna\\nLaakh kar le tu inakaar sajna\\nHo gaya hai tujhko to pyar sajna\\nLaakh kar le tu inakaar sajna\\nDiladaar sajna\\nHai yeh pyaar sajna\\nAye waqt ruk jaa\\nTham jaa thahar jaa\\nWapas jara daud pichhe\\nMain chhod aayi\\nKhud ko jahaan pe\\nWoh rah gaya mod pichhe\\nKahaan main\\nKahaan tu\\nYeh kaisa\\nHai jaadu\\nArrey Ho gaya hai tujhko to pyar sajna\\nLaakh kar le tu inakaar sajna\\nHo gaya hai tujhko to pyar sajna\\nLaakh kar le tu inakaar sajna\\nDiladaar sajna\\nHai yeh pyaar sajna\\nAa.aa.aa.aa\\nNa jaane mere\\nDil ko kya ho gaya\\nAbhi to yahin\\nTha abhi\\nKho gaya\\nHo gaya'], ['1995', 'HumkoSirfTumse.txt', 'Humko sirf tumse pyaar hai\\nHumko sirf tumse pyaar hai\\n\\nHumko sirf tumse pyaar hai\\nHumko sirf tumse pyaar hai\\nKeh rahi hai dil ki bekhudi\\nBas tumhara intezar hai\\nHumko sirf tumse pyaar hai\\nHumko sirf tumse pyaar hai\\n\\nDhoondhte hain hum tumko dar-ba-dar\\nJaane kab kahaan miloge humse humsafar\\nDhoondhte hain hum tumko dar-ba-dar\\nJaane kab kahaan miloge humse humsafar\\nKaisi dooriyan, kaisa faasla\\nHum yahaan pe aaye sun ke pyaar ki sada\\nAb na tumse door honge hum\\nTum pe dil kya jaan nisaar hai\\nTum pe dil kya jaan nisaar hai\\nHumko sirf tumse pyaar hai\\nHumko sirf tumse pyaar hai\\n\\nJaagte rahe hum to raat bhar\\nEk lamha ek pal bhi soyi na nazar\\nJaagte rahe hum to raat bhar\\nEk lamha ek pal bhi soyi na nazar\\nTum nigaah mein, tum khyaal mein\\nHaal hai bura hamara aise haal mein\\nYun to hum pe na karo sitam\\nHumko tum pe aitbar hai\\nHumko tum pe aitbar hai\\nKeh rahi hai dil ki bekhudi\\nBas tumhara intezar hai\\n\\nHumko sirf tumse pyaar hai\\nHumko sirf tumse pyaar hai\\nKeh rahi hai dil ki bekhudi\\nBas tumhara intezar hai\\nHumko sirf tumse pyaar hai\\nHumko sirf tumse pyaar hai'], ['1995', 'KehnaHiKya.txt', 'Gumsum gumsum gup chup, gumsum gup chup\\nGumsum gumsum gup chup, gumsum gup chup\\nHalchal halchal ho gayi teri, honth hai tere chup\\nKhalbal khalbal ho gayi teri, baithi hai tu gupchup\\nPyaare pyaare chehre lekar dediya ishaara\\nDekha teri aankhon mein hai sapna koi pyaara\\nHumse gori naa tu sharma, kehde humse zara\\nHumse gori naa tu sharma, kehde humse zara\\nKehna hi kya yeh nain ek anjaan se jo mile\\nChalne lage mohabbat ke jaise yeh silsile\\nArmaan naye aise dil mein khile,\\nJinko kabhi main naa jaanoon\\nVoh humse, hum unse kabhi naa mile,\\nKaise mile dil naa jaanoon\\nAb kya kare, kya naam le,\\nKaise unhe main pukaaroon\\nKehna hi kya yeh nain ek anjaan se jo mile\\nChalne lage mohabbat ke jaise yeh silsile\\nArmaan naye aise dil mein khile,\\nJinko kabhi main naa jaanoon\\nVoh humse, hum unse kabhi naa mile,\\nKaise mile dil naa jaanoon\\nAb kya kare, kya naam le,\\nKaise unhe main pukaaroon\\nPehli hi nazar mein kuch hum,\\nKuch tum ho jaate hai yun gum\\nNainon se barse rim jhim,\\nRim jhim humpe pyaar ka saavan\\nSharm thodi thodi humko aaye to nazarein jhuk jaayen\\nSitam thoda thoda humpe shok hawa bhi kar jaaye\\nAisi chali, aanchal ude, dil mein ek toofaan uthe\\nHum to lut gaye khade hi khade\\nKehna hi kya yeh nain ek anjaan se jo mile\\nChalne lage mohabbat ke jaise yeh silsile\\nArmaan naye aise dil mein khile,\\nJinko kabhi main naa jaanoon\\nVoh humse, hum unse kabhi naa mile,\\nKaise mile dil naa jaanoon\\nAb kya kare, kya naam le,\\nKaise unhe main pukaaroon\\nGumsum gumsum gup chup, gumsum gup chup\\nGumsum gumsum gup chup, gumsum gup chup\\nHalchal halchal ho gayi teri, honth hai tere chup\\nKhalbal khalbal ho gayi teri, baithi hai tu gupchup\\nPyaare pyaare chehre lekar dediya ishaara\\nDekha teri aankhon mein hai sapna koi pyaara\\nHumse gori naa tu sharma, kehde humse zara\\nHumse gori naa tu sharma, kehde humse zara\\nIn honthon ne maanga sargam,\\nSargam tu aur tera hi pyaar hai\\nAankhen dhoonde hai jisko har dam,\\nHar dam tu aur tera hi pyaar hai\\nMehfil mein bhi tanha hai dil aise, dil aise\\nTujhko kho naa de, darrta hai yeh aise, yeh aise\\nAaj mili aisi khushi, jhoom uthi duniya yeh meri\\nTumko paaya to paayi zindagi\\nKehna hi kya yeh nain ek anjaan se jo mile\\nChalne lage mohabbat ke jaise yeh silsile\\nArmaan naye aise dil mein khile,\\nJinko kabhi main naa jaanoon\\nVoh humse, hum unse kabhi naa mile,\\nKaise mile dil naa jaanoon\\nAb kya kare, kya naam le,\\nKaise unhe main pukaaroon\\nKehna hi kya yeh nain ek anjaan se jo mile\\nChalne lage mohabbat ke jaise yeh silsile\\nKehna hi kya'], ['1995', 'TujheDekhaToYe.txt', 'Tujhe dekha..\\nToh yeh jaana sanam..\\nPyaar hota hai\\nDeewana.. sanam..\\nTujhe dekha toh yeh jaana sanam..\\nAa..a..\\nTujhe dekha toh yeh jaana sanam\\nPyaar hota hai deewana sanam\\nTujhe dekha toh yeh jaana sanam\\nPyaar hota hai deewana sanam\\nAb yaha se kaha jaye, hum\\nTeri bahon mein mar jaye hum\\nTujhe dekha toh yeh jaana sanam..\\n(Aa..aa..)\\nLa la la la la..\\nLa la la la la..\\nLa la la la la.. la la la..\\nAankhe meri\\nSapne tere\\nDil mera yaadein teri\\nO mera hai kya (la la la)\\nSab kuchh tera (la la la)\\nJaan teri sanse teri (Male)\\nMeri aankho mein aansu tere aa gaye\\nMuskurane lage sare gham\\nTujhe dekha toh yeh jaana sanam\\nPyaar hota hai deewana sanam\\nAb yaha se kaha jaye hum\\nTeri baho me mar jaye hum\\nTujhe dekha toh yeh jaana sanam\\n(Aa..a..)\\nYeh dil kahin\\nLagta nahin\\nKya kahu main kya karu\\nHaan tu saamne (la la la)\\nBaithi rahe (la la la)\\nMain tujhe dekha karu\\nTu ne awaz di\\nDekh main aa gayi\\nPyaar se hai badi kya kasam..\\nTujhe dekha toh yeh jaana sanam\\nPyaar hota hai deewana sanam\\nAb yaha se kaha jaye hum\\nTeri bahon mein mar jaye hum\\n(Aa... a..)\\nTeri bahon mein mar jaye hum\\n(Aa.. a..aa.. )'], ['2000', 'AapKaAanaDilDhadkana.txt', 'La la la hey.. la la la heyâ€¦..\\nLa la la la la, la la la la laâ€¦..\\n\\nChandmahiya chandmahiya\\nDol nagare baje\\nChandmahiya\\nChandmahiya chandmahiya\\nTu mera kya lage\\nChandmahiya\\n\\nAap ka aana dil dhadkana\\nMmehandee lagake yu sharmana\\nAap ka aana dil dhadkana\\nMmehandee lagake yu sharmana\\nPyar aa gaya re, pyar aa gaya\\nPyar aa gaya re, pyar aa gaya\\n\\nAap ka aana dil dhadkana\\nMehandee lagake yun sharmana\\nPyar aa gaya re, pyar aa gaya\\nPyar aa gaya re, pyar aa gaya\\n\\noh, oh oh, oh oh, oh oh ohâ€¦â€¦.\\nKyun hota hai dil divana\\nAaj yeh hamne jana\\nPyar aa gaya re, pyar aa gaya\\nPyar aa gaya re, pyar aa gaya\\n\\nAap ka aana dil dhadkana\\nDalke dana mujhe satana\\nPyar aa gaya re, pyar aa gaya\\nPyar aa gaya re, pyar aa gaya\\n\\nOh, oh oh, oh oh oh..\\nMilee jo najar, huwa yeh asar\\nYeh dil gum huwa, arre bekhabar\\nMilee jo najar, huwa yeh asar\\nYeh dil gum huwa, arre bekhabar\\n\\nChhupee hai shararat tere pyar me\\nDil har baithe pehalee bar me\\nPal me apna kyun\\nHo jata hai koyee begana\\nPyar aa gaya re, pyar aa gaya\\nPyar aa gaya re, pyar aa gaya\\n\\nAap ka aana dil dhadkana,\\nMehndi lagake yu sharmana\\nPyar aa gaya re, pyar aa gaya\\nPyar aa gaya re, pyar aa gaya\\n\\nChandmahiya chandmahiya\\nDol nagare baje\\nChandmahiya\\nChandmahiya chandmahiya\\nTu mera kya lage\\nChandmahiya\\n\\nTere pyar ka nasha chha gaya\\nMilee woh saja, maja aa gaya\\nTere pyar ka nasha chha gaya\\nMilee woh saja, maja aa gaya\\n\\nBaato ne teree jadu kiya,\\nBan baitha too meraa piya\\nKhan khan bole\\nChudee meree dolee leke aana\\nPyar aa gaya re, pyar aa gaya\\nPyar aa gaya re, pyar aa gaya\\n\\nAap ka aana dil dhadkana,\\nMehndi lagake yu sharmana\\nPyar aa gaya re, pyar aa gaya\\nPyar aa gaya re, pyar aa gaya'], ['2000', 'ChoriChoriSapnoMein.txt', 'Chori Chori Sapnon Mein Aata Hai Koi\\nSaari Saari Raat Jagaata Hai Koi\\nDil Mera Dil Bekaraar Ho Gaya\\nDil Mera Dil Bekaraar Ho Gaya\\nAisa Lagta Hai Mujhe Pyaar Ho Gaya\\nChori Chori Sapnon Mein Aata Hai Koi\\nSaari Saari Raat Jagaata Hai Koi\\nDil Mera Dil Bekaraar Ho Gaya\\nDil Mera Dil Bekaraar Ho Gaya\\nAisa Lagta Hai Mujhe Pyaar Ho Gaya\\nChori Chori Sapnon Mein Aata Hai Koi\\nSaari Saari Raat Jagaata Hai Koi\\nAa... A... A...A....\\nBehke Behke Kadam Hain Pehla Pehla Nasha Hai\\nJaane Kya Ho Gaya Hai Kuchh Mujhe Na Pata Hai\\nApni Deewangi Ka Haal Kaise Sunaoon\\nHo Raha Dil Mein Kya Kya Kaise Usko Bataoon\\nKaise Usko Bataoon\\nDheere Dheere Dard Badhaata Hai Koi\\nHaule Haule Mujhe Tadpaata Hai Koi\\nDheere Dheere Dard Badhaata Hai Koi\\nHaule Haule Mujhe Tadpaata Hai Koi\\nDil Meraâ€¦'], ['2000', 'Deewane.txt', 'Kitni mohabbat kisko kaun yaha karta hai\\nYeh koi bhi naa jaane\\nDeewane, pyaar ke hain hum deewane\\nDeewane, pyaar ke hain hum deewane\\nNa maane, pyaar ke bin dil naa maane\\n\\nDuniya mein kya hain, dhoka hi dhoka\\nMujhko to bas hain tujhpe bharosa\\nZulfon ke saaye, resham si baahen\\nTere liye hain, meri vafaayen\\nShamma hain deewani, voh naa kabhi samjhegi\\nKyoon jhalte hain parwaane\\nDeewane, pyaar ke hain hum deewane\\nNa maane, pyaar ke bin dil naa maane\\n\\nAaya hain mausam dil ki lagi ka\\nAalam naa poocho deewangi ka\\nNaa hosh hain naa mujhko khabar hain\\nYeh sab teri chaahat ka asar hain\\nSard hawaa ke jhoken dekho is rut mein bhi\\nMujhe aaye hain jhalaane\\nDeewane, pyar ke hain hum deewane\\nNa maane, pyaar ke bin dil naa maane\\n\\nKitni mohabbat kisko kaun yaha karta hain\\nYeh koi bhi naa jaane\\nDeewane, pyaar ke hain hum deewane\\nDeewane, pyaar ke hain hum deewane'], ['2000', 'DilToteToteHoGaya.txt', 'Ankhiyaan Ladi Hoon Ladi Beech Bazaar\\nDil Mera Loot Gaya Pehli Baar\\nAnkhiyaan Ladi Hoon Ladi Beech Bazaar\\nDil Mera Loot Gaya Pehli Baar\\nUsko Bulaaya Maine Kitni Baar\\nAaya Ni Chandra Ekvi Baar\\nTote Tote Ho Gaya Dil Tote Tote Ho Gaya\\nTote Tote Ho Gaya Dil Tote Tote Ho Gaya\\nOh Chal Kudiye Ni Chal Haan Tayaar\\nKehna Padega Nahin Ab Ke Baar\\nChal Kudiye Ni Chal Haan Tayaar\\nKehna Padega Nahin Ab Ke Baar\\nTote Tote Ho Gaya Dil Tote Tote Ho Gaya\\nTote Tote Ho Gaya Dil Tote Tote Ho Gaya\\nSoniyaa Soniyaa, Hai Hai Hai Re Man Moniyaa\\nGal Sun Le Tujhe Meri Jaan Ki Kasam, Soniyaa\\nTu Jaan Meri Soni Soni\\nTere Bal Ki Haur Nahin Honi\\nTainu Haske Maar Gayi Oye Hoye,\\nBadi Zaalim Teri Adaa\\nOye Hoye Hoye Barson Kiya Re Maine Tera Intezaar\\nTab Naa Kiya Tune Ikraar\\nBarson Kiya Re Maine Tera Intezaar\\nTab Naa Kiya Tune Ikraar\\nTote Tote Ho Gaya Dil Tote Tote Ho Gaya\\nTote Tote Ho Gaya Dil Tote Tote Ho Gaya\\nSoniye Soniye, Aaye Hai Hai Ni Man Moniye\\nGal Sun Le Tujhe Meri Jaan Ki Kasam, Soniye\\nSaawan Mein Kaha Tha Aaoonga,\\nSone Ke Kangan Laaoonga\\nNa Tu Aaya Na Tere Kangan,\\nKayi Beet Gaye Mausamj\\nOye Hoye Kangan Kangan Naa Kar Yaar\\nKangan Ke Sang Laaya Haar\\nChal Kudiye Chal Haan Tayaar\\nKehna Padega Nahin Ab Ke Baar\\nTote Tote Ho Gaya Dil Tote Tote Ho Gaya\\nTote Tote Ho Gaya Dil Tote Tote Ho Gaya\\nNa Nasha Karo, Na War Karo\\nKarna Hai Agar To Pyaar Karo\\nNa Nasha Karo, Na War Karo\\nKarna Hai Agar To Pyaar Karo\\nMushkil Se Milta Hai Jeevan\\nKya Tumko Nahin Pataa\\nOye Hoye Hoye Karlo Tauba Sau Sau Baar\\nKehte Phiroge Varna Yaar\\nKarlo Tauba Sau Sau Baar\\nKehte Phiroge Varna Yaar\\nTote Tote Ho Gaya Dil Tote Tote Ho Gaya\\nTote Tote Ho Gaya Dil Tote Tote Ho Gaya\\nTote Tote Ho Gaya Dil Tote Tote Ho Gaya\\nTote Tote Ho Gaya Dil Tote Tote Ho Gaya\\nTote Tote Ho Gaya Dil Tote Tote Ho Gaya\\nTote Tote Ho Gaya Dil Tote Tote Ho Gaya\\nTote Tote Ho Gaya Dil Tote Tote Ho Gaya\\nTote Tote Ho Gaya Dil Tote Tote Ho Gaya.'], ['2000', 'HumkoHumiSeChuraLo.txt', 'Aaaa aaa aaa\\nHumko humise chura lo, dil mein kahin tum chhupa lo \\nHumko humise chura lo, dil mein kahin tum chhupa lo \\nHum akele kho naa jaaye, door tumse ho naa jaaye\\nPaas aao gale se lagaa lo\\n \\nHumko humise chura lo, dil mein kahin tum chhupa lo\\nHum akele kho naa jaaye, door tumse ho naa jaaye\\nPaas aao gale se lagaa lo\\n \\nHumko humise chura lo\\n \\nDil mein kahin tum chhupa lo\\n \\nAaa aaa aa, la la la la la\\n \\nYeh dil dhadka do, zulfen bikhraa do\\nSharmaake apna, aanchal lehraa do\\n \\nHum zulfen to bikhraa de, din mein raat na ho jaaye\\nHum aanchal to lehraa de, par barsaat na ho jaaye\\n \\nHone do barsaatein, karni hain kuch baatein\\n \\nPaas aao gale se lagaa lo\\n \\nHumko humise chura lo, dil mein kahin tum chhupa lo\\n \\nHum akele kho naa jaaye, door tumse ho naa jaaye\\n \\nPaas aao gale se lagaa lo\\n \\nHumko humise chura lo\\n \\nDil mein kahin tum chhupa lo\\n \\nAa aa aaa aaa aa, la la la la laa\\n \\nTumpe marte hain, hum mar jaayenge\\nYeh sab kehte hain, hum kar jaayenge\\n \\nChupki bhar sindoor se tum ab yeh maang zara bhar do\\nKal kya ho kisne dekha, sab kuch aaj abhi kar do\\n \\nHona ho sab raazi, dil raazi, rab raazi\\n \\nPaas aao gale se lagaa lo\\n \\nHumko humise chura lo, dil mein kahin tum chhupa lo\\n \\nOooo, humko humise chura lo, dil mein kahin tum chhupa lo\\n \\nHum akele ho naa jaaye, door tumse ho naa jaaye\\n \\nPaas aao gale se lagaa lo\\nPaas aao gale se lagaa lo\\n \\nLa la la, hmm hmm'], ['2005', 'AashiqBanayaApne.txt', 'Ho......\\nAashiq Banaya\\nAashiq Banaya\\nAashiq Banaya Aapne\\nAashiq Banaya\\nAashiq Banaya\\nAashiq Banaya Aapne\\nTere Bin Suni Suni Hain Baahein\\nTere Bin Pyaasi Pyaasi Nigaahein\\nTere Bin Bin Asar Meri Aahein Tere Bin\\nAashiq Banaya\\nAashiq Banaya\\nAashiq Banaya Aapne\\nAashiq Banaya\\nAashiq Banaya\\nAashiq Banaya Aapne\\nTere Bin Lamha Lamha Sataye\\nTere Bin Bekarari Jalaye\\nTere Bin Chain Mujhko Naa Aaye Tere Bin\\nTere Bin Lamha Lamha Sataye\\nTere Bin Bekarari Jalaye\\nTere Bin Chain Mujhko Naa Aaye Tere Bin\\nMeri Nigaahon Mein Tera Chehra Rawaa Hain\\nGehre Hain Armaan Jaane Ja Pagal Samaa Hain\\nMeri Nigaahon Mein Tera Chehra Rawaa Hain\\nGehre Hain Armaan Jaane Ja Pagal Samaa Hain\\nApni Daayre Se Toh Main Chutne Lagi Hu\\nTere Baajuo Mein Aake Tootne Lagi Hu\\nApni Daayre Se Toh Main Chutne Lagi Hu\\nTere Baajuo Mein Aake Tootne Lagi Hu\\nTere Bin Jeena Nahi Hain Gawara\\nTere Bin Dil Ka Nahi Hain Gujara\\nTere Bin Kaun Apna Sahaara Tere Bin\\nAashiq Banaya\\nAashiq Banaya\\nAashiq Banaya Aapne\\nBechainiyo Ka Faaslo Ka Silsila Hain\\nDardejigar Ka Yeh Sabab Humko Mila Hain\\nBechainiyo Ka Faaslo Ka Silsila Hain\\nDardejigar Ka Yeh Sabab Humko Mila Hain\\nBetaabiyo Ne Humko Choor Kar Diya Hain\\nPass Aane Pe Majboor Kar Diya Hain\\nBetaabiyo Ne Humko Choor Kar Diya Hain\\nPass Aane Pe Majboor Kar Diya Hain\\nTere Bin Raat Kat Ti Nahi Hain\\nTere Bin Pyas Mit Ti Nahi Hain\\nTere Bin Doori Ghat Ti Nahi Hain\\nTere Bin\\nAashiq Banaya\\nAashiq Banaya\\nAashiq Banaya Aapne\\nAashiq Banaya\\nAashiq Banaya\\nAashiq Banaya Aapne\\nTere Bin Suni Suni Hain Baahein\\nTere Bin Pyaasi Pyaasi Nigaahein\\nTere Bin Bin Asar Meri Aahein Tere Bin\\nTere Bin Lamha Lamha Sataye\\nTere Bin Bekarari Jalaye\\nTere Bin Chain Mujhko Naa Aaye Tere Bin\\nTere Bin'], ['2005', 'DheereJalna.txt', 'Dhire-Dhire, Dhire-Dhire, Dhire Jalna\\nZindagi Ki Lau Par Jalna\\nKaanch Ka Sapna Gal Hi Na Jaaye\\nSoch-Samjh Ke Aanch Par Rakhna\\nDhire Jalna, Dhire Jalna, Dhire Jalna...\\n\\nHona Hai Jo, Hona Hai Wo, Hone Se To Rukhta Nahin,\\nAasma To Jhukta Nahin\\nTere Rup Ki Halki Dhoop Me\\nDo Hi Pal Hai... Jeene Hai\\nTeri Aankh Me Dekh Chuka Hun\\nWo Sapne Hai.. Seene Hai\\nAankho Me Sapno Ki Kirche Hai Chubhti Hai\\nDhire Jalna, Dhire Jalna, Dhire Jalna...\\n\\nHona Hai Jo, Hona Hai Wo Hone Se To Rukhta Nahin,\\nAasma To Jhukta Nahin\\nSocha Na Tha Zindgi Aise Phir Se Milegi\\nJeene Ke Liye\\nAankho Ko Pyaas Lagegee Apne Hi Aansu\\nPeene Ke Liye\\n\\nDhire-Dhire, Dhire-Dhire, Dhire Jalna\\n\\nZindagi Ki Lau Par Jalna\\nKaanch Ka Sapna Gal Hi Na Jaaye\\nSoch-Samjh Ke Aanch Rakhna\\n\\nDhire Jalna, Dhire Jalna, Dhire Jalna...\\nHona Hai Jo, Hona Hai Wo, Hone Se To Rukhta Nahin,\\nAasma To Jhukta Nahinâ€¦'], ['2005', 'DusBahane.txt', 'Say Here now here now, everybody put your hands up in the air now\\nSay here now here now everybody put ur hands all up n see\\nuski aankhon mein baatein, baaton mein jadoo\\nsay here now here now\\nuski aankhon mein baatein, baaton mein jadoo\\njadoo mein kho gaye hum hogaye beqabu\\ni looked at you, you looked at me\\naur hogayi mushkil\\nand you became my destiny tuhi meri manzil\\ndus bahane karke legaye dil legaye dil\\ndus bahane karke legaye dil\\ndus bahane karke legaye dil legaye dil\\ndus bahane karke legaye dil\\n\\nSay Here now here now, everybody put your hands up in the air now\\nSay here now here now everybody put your hands all up n see\\nYeh dil topehle aisa nahin tha\\nkisne behkaya aisa sapna dikhaya kyun\\nyeh aankhein meri dekhe ussi ko\\nsoche bina hi usse apna banaya kyun\\njeena to marne se ab hai kahi mushkil\\nkhudko jo khoya to woh hogaya haasil\\ndus bahane karke legaye dil legaye dil\\ndus bahane karke legaye dil\\ndus bahane karke legaye dil legaye dil\\ndus bahane karke legaye dil\\n\\nHere now here now, everybody put your hands up in the air now\\nhere now here now everybody put your hands up in the air\\nkisne kisiko haske bulaya\\nbaatein banake koi jadooo sa chalaya tha\\nbas dekha dekhi dil se hui thi\\nduniya bhulake koi aaise dil pe chaya tha\\nkiske bin kya hoga yeh kh sake na dil\\nkhudko yeh samjhana ab ho gaya mushkil\\ndus bahane karke legaye dil legaye dil\\ndus bahane karke legaye dil\\ndus bahane karke legaye dil legaye dil\\ndus bahane karke legaye dil\\n\\nuski aankhon mein baatein, baaton mein jadoo\\njadoo mein kho gaye hum hogaye beqabu\\ni looked at you, you looked at me\\naur hogayi mushkil\\nand you became my destiny tuhi meri manzil\\ndus bahane karke legaye dil legaye dil\\ndus bahane karke legaye dil\\ndus bahane karke legaye dil legaye dil\\ndus bahane karke legaye dil\\ndus bahane karke legaye dil legaye dil\\ndus bahane karke legaye dil'], ['2005', 'KastoMazza.txt', 'Kasto mazza hai lelaima Ramailo o kaali odhali\\nYeh hawayein gungunaein poochhe tu hai kahan\\nTu hai phoolon mein kaliyon mein\\nYa mere khwabon ki galiyon mein\\nTu hai phoolon mein kaliyon mein\\nYa mere khwabon ki galiyon mein\\nYeh hawayein gungunaein poochhe tu hai kahan\\nTu hai phoolon mein kaliyon mein\\nYa mere khwabon ki galiyon mein\\nDharti sajji ambar sajja jaise koi sapna Isme ho ghar o humsafar tera mera apna\\nDharti sajji ambar sajja jaise koi sapna Isme ho ghar o humsafar tera mera apna\\nSuna tere bina khwabon ka yeh makaam Aa bhi jao, aao na\\nKasto mazza hai lelaima\\nRamailo o kaali odhali\\nYeh hawayein gungunaein poochhe tu hai kahan\\nTu hai phoolon mein kaliyon mein\\nYa mere khwabon ki galiyon mein\\nO re piya sun bole jiya dil mein yunhi rehna\\nKhushi mere gham saare tumse sanam tuhi dil ka gehna\\nKhwabon ki raahon par khushiyon ka karwan\\nAa bhi jao, aao na\\nKasto mazza hai lelaima\\nRamailo o kaali odhali\\nKasto mazza hai lelaima\\nRamailo o kaali odhali\\nYeh hawayein gungunaein poochhe tu hai kahan\\nTu hai phoolon mein kaliyon mein\\nYa mere khwabon ki galiyon mein\\nYeh hawayein gungunaein poochhe tu hai kahan\\nKasto mazza hai lelaima\\nRamailo o kaali odhali\\nYeh hawayein gungunaein poochhe tu hai kahan\\nTu hai phoolon mein kaliyon mein\\nYa mere khwabon ki galiyon mein\\nTu hai phoolon mein kaliyon mein\\nYa mere khwabon ki galiyon mein\\nYeh hawayein gungunaein poochhe tu hai kahan\\nTu hai phoolon mein kaliyon mein\\nYa mere khwabon ki galiyon mein\\nDharti sajji ambar sajja jaise koi sapna Isme ho ghar o humsafar tera mera apna\\nDharti sajji ambar sajja jaise koi sapna Isme ho ghar o humsafar tera mera apna\\nSuna tere bina khwabon ka yeh makaam Aa bhi jao, aao na\\nKasto mazza hai lelaima\\nRamailo o kaali odhali\\nYeh hawayein gungunaein poochhe tu hai kahan\\nTu hai phoolon mein kaliyon mein\\nYa mere khwabon ki galiyon mein\\nO re piya sun bole jiya dil mein yunhi rehna\\nKhushi mere gham saare tumse sanam tuhi dil ka gehna\\nKhwabon ki raahon par khushiyon ka karwan\\nAa bhi jao, aao na Kasto mazza hai lelaima\\nRamailo o kaali odhali\\nKasto mazza hai lelaima\\nRamailo o kaali odhali\\nYeh hawayein gungunaein poochhe tu hai kahan\\nTu hai phoolon mein kaliyon mein\\nYa mere khwabon ki galiyon mein\\nYeh hawayein gungunaein poochhe tu hai kahan\\nKasto mazza hai lelaima\\nRamailo o kaali odhali\\nYeh hawayein gungunaein poochhe tu hai kahan\\nTu hai phoolon mein kaliyon mein\\nYa mere khwabon ki galiyon mein\\nTu hai phoolon mein kaliyon mein\\nYa mere khwabon ki galiyon mein\\nYeh hawayein gungunaein poochhe tu hai kahan\\nTu hai phoolon mein kaliyon mein\\nYa mere khwabon ki galiyon mein\\nDharti sajji ambar sajja jaise koi sapna Isme ho ghar o humsafar tera mera apna\\nDharti sajji ambar sajja jaise koi sapna Isme ho ghar o humsafar tera mera apna\\nSuna tere bina khwabon ka yeh makaam Aa bhi jao, aao na\\nKasto mazza hai lelaima\\nRamailo o kaali odhali\\nYeh hawayein gungunaein poochhe tu hai kahan\\nTu hai phoolon mein kaliyon mein\\nYa mere khwabon ki galiyon mein\\nO re piya sun bole jiya dil mein yunhi rehna\\nKhushi mere gham saare tumse sanam tuhi dil ka gehna\\nKhwabon ki raahon par khushiyon ka karwan\\nAa bhi jao, aao na\\nKasto mazza hai lelaima\\nRamailo o kaali odhali\\nKasto mazza hai lelaima\\nRamailo o kaali odhali\\nYeh hawayein gungunaein poochhe tu hai kahan\\nTu hai phoolon mein kaliyon mein\\nYa mere khwabon ki galiyon mein\\nYeh hawayein gungunaein poochhe tu hai kahan\\nKasto mazza hai lelaima\\nRamailo o kaali odhali\\nYeh hawayein gungunaein poochhe tu hai kahan\\nTu hai phoolon mein kaliyon mein\\nYa mere khwabon ki galiyon mein\\nTu hai phoolon mein kaliyon mein\\nYa mere khwabon ki galiyon mein\\nYeh hawayein gungunaein poochhe tu hai kahan\\nTu hai phoolon mein kaliyon mein\\nYa mere khwabon ki galiyon mein\\nDharti sajji ambar sajja jaise koi sapna Isme ho ghar o humsafar tera mera apna\\nDharti sajji ambar sajja jaise koi sapna Isme ho ghar o humsafar tera mera apna\\nSuna tere bina khwabon ka yeh makaam Aa bhi jao, aao na\\nKasto mazza hai lelaima\\nRamailo o kaali odhali\\nYeh hawayein gungunaein poochhe tu hai kahan\\nTu hai phoolon mein kaliyon mein\\nYa mere khwabon ki galiyon mein\\nO re piya sun bole jiya dil mein yunhi rehna\\nKhushi mere gham saare tumse sanam tuhi dil ka gehna\\nKhwabon ki raahon par khushiyon ka karwan\\nAa bhi jao, aao na\\nKasto mazza hai lelaima\\nRamailo o kaali odhali\\nKasto mazza hai lelaima\\nRamailo o kaali odhali\\nYeh hawayein gungunaein poochhe tu hai kahan\\nTu hai phoolon mein kaliyon mein\\nYa mere khwabon ki galiyon mein\\nYeh hawayein gungunaein poochhe tu hai kahan'], ['2005', 'Roobaroo.txt', 'Aye Saala\\nAbhi Abhi Huaa Yaqeen Ki Aag Hai Mujh Mein Kahi\\nHui Subaah Main Jal Gaya\\nSuraj Ko Main Nigal Gaya\\nRuu-Ba-Ruu Roshni Heyy...\\nRuu-Ba-Ruu Roshni Heyy...\\nJo Gumshuda-Sa Khwaab Tha\\nWoh Mil Gaya Woh Khil Gaya\\nUulon Hathaa Pighal Gaya\\nKichhaa Kichhaa Machal Gaya\\nSitaar Mein Badal Gaya\\nRuu-Ba-Ruu Roshni Heyy...\\nRuu-Ba-Ruu Roshni Heyy...\\nDhuaan Chhataa Khula Gagan Mera\\nNayi Dagar Naya Safar Mera\\nJo Ban Sake Tu Hamsafar Mera\\nNazar Mila Zara\\nDhuaan Chhataa Khula Gagan Mera\\nNayi Dagar Naya Safar Mera\\nJo Ban Sake Tu Hamsafar Mera\\nNazar Mila Zara\\nAandhiyon Se Jaghad Rahi Hai Lau Meri\\nAb Mashaalon Si Bhad Rahi Hai Lau Meri\\nNaamo Nishaan Rahe Na Rahe\\nYe Kaaravaan Rahe Na Rahe\\nUjaale Mein Pee Gaya\\nRoshan Huaa Jee Gaya\\nKyon Sehte Rahe\\nRuu-Ba-Ruu Roshni Heyy...\\nRuu-Ba-Ruu Roshni Heyy...\\nDhuaan Chhataa Khula Gagan Mera\\nNayi Dagar Naya Safar Mera\\nJo Ban Sake Tu Hamsafar Mera\\nNazar Mila Zara\\nRuu-Ba-Ruu Roshni Heyy...\\nRuu-Ba-Ruu Roshni Heyy...\\nAye Saala...\\nAye Saala...\\nAye Saala...'], ['2010', 'BadeDilWala.txt', \"Ho sher ka hai saala, jigar matwaala\\nSher ka hai saala, jigar matwaala\\nHo jisne hai jaadu kar daala\\nTez daar se do naina\\nNau jawan ka kya kehna\\nShoor veer arjun ka sarbala\\nBadey dilwala\\nJo khole har taala\\nBadey dilwala\\nAmeeron ka diwala\\nBadey dil daar haar baar maar daala\\nBadey dilwala\\nDo agan mein\\nhum pagal mein\\nDil sambhal ke hai girta\\nAise bal kya, paun se bal hai\\nDeep trouble mein dil padta\\nKya masoo hai, ke masal ke dil pe dil hai marta\\nChaati pe hai jiske til kaala\\nBadey dilwala\\nBanungi tujh bala\\nBadey dilwala\\nHaye dalungi varmala\\nBadey dil daar chaar baar maar daala\\nBadey dilwala\\nuuyeh....\\nAayeo aayeo re, aayeo aayeo re..\\nsher ka hai saala, jigar matwaala\\nHo jisne hai jaadu kar daala\\nJai jawan krantikaari\\nDushmano pe jo hai bhaari\\nShoor veer dharti ka rakhwala\\nBadey dilwala\\nTirange ko sambhala\\nBadey dilwala\\nBadey dil daar chaar baar maar daala\\nBadey dilwala\\nAaya hoon main jo yahan pe\\nHongi khushiyan dher saari\\nBann ke khwaabon ki sawari\\nAayagi re railgaadi\\nMera saaya jo saath ho\\nDarrne ki phir na baat ho\\nSankat bhi dhum daba ke bhaaga re bhaaga\\nPhoolon ki jo baaraat ho\\nUnki langot haath ho\\nJaise ke Robinhood ka taaga\\nMera yeh bol balaaaa\\nBadey dilwala\\nJo khole har taala\\nBadey dilwala\\nAmeeron ka diwala\\nBadey dil daar chaar baar maar daala\\nBadey dilwala\\nI'm feeling freaky freaky, I'm feeling naughty naughty\\nThe way you looking at me, you got me moving my body\\nI'm feeling freaky freaky, I'm feeling naughty naughty\\nThe way you looking at me, you got me moving my body\\nvolume dhadkan ka badhne laga hai\\nFever sa jaise chadne laga hai, chadne laga hai\\nFor the first time dil jagne laga hai\\nKhud ki feeling se darne laga hai, darne laga hai\\nHaan ab toh paper mein gossip yeh chapne laga hai\\nKe tu hai Yusuf main hoon Madhubala, badey dilwala\\nJaise ho talka yeh jin ho, aise wonder yeh karta\\nJaise kharche aasman yeh waise thunder hai karta\\nAise zulmi pe girega, jaise hunter hai padhta\\nDynamite ka jaise ho masala\\nBadey dilwala\\nYeh hero hai neeraala\\nBadey dilwala\\nHai heart mein jaise jwala\\nBadey dil daar chaar baar maar daala\\nBadey dilwala\\nRe dilwala, dilwala\\nBadey dilwala\\nBadey dilwala\\nBadey dilwala\\nAmeeron ka diwala\\nBadey dil daar chaar baar maar daala\\nBadey dilwala\\nRe dilwala, dilwala\\nBadey dilwala\\nYeh hero hai neeraala\\nBadey dilwala\\nBadey dilwala, dilwala\\nBadey dil daar chaar baar maar daala\\nBadey dilwala\\nBadey dilwala\\nBadey dilwala\"], ['2010', 'MereBina.txt', 'Mere bina main rehne laga hoon\\nTeri hawa mein behne laga hoon\\nJaane main kaise, tera hua hoon\\nMujhe toh lagta hai main shayad tere dil ki dua hoon haan\\nTujhko jo paaya aha\\nToh jeena aaya\\nAb yeh lamha thehar jaaye tham jaaye bas jaaye hum dono ke darmiyaan\\nTujhko jo paaya aha\\nToh jeena aaya\\nAb yeh lamha thehar jaaye tham jaaye bas jaaye hum dono ke darmiyaan\\nPehle se zyada\\nMain jee raha hoon\\nJabse main tere, dil se jura hoon\\nRaahon pe teri, main toh chala hoon\\nTu meri manzil hai tere kadmon pe bas rukne laga hoon haan\\nTujhko jo paaya (tujhko jo paaya) aha\\nToh jeena aaya (jeena aaya)\\nAb yeh lamha thehar jaaye tham jaaye bas jaaye hum dono ke darmiyaan\\nTujhko jo paaya (tujhko jo paaya) aha\\nToh jeena aaya\\nAb yeh lamha thehar jaaye tham jaaye bas jaaye hum dono ke darmiyaan\\nTeri nazar mein nayi si adaa hai\\nNaya sa nasha bhi ghula hai\\nKayi dino se bandha tha baadal jo\\nTere hi baalon mein khula hai\\nTeri haddon mein, meri basar hai\\nAb tujhe bhi, jaana kidhar hai\\nJahan rahe tu, main woh jahan hoon\\nJise jiye tu, main woh samaa hoon\\nTeri wajah se, naya naya hoon\\nPehle kaha na maine ab ye tumse kehne laga hoon\\nTujhko jo paaya (tujhko jo paaya) aha\\nToh jeena aaya (jeena aaya)\\nAb yeh lamha thehar jaaye tham jaaye bas jaaye hum dono ke darmiyaan\\nTujhko jo paaya (tujhko jo paaya) aha\\nToh jeena aaya\\nAb yeh lamha thehar jaaye tham jaaye bas jaaye hum dono ke darmiyaan'], ['2010', 'PeeLoon.txt', 'Pee Loon Tere Neelay Neelay Nainon Se Shabnam\\nPee Loon Tere Geelay Geelay Hoto Ki Sargam\\nPee Loon Hai Peenay Ka Mausam\\nTere Sang Ishq Taari Hai\\nTere Sang Ik Khumari Hai\\nTere Sang Chain Bhi Mujhko\\nTere Sang Bekraari Hai\\nTere Sang Ishq Taari Hai\\nTere Sang Ik Khumari Hai\\nTere Sang Chain Bhi Mujhko\\nTere Sang Bekraari Hai\\nTere Bin Jee Nahi Lagda, Tere Bin Jee Nahi Sakda\\nTujhpe Hai Haare Maine Vaare Do Jahan,\\nKurbaan, Meharbaan, Ke Main Toh Kurbaan\\nSun Le Zara, Tera Kurbaan\\nHosh Mein Rahun Kyun Aaj Main\\nTu Meri Baahon Mein Simti Hai, Mujh Mein Samayi Hai Yun\\nJis Tarah Ki Koi Hum Nadi, Tu Mere Seenay Mein Chupti Hai Sagar Tumhara Main Hoon\\nPee Loon Teri Dheemi Dheemi Lehron Ki Cham Cham\\nPee Loon Teri Saundi Saundi Saanson Ko Har Dum\\nPee Loon Hai Peenay Ka Mausam\\nTere Sang Ishq Taari Hai\\nTere Sang Ik Khumari Hai\\nTere Sang Chain Bhi Mujhko\\nTere Sang Bekraari Hai\\nTere Sang Ishq Taari Hai\\nTere Sang Ik Khumari Hai\\nTere Sang Chain Bhi Mujhko\\nTere Sang Bekraari Hai\\nShaam Ko Milun Jo Main Tujhe\\nToh Bura Subah Na Jaane Tu Kuch Maan Jaati Hai Yeh\\nHar Lamha, Har Gadi Har Pehar\\nHi Teri Yaadon Se Tadpa Ke Mujhko Jalati Hai Yeh\\nPee Loon Main Dheere Dheere Jalne Ka Yeh Gumm\\nPee Loon Inn Gore Gore Haanthon Se Hum Dum\\nPee Loon Hai Peenay Ka Mausam\\nTere Sang Ishq Taari Hai\\nTere Sang Ik Khumari Hai\\nTere Sang Chain Bhi Mujhko\\nTere Sang Bekraari Hai\\nTere Sang Ishq Taari Hai\\nTere Sang Ik Khumari Hai\\nTere Sang Chain Bhi Mujhko\\nTere Sang Bekraari Hai\\nTere Bin Jee Nahi Lagda, Tere Bin Jee Nahi Sakda\\nTujhpe Hai Haare Maine Vaare Do Jahan,\\nKurbaan, Meharbaan, Ke Main Toh Kurbaan\\nSun Le Zara, Tera Kurbaan\\n'], ['2010', 'TereMastMastDoNain.txt', 'Taakte rehte tujhko saanjh savere\\nNainon mein haye\\nNainon mein haye\\nTaakte rehte tujhko saanjh savere\\nNainon mein bansiya jaise nain yeh tere\\nNainon mein bansiya jaise nain yeh tere\\nTere mast mast do nain\\nMere dil ka le gaye chain\\nMere dil ka le gaye chain\\nTere mast mast do nain\\nTere mast mast do nain\\nMere dil ka le gaye chain\\nMere dil ka le gaye chain\\nTere mast mast do nain\\nPehle pehal tujhe dekha toh dil mera dhadka haye dhadka dhadka haye\\nPehle pehal tujhe dekha toh dil mera dhadka haye dhadka dhadka haye\\nJal jal utha hoon main shola jo pyaar ka, bhadka haye bhadka bhadka haye\\nNeendhon mein gul gaye hain sapne jo tere\\nBadle se lag rahe hain andaaz mere\\nBadle se lag rahe hain andaaz mere\\nTere mast mast do nain\\nMere dil ka le gaye chain\\nMere dil ka le gaye chain\\nTere mast mast do nain\\nTere mast mast do nain\\nMere dil ka le gaye chain\\nMere dil ka le gaye chain\\nTere mast mast do nain\\nMaahi be-aap sa, dil yeh betaab sa, tadpa jaaye tadpa tadpa jaaye\\nMaahi be-aap sa, dil yeh betaab sa, tadpa jaaye tadpa tadpa jaaye\\nNainon ke jheel mein, utra tha yunhi dil, dooba jaaye dooba dooba jaaye\\nHosho hawa salab toh khone lagey hain\\nHum bhi deewane tere hone lagey hain\\nHum bhi deewane tere hone lagey hain\\nTere mast mast do nain\\nMere dil ka le gaye chain\\nMere dil ka le gaye chain\\nTere mast mast do nain\\nTaakte rehte tujhko saanjh savere\\nNainon mein bansiya jaise nain yeh tere\\nNainon mein bansiya jaise nain yeh tere\\nTere mast mast do nain\\nMere dil ka le gaye chain\\nMere dil ka le gaye chain\\nTere mast mast do nain\\nTere mast mast do nain\\nMere dil ka le gaye chain\\nMere dil ka le gaye chain\\nTere mast mast do nain\\nTere mast mast do nain\\nMere dil ka le gaye chain\\nMere dil ka le gaye chain\\nTere mast mast do nain'], ['2010', 'TujkoJoPaya.txt', 'Mere bina rehne laga hoo\\nTeri hawaon me behne laga hoo\\nJaane main kaise tera hua hoo\\nMujhe to lagta hai main shayad tere dil ki dua hoo\\nTujhko jo paaya ahan to jeena aaya\\nAb ye lamha theher jaye tham jaye\\nBas jaye hum dono ke darmiyaaaaan\\nTujhko jo paaya ahan to jeena aaya\\nAb ye lamha theher jaye tham jaye\\nBas jaye hum dono ke darmiyaaaaan\\nPehle se zyada main jee raha hoo\\nJabse main tere dil se juda hoo\\nRahon pe teri main to chala hoo\\nTu meri manzil hai tere kadmon pe bas rukne laga hu\\n\\nTujhko jo paaya ahan to jeena aaya\\nAb ye lamha theher jaye tham jaye\\nBas jaye hum dono ke darmiyaaaaan\\n\\nTujhko jo paaya ahan to jeena aaya\\nAb ye lamha theher jaye tham jaye\\nBas jaye hum dono ke darmiyaaaaan\\n\\nTeri nazar me nayi si adaa hai\\nNaya sa nasha bhhi ghula hai\\nKayi dino se bandha tha baadal jo\\nTere hi baalon me khula hai\\nTeri hadon me meri basar hai\\nAb tujhe bhi janu kidhar hai\\nJahan rahe tu main wo jahan hu\\nJise jiye tu main wo sama hun\\nTeri waja se naya naya hu\\nPehle kaha na maine ab ye tumse kehne laga hun aaaa\\n\\nTujhko jo paaya ahan to jeena aaya\\nAb ye lamha theher jaye tham jaye\\nBas jaye hum dono ke darmiyaaaaan\\n\\nTujhko jo paaya ahan to jeena aaya\\nAb ye lamha theher jaye tham jaye\\nBas jaye hum dono ke darmiyaaaaan'], ['2015', 'AfganJalebi.txt', 'Makhtool Jigar (Ya Baba)\\nKaatil Hai Nazar (Ya Baba)\\nIk Mahajabi (Ya Baba)\\nEk Noore Nabi (Ya Baba)\\nRabb Ki Rubaai\\nYa Hai Tabaahi\\nGardan Surahi\\nBoli Ilaahi (Ya Baba)\\nAfghan Jalebi Mashooq Farebi\\nGhayal Hai Tera Deewana\\nBhai Wah, Bhai Wah..\\nBandook Dikha Ke Kya Pyar Karegi\\nChehra Bhi Kabhi Dikhana\\nBhai Wah Bhai Wah\\nAfghan Jalebi Mashooq Farebi\\nGhayal Hai Tera Deewana\\nBhai Wah, Bhai Wah..\\nBandook Dikha Dikha Ke Kya Pyar Karegi\\nChehra Bhi Kabhi Dikhana\\nBhai Wah Bhai Wah Bhai Wah Bhai\\nKhawaja Ji Ke Paas Teri Chugli Karunga\\nMain Teri Chugli Karunga\\nHaa Teri Chugli Karunga\\nAnguthi Mein Qaid Teri Ungli Karunga\\nMain Teri Chugli Karunga\\nHaa Teri Chugli Karunga\\nKhawaja Ji Ke Paas Teri Chugli Karunga\\nMain Teri Chugli Karunga\\nHaa Teri Chugli Karunga\\nAnguthi Mein Qaid Teri Ungli Karunga\\nMain Teri Chugli Karunga\\nHaa Teri Chugli Karunga\\nO Dekh Darazi (Wallah)\\nBanda Namazi (Wallah)\\nKhel Ke Baazi (Wallah)\\nKhamakha..\\nAb Thehra Na Kissi Kaam Ka\\n(Wallah) (Wallah)\\nHeer Ka Koi (Wallah)\\nSher Suna Ke (Wallah)\\nGhunth Lagga Ke (Wallah) Jaam Ka\\nMera Khan Mehaz Naam Ka\\nOye Lakht-E-Jigar (Ya Baba)\\nOye Noor-E-Nazar (Ya Baba)\\nEk Teer Hai Tu (Ya Baba)\\nMain Chaak Jigar (Ya Baba)\\nBando Se Nahi Toh\\nAllah Se Daregi\\nWaada To Kabhi Nibhana\\nBhai Wah, Bhai Wah, Bhai Wah..\\nKhwaja Ji Ki Paas Teri Chugli Karunga\\nMain Teri Chugli Karunga\\nHaan Teri Chugli Karunga\\nAnguthi Mein Qaid Teri Ungli Karunga\\nMain Teri Chugli Karunga\\nHaan Teri Chugli Karunga\\nKhwaja Ji Ki Paas Teri Chugli Karunga\\nMain Teri Chugli Karunga\\nHaan Teri Chugli Karunga\\nAnguthi Mein Qaid Teri Ungli Karunga\\nMain Teri Chugli Karunga\\nHaan Teri Chugli Karunga\\nGul-E-Gulzar (Ya Baba)\\nMere Saradar (Ya Baba)\\nBade Mansoor (Ya Baba)\\nTere Rukhsaar (Ya Baba)\\nHaye Shamsheer Nigaahein\\nChabook Si Adaayein\\nNacheez Pe Na Chalana\\nBhai Wah Bhai Wah\\nBandook Dikha Dikha Ke Kya Pyaar Karegi\\nChehra Bhi Kabhi Dikhana\\nBhai Wah, Bhai Wah..'], ['2015', 'AgarTumSathHo.txt', \"Pal Bhar Thahar Jaao\\nDil Ye Sambhal Jaaye\\nKaise Tumhe Roka Karun\\nMeri Taraf Aata Har\\nGham Phisal Jaaye\\nAankhon Mein Tum Ko Bharun\\nBin Bole Baatein Tumse Karun\\n'Gar Tum Saath Ho\\nAgar Tum Saath Ho\\nBehti Rehti\\nNahar Nadiya Si\\nTeri Duniya Mein\\nMeri Duniya Hai\\nTeri Chaahaton Mein\\nMain Dhal Jaati Hoon\\nTeri Aadaton Mein\\n'Gar Tum Saath Ho\\nTeri Nazron Mein\\nHai Tere Sapne\\nTere Sapno Mein\\nHai Naraazi\\nMujhe Lagta Hai\\nKe Baatein Dil Ki\\nHoti Lafzon Ki Dhokebaazi\\nTum Saath Ho Ya Na\\nHo Kya Fark Hai\\nBedard Thi Zindagi Bedard Hai\\nAgar Tum Saath Ho\\nAgar Tum Saath Ho\\nPalkein Jhapakte\\nHi Din Ye Nikal Jaaye\\nBaithi Baithi Bhaagi Phirun\\nMeri Taraf Aata Har\\nGham Phisal Jaaye\\nAankhon Mein Tum Ko Bharun\\nBin Bole Baatein Tumse Karun\\n'Gar Tum Saath Ho\\nAgar Tum Saath Ho\\nTeri Nazron Mein\\nHai Tere Sapne\\nTere Sapno Mein\\nHai Naraazi\\nMujhe Lagta Hai\\nKe Baatein Dil Ki\\nHoti Lafzon Ki Dhokebaazi\\nTum Saath Ho Ya Na\\nHo Kya Fark Hai\\nBedard Thi Zindagi Bedard Hai\\nAgar Tum Saath Ho\\nDil Ye Sambhal Jaaye\\nAgar Tum Saath Ho\\nHar Gham Phisal Jaaye\\nAgar Tum Saath Ho\\nDin Ye Nikal Jaaye\\nAgar Tum Saath Ho\\nHar Gham Phisal Jaaye.\"], ['2015', 'DesiLook.txt', 'Gore Gore Chokre\\nGore Gore Chokre\\nGore Gore Chokre\\nGore Gore Chokre\\nMeri Desi Look\\nMeri Desi Look\\nMeri Desi Look Te\\nHo Mar Gaye Gore Gore...\\nGore Gore Chokre\\nMeri Desi Look\\nMeri Desi Look\\nMeri Desi Look Te\\nHo Mar Gaye Gore Gore...\\nGore Gore Chokre\\nMain Jhumka Laga Ke Naachun\\nMain Thumka Laga Ke Naachun\\nMain Jhumka Laga Ke Naachun\\nMain Thumka Laga Ke Naachun\\nNa Mujhko Tok Re..\\nMeri Desi, Meri Desi\\nMeri Desi Desi Desi..\\nMeri Desi Look\\nMeri Desi Look\\nMeri Desi Look Te\\nHo Mar Gaye Gore Gore...\\nGore Gore Chokre\\nMeri Desi Look\\nMeri Desi Look\\nMeri Desi Look Te\\nHo Mar Gaye Gore Gore...\\nGore Gore Chokre\\nLe Chal Apne Naal Soniye\\nLe Chal Apne Naal\\nLe Chal Apne Naal Soniye\\nLe Chal Apne..\\nLe Chal Apne Naal Soniye\\nLe Chal Apne Naal\\nLe Chal Apne Naal Soniye\\nLe Chal Apne..\\nMera Sohna Sa Mukhda\\nHai Moon Ka Tukda\\nKehnde Ne Taare, Kehnde Ne Saare\\nKehnde Ne Taare, Kehnde Ne Saare\\nMarte Hain Mujhpe Ho Yaar Kanware\\nEk Aankh Mujhpe, Dooji Kurti Ke Hook Pe..\\nMeri Desi, Meri Desi\\nMeri Desi Desi Desi...\\nMeri Desi Look\\nMeri Desi Look\\nMeri Desi Look Te\\nHo Mar Gaye Gore Gore....\\nGore Gore Chokre\\nMeri Desi Look\\nMeri Desi Look\\nMeri Desi Look Te\\nHo Mar Gaye Gore Gore....\\nGore Gore Chokre\\nGore Gore Chokre....\\nChudiyaan Khanke Oye Hoye\\nHaath Mein Chamke Haaye Haaye\\nChori Se Sunte Yaar Tham Tham Ke\\nChudiyaan Khanke Oye Hoye\\nHaath Mein Chamke Haaye Haaye\\nChori Se Sunte Yaar Tham Tham Ke\\nYe Karna Chaahe Sign Vign Dil Wali Book Pe\\nMeri Desi, Meri Desi\\nMeri Desi Desi Desi..\\nMeri Desi Look\\nMeri Desi Look\\nMeri Desi Look Te\\nHo Mar Gaye Gore Gore...\\nGore Gore Chokre\\nMeri Desi Look\\nMeri Desi Look\\nMeri Desi Look Pe\\nHo Mar Gaye Gore Gore...\\nGore Gore Chokre.'], ['2015', 'GallanGoodiyaan.txt', \"Main Daalun Taal Pe Bhangra\\nTu Bhi Gidda Paa Le\\nChal Aisa Rang Jamaa De Hum\\nKe Bane Sabhi Matwaale\\nMann Kahe Ki Main Le Aaun\\nChaand Aur Taare Saare\\nInn Haathon Par Main Chaand Rakhun\\nIss Maang Mein Bhar Doon Taare\\nHello Hello Tu Floor Pe Kab Hai Aayi\\nYe Lo, Ye Lo, Badi Solid Masti Chaayi\\nHello Hello Too Much Hai Tumne Lagayi\\nYe Lo, Ye Lo, Control Karo Mere Bhai\\nDhak-Dhak Dhak-Dhak Dhadke Ye Dil\\nChhan Chhan Bole Amritsari Choodiyan\\nRaat Badi Hai Mastaani\\nToh Dilbar Jaani Kar Le Gallan Goodiyan\\nDhak-Dhak Dhak-Dhak Dhadke Ye Dil\\nChhan Chhan Bole Amritsari Choodiyan\\nRaat Badi Hai Mastaani\\nToh Dilbar Jaani Kar Le Gallan Goodiyan\\nYeh Nain Matakka Tera\\nBhi Mujhe Bada Tadpaawe\\nTu Dekhe Ajj Vi Dilbar Kudiye\\nTeer Sa Ek Chal Jaave\\nAahaa..\\nKar De Bin Piye Sharabi, Chehra Ter Gulabi\\nKoi Kyun Na Yamla Ban Jaave\\nJo Itni Ho Betabi\\nHello, Hello, Dil Dil Se Connect Karna\\nYe Lo, Ye Lo, Yeh Baate Direct Karna\\nDhak Dhak, Dhak Dhak, Dhadke Yeh Dil\\nChhan-Chhan Bole Amritsari Chuidyan\\nRaat Badi Hai Mastaani\\nToh Dilbar Jaani Kar Le Gallan Goodiyaan\\nDhak Dhak, Dhak Dhak, Dhadke Yeh Dil\\nChhan-Chhan Bole Amritsari Chuidyan\\nRaat Badi Hai Mastaani\\nToh Dilbar Jaani Kar Le Gallan Goodiyaan\\nChana Chanak Tera Bhann Dunga Nakk\\nChana Chanak Tera Bhann Dunga Nakk\\nMain Kabootar Faseya Ki Hor Koi\\nFase Hi Na Haay Fase Hi Na\\nFase Hi Na Haay Fase Hi Na\\nChana Chanak Tera Bhann Dunga Nakk\\nMain Toh Chana Chanak Tera Bhann Dunga Nakk\\nMain Toh Chana Chanak Tera Bhann Dunga Nakk\\nMain Toh Chana Chanak Tera Bhann Dunga Nakk\\nMain Toh Chana Chanak Tera Bhann Dunga Nakk\\nMain Kabootar Faseya Ki\\nHor Koi Fase Hi Na..\\nMain Kabootar Faseya Ki\\nHor Koi Fase Hi Na..\\nMain Kabootar Faseya Ki\\nHor Koi Fase Hi Na..\\nYe Baat Na Maine Maani\\nKyun Itni Khush Hai Diwaani\\nTu Mujhko Aisi Kahaani Samjha De, Samjha De..\\nYe Baat Hai Sabne Chaahi\\nMile Janmon Ka Humraahi\\nYahaan Hua Hai Kuch Aisa Hi\\nSamjhe Na Samjhe Na O Ho..\\nAb Main Jaana Keh Rahi Ho Kya Fasaana Ho Ho.\\nPyaar Karne Se Bhi Mushqil Hai Nibhaana Ho Ho\\nHello Hello Don't Mind Mera Hai Kehna\\nYe Lo, Ye Lo, Zara Mere Touch Mein Rehna\\nDhak-Dhak Dhak-Dhak Dhadke Ye Dil\\nChhan Chhan Bole Amritsari Choodiyan\\nRaat Badi Hai Mastaani\\nToh Dilbar Jaani Kar Le Gallan Goodiyan\\nDhak-Dhak Dhak-Dhak Dhadke Ye Dil\\nChhan Chhan Bole Amritsari Choodiyan\\nRaat Badi Hai Mastaani\\nToh Dilbar Jaani Kar Le Gallan Goodiyan\\nRaat Badi Hai Mastaani Ee Ee\\nDhak-Dhak Dhak-Dhak Dhadke Ye Dil\\nChhan Chhan Bole Amritsari Choodiyan\\nRaat Badi Hai Mastaani\\nKoi Dilbar Jaani Kar Le Gallan Goodiyan\\nO Marjaana Oye...\"], ['2015', 'SoorajDoobaHain.txt', 'Matalbi Ho Ja Zara Matlabi\\nDuniya Ki Sunta Hai Kyun\\nKhud Ki Bhi Sun Le Kabhi\\nMatalbi Ho Ja Zara Matlabi\\nDuniya Ki Sunta Hai Kyun\\nKhud Ki Bhi Sun Le Kabhi\\nKuch Baat Ghalat Bhi Ho Jaaye\\nKuch Der Ye Dil Bhi Kho Jaaye\\nBefikar Dhadkane, Iss Tarah Se Chale\\nShor Goonje Yahaan Se Wahaan\\nSooraj Dooba Hai Yaaron\\nDo Ghoont Nashe Ke Maaro\\nRaste Bhula Do Saare Gharbaar Ke\\nSooraj Dooba Hain Yaaron\\nDo Ghoont Nashe Ke Maaro\\nGham Tum Bhula Do Saare Sansaar Ke\\nAsk Me For Anything\\nI Can Give You Everything\\nRaste Bhula Do Saare Gharbaar Ke\\nAsk Me For Anything\\nI Can Give You Everything\\nGham Tum Bhula Do Saare Sansaar Ke\\n(Ooo...)\\nAtaa Pataa Rahe Na Kisi Ka Humein\\nYehi Kahe Ye Pal Zindagi Ka Humein\\nAtaa Pataa Rahe Na Kisi Ka\\nYehi Kahe Ye Pal Zindagi Ka\\nKe Khudgarz Si Khwahish Liye\\nBe-Saans Bhi Hum-Tum Jiye\\nHai Gulaabi Gulaabi Samaa..\\nSuraj Dooba Hai Yaaron\\nDo Ghoont Nashe Ke Maaro\\nRaste Bhula Do Saare Gharbaar Ke\\nSuraj Dooba Hai Yaaron\\nDo Ghoont Nashe Ke Maaro\\nGham Tum Bhula Do Saare Sansaar Ke\\nMatalbi Ho Ja Zara Matlabi\\nDuniya Ki Sunta Hai Kyun..\\nKhud Ki Bhi Sun Le Kabhi\\nChale Nahi Ude Aasmaan Pe Abhi..\\nPata Na Ho Hai Jaana Kahaan Pe Abhi..\\nChale Nahi Ude Aasmaan Pe\\nPata Na Ho Hai Jaana Kahaan Pe\\nKi Be-Manzilein Ho Sab Raaste\\nDuniya Se Hon Zara Faasle\\nKuch Khud Se Bhi Ho Dooriyaan\\nSooraj Dooba Hai Yaaron\\nDo Ghoont Nashe Ke Maaro\\nRaste Bhula Do Saare Gharbaar Ke\\nSooraj Dooba Hain Yaaron\\nDo Ghoont Nashe Ke Maaro\\nGham Tum Bhula Do Saare Sansaar Ke\\nAsk Me For Anything\\nI Can Give You Everything\\n(Ooo... )\\nAsk Me For Anything\\nI Can Give You Everything\\n(Ooo... )'], ['2019', 'DheemeDheeme.txt', 'Chandni raat mein\\nGori ke saath mein\\nAasmaan mein\\nDekhunga nageene\\n\\nDheeme dheeme dheeme dheeme\\nDheeme dheeme dheeme dheeme\\nDheeme dheeme dheeme dheeme\\nDheeme dheeme dheeme dheeme\\nSet mera scene hai\\nScene hai scene hai scene hai\\nScene hai scene hai scene hai\\n\\nGori tu bada sharmati hai\\nTujhko sharam kyun aati hai\\nKaatil teri nigaahein hain\\nTu kaat kaleja le jaati hai\\nTujh mein nasha hai\\nTu bilkul afeem hai\\n\\nDheeme dheeme dheeme dheeme\\nDheeme dheeme dheeme dheeme\\nDheeme dheeme dheeme dheeme\\nDheeme dheeme dheeme dheeme\\nSet mera scene hai\\nScene hai scene hai scene hai\\nScene hai scene hai scene hai\\n\\nThought mera chhu ke nikla\\nBadan pe tere phisla\\nLafz mere honth se chhoo le\\nMain toh tujhe dekh ke pighla\\nAgan mein jali hai jali hai jali\\nKamsin kali hai kali hai kali\\nTujhe bas choona hai choona hai choo\\nMisri ki dali hai dali hai dali\\nTera husn to sabse aala hai\\nMujhe pagal karne wala hai\\nAaj nasha tera karke\\nTera aashiq marne wala hai\\nSach sach bol haqueeqat\\nYa ye dari main\\n\\nDheeme dheeme dheeme dheeme\\nDheeme dheeme dheeme dheeme\\nDheeme dheeme dheeme dheeme\\nDheeme dheeme dheeme dheeme\\nSet mera scene hai\\nScene hai scene hai scene hai\\nScene hai scene hai scene hai\\n\\nGori tu bada sharmati hai\\nTujhko sharam kyun aati hai\\nKaatil teri nigaahein hain\\nTu kaat kaleja le jaati hai\\nAre Tujh mein nasha hai\\nTu bilkul afeem hai\\n\\nDheeme dheeme dheeme dheeme\\nDheeme dheeme dheeme dheeme\\nDheeme dheeme dheeme dheeme\\nDheeme dheeme dheeme dheeme\\nSet mera scene hai\\nScene hai scene hai scene hai\\nScene hai scene hai scene hai\\n'], ['2019', 'TeraBanJaunga.txt', 'Meri Raahe Tere Tak Hai\\nTujhpe Hi To Mera Haq Hai\\nIshq Mera Tu Beshak Hai\\nTujhpe Hi To Mera Haq Hai\\nSaath Chhodunga Na Tere Pichhe Aaunga\\nChheen Lunga Ya Khuda Se Maang Launga\\nTere Naal Taqdeera Likhwauga Main\\nMain Tera Ban Jaunga\\nMain Tera Ban Jaunga\\n\\nSonh Teri Main Kasam Yehi Khaunga\\nKite Wadeya Nu Main Nibhaunga\\nTujhe Har Wari Apna Banaunga\\nMain Tera Ban Jaaunga\\nMain Tera Ban Jaaunga\\n\\nNa Na Na Na Na Na Oh Yeh\\nNa Na Na Na Na Na Oh Yeh\\n\\nLakhan To Juda Main Huyi Teri Khatir\\nTu Hi Manjil Dil Tera Musafir\\n\\nLakhan To Juda Main Hoya Teri Khatir\\nTu Hi Manjil Dil Main Musafir\\nRab Nu Bhula Baitha Tere Karke\\nMain Ho Gaya Kaafir\\n\\nTere Liye Main Jaha Se Takraunga\\nSab Kuchh Khoke Tujhko Hi Paunga\\nDil Banke Main Dil Dhadkaunga\\nMain Tera Ban Jaaunga\\nMain Tera Ban Jaunga\\n\\nSonh Teri Main Kasam Yehi Khaunga\\nKite Wadeya Nu Umran Nibhaunga\\nTujhe Har Wari Apna Banaunga\\nMain Tera Ban Jaaunga\\nMain Tera Ban Jaaunga\\n\\nMeri Raahe Tere Tak Hai\\nTujhpe Hi To Mera Haq Hai\\nIshq Mera Tu Beshaq Hai\\nTujhpe Hi To Mera Haq Hai'], ['2019', 'TheHookUpSong.txt', 'Ho aankh meri 100-100 baar\\n200 baar lad lad jaave\\nO jise dekhe dil mera\\nPiche piche pad pad jaave\\n\\nHai din mein ye tere ghar\\nKahin aur guzre ye raatein\\nKarna jo dooji dafa\\nPehli baar kar kar jaave\\n\\nO matlab ke samjhe ishaare\\nYe saare ye to nazaron mein apni utaare\\nNazaare wo jo subah tak na utre\\nHar raat nasha chadhta hai\\n\\nLe le le lele number mera\\nBaad mein message mujhko kar dena\\nKhudko samajh ke lucky\\nMujhse hook up tu kar le na\\n\\nLe le le lele number mera\\nBaad mein message mujhko kar dena\\nKhudko samajh ke lucky\\nMujhse hook up tu kar le na\\n\\nO kabhi isey kabhi usey\\nDekhoon aate jaate\\nKar loon mulaqatein\\nMain to zara waadon ka kaccha hoon\\nJhootha hi accha hoon\\n\\nSeedhi saadhi mere dil ki saaf hai batein\\nAcchi lagi ratein\\nBeete ik lamha tu baahon mein\\nDooja nigaahon mein\\n\\nKhawabon mein aana jaana\\nHo gaya hai ab puraana\\nAe seedha tu milne aana\\nDil mera karta hai\\n\\nLe le le lele number mera\\nBaad mein message mujhko kar dena\\nKhudko samajh ke lucky\\nMujhse hook up tu kar le na\\n\\nLe le le lele number mera\\nBaad mein message mujhko kar dena\\nKhudko samajh ke lucky\\nMujhse hook up tu kar le na\\n\\nHo aankh meri sau sau baari\\nDo sau baari lad lad jaave\\nHaaye jise dekhe dil mera\\nPiche piche pad pad jaave\\n\\nHai din mein ye tere ghar\\nKahin aur guzre ye raatein\\nKarna jo dooji dafa\\nPehli baar kar kar jaave\\n\\nO matlab ke samjhe ishaare\\nYe saare ye to nazaron mein apni utaare\\nNazaare wo jo subah tak na utre\\nHar raat nasha chadhta hai\\n\\nLe le le lele number mera\\nBaad mein message mujhko kar dena\\nKhudko samajh ke lucky\\nMujhse hookup tu kar le na\\n\\nLe le le lele number mera\\nBaad mein message mujhko kar dena\\nKhudko samajh ke lucky\\nMujhse hook-up tu kar le na'], ['2019', 'TheWakhraSong.txt', 'Ki Ae Gucci Armani\\nPichhe Roll Di Jawani\\nCheck Kardi Brandâ€™an Wale Tag Ni\\nAaja Dassan Tainu Sohniye\\nNi Fashion Ki Hunda\\nTere Yaar Da To Wakhra Swag Ni\\n\\nKi Ae Gucci Armani\\nPichhe Roll Di Jawani\\nRoldi Jawa.. Roldi Jawa..\\nRoldi Jawa..\\nCheck Kardi Brandâ€™an Wale Tag Ni\\nTag Ni, Tag Ni\\nAaja Dassan Tainu Sohniye\\nNi Fashion Ki Hunda\\nTere Yaar Da Ton Wakhra Swag Ni\\n\\nOh Mera Suit Patiyala\\nKitno Ko Maar Daala\\nHaan Punjab Di Main Kudi Sardarni\\nJutti Meri Haigi Kaim\\nSaare Katdi Hai Veham\\nTere To Vi Zaada Wakhra Swag Ni\\nOh Wakhra Swag Ni\\n\\nDrop It !\\n\\nChal Hat !\\nAlways Talkinâ€™ Money\\nOnly Hear Chi-Chinâ€™\\nShow Me How You Love Me\\nI Donâ€™t Want Your Bling\\nBaby Badi Badi Baatein\\nZaada Kar Na Tu Drag\\nI Donâ€™t Want The Gucci\\nArmani Wala Tag\\n\\nNa Jaandi Rakane\\nSadde Pakke Naio Rakane\\nJithe Vi Na Laiyan Ni Main Yaariyan\\nGal Dil Di Na Kahiye\\nTaiyo Door Door Rahiye\\nThug Hundiyan Na Surata Pyari Aan\\n\\nTu Vi Hai Shikari\\nPuri Rakhdi Taiyyari\\n3-4 Ghumana Hai Kuwariyan\\nGallan Kardae Tu Pyari\\nDikha Ke Ferrari\\nKarda Hai Jhuthi Dildariyan\\nOh Wakhra Swag Ni\\n\\nYo !\\n\\nSee You Tryna Holla\\nDripinâ€™ Trendy Products\\nThinking You Are Raja\\nBaby You Better Come Harder\\nSwag Ki Main Rani\\nChal Photo Meri Kheench\\nBe My Benz Bentley\\nIâ€™m Still Way Out Of Your League\\n\\nKi Ae Gucci Armani\\nPichhe Roldi Jawani\\nCheck Kardi Branda Wale Tag Ni\\nAaja Dassan Tainu Sohniye\\nNi Fashion Ki Hunda\\nTere Yaar Da Ton Wakhra Swag Ni\\n\\nHaan Ji\\nHo Mera Suit Patiyala\\nKitno Ko Maar Daala\\nHaan Punjab Di Main Kudi Sardarni\\nJutti Meri Haihi Kaim\\nSaare Kattdi Hai Veham\\nTere Ton Vi Zyada Wakhra Swag Ni\\nOh Wakhra Swag Ni\\n\\nDrop It !\\n\\nSwag Ni, Wakhra Swag Ni\\nVakhra Swag Ni\\nVakhra Swag Ni\\n\\n\\n\\nRead Full Lyrics at iLyricsHub: https://www.ilyricshub.com/the-wakhra-song-judgementall-hai-kya/'], ['2019', 'Vaste.txt', 'Vaaste jaan bhi doon\\nMain gawaa imaan bhi doon\\nKismaton ka likha mod doon\\n\\nBadle mein main tere\\nJo Khuda khud bhi de\\nJannatein, sach kahoon chhod doon\\n\\nTumse zyada main na jaanu\\nTumse khudko main pehchaanu\\nTumko bas main apna maanu mahiya\\n\\nTumse zyada main na jaanu\\nTumse khudko main pehchaanu\\nTumko bas main apna maanu mahiya\\n\\nVaaste jaan bhi doon\\nMain gawaa imaan bhi doon\\nQismaton ka likha mod doon\\n\\nTere alawa koi bhi khwahish\\nNahi hai baaki dil mein\\nKadam uthaaun jahaan bhi jaaun\\nTujhi se jaaun mil main\\n\\nTere alawa koi bhi khwahish\\nNahi hai baaki dil mein\\nKadam uthaaun jahaan bhi jaaun\\nTujhi se jaaun mil main\\n\\nTere liye.. mera safar..\\nTere bina.. main jaaun kidhar\\n\\nTumse zyada main na jaanu\\nTumse khudko main pehchaanu\\nTumko bas main apna maanu mahiya\\n\\nVaaste jaan bhi doon\\nMain gawaa imaan bhi doon\\nQismaton ka likha mod doon\\n\\nBadle mein main tere\\nJo Khuda khud bhi de\\nJannatein, sach kahoon chhod doon\\n\\nTu hi savera mera\\nTu hi kinara mera\\nTu hi hai dariya mera\\nKhuda ka zariya mera\\nTujhi se hota shuru ye mera kaarwan\\nTujhi pe jaake khatam\\nYe mera saara jahaan\\n\\nVaaste jaan bhi doon\\nMain gawaa imaan bhi doon\\nQismaton ka likha mod doon']]\n"
     ]
    }
   ],
   "source": [
    "baseDirectory = \"C:/Users/ashis/Desktop/Zopfli/Songs/\"\n",
    "\n",
    "dataset = []\n",
    "\n",
    "#create dataset in python\n",
    "for year in os.listdir(baseDirectory):\n",
    "    yearSongs = os.listdir(baseDirectory+year+\"/\")\n",
    "    for song in yearSongs:\n",
    "        songFile = baseDirectory+year+\"/\"+song\n",
    "        f= open(songFile)\n",
    "        lyrics = f.read()\n",
    "#         print(year , lyrics)\n",
    "        yearLyrics = []\n",
    "        yearLyrics.append(year)\n",
    "        yearLyrics.append(song)\n",
    "        yearLyrics.append(lyrics)\n",
    "        dataset.append(yearLyrics)\n",
    "        f.close()\n",
    "        \n",
    "print(dataset)"
   ]
  },
  {
   "cell_type": "code",
   "execution_count": 57,
   "metadata": {},
   "outputs": [],
   "source": [
    "df = pd.DataFrame(dataset, columns = [\"year\", \"SongName\", \"Lyrics\"])\n",
    "        \n",
    "# (os.listdir(\"C:/Users/ashis/Desktop/Zopfli/Songs/\"))"
   ]
  },
  {
   "cell_type": "code",
   "execution_count": 108,
   "metadata": {},
   "outputs": [
    {
     "name": "stdout",
     "output_type": "stream",
     "text": [
      "Compression for songName  DheereDheereAapMere.txt  is : \n",
      "72.83018867924528\n",
      "Compression for songName  HoGayaHTujkoJoPyar.txt  is : \n",
      "70.91795288383427\n",
      "Compression for songName  HumkoSirfTumse.txt  is : \n",
      "69.58904109589041\n",
      "Compression for songName  KehnaHiKya.txt  is : \n",
      "75.04019292604502\n",
      "Compression for songName  TujheDekhaToYe.txt  is : \n",
      "65.83407671721677\n",
      "-------- Average compression for year  1995  is :  70.84229046044635\n",
      "\n",
      "\n",
      "\n",
      "\n",
      "Compression for songName  AapKaAanaDilDhadkana.txt  is : \n",
      "74.04534606205252\n",
      "Compression for songName  ChoriChoriSapnoMein.txt  is : \n",
      "65.66791510611736\n",
      "Compression for songName  Deewane.txt  is : \n",
      "59.909909909909906\n",
      "Compression for songName  DilToteToteHoGaya.txt  is : \n",
      "72.52228631358155\n",
      "Compression for songName  HumkoHumiSeChuraLo.txt  is : \n",
      "71.92857142857143\n",
      "-------- Average compression for year  2000  is :  68.81480576404655\n",
      "\n",
      "\n",
      "\n",
      "\n",
      "Compression for songName  AashiqBanayaApne.txt  is : \n",
      "76.58450704225352\n",
      "Compression for songName  DheereJalna.txt  is : \n",
      "61.75478065241845\n",
      "Compression for songName  DusBahane.txt  is : \n",
      "75.3895754970446\n",
      "Compression for songName  KastoMazza.txt  is : \n",
      "92.12756467439786\n",
      "Compression for songName  Roobaroo.txt  is : \n",
      "63.87795275590551\n",
      "-------- Average compression for year  2005  is :  73.94687612440399\n",
      "\n",
      "\n",
      "\n",
      "\n",
      "Compression for songName  BadeDilWala.txt  is : \n",
      "65.3061224489796\n",
      "Compression for songName  MereBina.txt  is : \n",
      "69.2526690391459\n",
      "Compression for songName  PeeLoon.txt  is : \n",
      "70.6928264868179\n",
      "Compression for songName  TereMastMastDoNain.txt  is : \n",
      "79.35963407661521\n",
      "Compression for songName  TujkoJoPaya.txt  is : \n",
      "68.14932486100079\n",
      "-------- Average compression for year  2010  is :  70.55211538251187\n",
      "\n",
      "\n",
      "\n",
      "\n",
      "Compression for songName  AfganJalebi.txt  is : \n",
      "70.69056404849763\n",
      "Compression for songName  AgarTumSathHo.txt  is : \n",
      "66.66666666666667\n",
      "Compression for songName  DesiLook.txt  is : \n",
      "78.48176927674835\n",
      "Compression for songName  GallanGoodiyaan.txt  is : \n",
      "69.49822204662189\n",
      "Compression for songName  SoorajDoobaHain.txt  is : \n",
      "68.95034569453173\n",
      "-------- Average compression for year  2015  is :  70.85751354661326\n",
      "\n",
      "\n",
      "\n",
      "\n",
      "Compression for songName  DheemeDheeme.txt  is : \n",
      "74.77477477477478\n",
      "Compression for songName  TeraBanJaunga.txt  is : \n",
      "63.55769230769231\n",
      "Compression for songName  TheHookUpSong.txt  is : \n",
      "70.97922848664689\n",
      "Compression for songName  TheWakhraSong.txt  is : \n",
      "56.98509110988404\n",
      "Compression for songName  Vaste.txt  is : \n",
      "70.59322033898304\n",
      "-------- Average compression for year  2019  is :  67.3780014035962\n",
      "\n",
      "\n",
      "\n",
      "\n"
     ]
    }
   ],
   "source": [
    "# get compression and average compression for the year\n",
    "# plot all the compressions on a seaborn plot\n",
    "# Plot yearwise average compressions on the plot\n",
    "averageCompressionYearWiseData = []\n",
    "for x in df.year.unique():\n",
    "    # get all songs with year == x\n",
    "    yearLyrics = list(df[df.year == x].Lyrics)\n",
    "    sumCompressions = int(0)\n",
    "    countSongsInYear = len(yearLyrics)\n",
    "    songIndex = 0 \n",
    "    songNames = list(df[df.year == x].SongName)\n",
    "    for lyrics in yearLyrics:\n",
    "        compression = getCompressionFromSong(lyrics)\n",
    "        sumCompressions+=compression\n",
    "        print(\"Compression for songName \",songNames[songIndex], \" is : \")\n",
    "        print(compression)\n",
    "        songIndex+=1\n",
    "    \n",
    "    averageCompression = sumCompressions/countSongsInYear\n",
    "    print(\"-------- Average compression for year \", x, \" is : \", averageCompression)\n",
    "    print(\"\")\n",
    "    print(\"\")\n",
    "    print(\"\")\n",
    "    print(\"\")\n",
    "    averageCompressionYearWiseData .append([int(x),averageCompression])\n"
   ]
  },
  {
   "cell_type": "code",
   "execution_count": 109,
   "metadata": {},
   "outputs": [
    {
     "data": {
      "text/plain": [
       "5"
      ]
     },
     "execution_count": 109,
     "metadata": {},
     "output_type": "execute_result"
    }
   ],
   "source": [
    "# list(df[df.year == '2019'].Lyrics)\n",
    "yearLyrics = list(df[df.year == '2019'].Lyrics)\n",
    "len(yearLyrics)\n",
    "# for lyrics in list(df[df.year == '2019'].Lyrics):\n",
    "#     print(lyrics)"
   ]
  },
  {
   "cell_type": "code",
   "execution_count": 112,
   "metadata": {},
   "outputs": [
    {
     "data": {
      "text/plain": [
       "<matplotlib.axes._subplots.AxesSubplot at 0x2171a56afd0>"
      ]
     },
     "execution_count": 112,
     "metadata": {},
     "output_type": "execute_result"
    },
    {
     "data": {
      "image/png": "[encoded data removed]",
      "text/plain": [
       "<Figure size 432x288 with 1 Axes>"
      ]
     },
     "metadata": {
      "needs_background": "light"
     },
     "output_type": "display_data"
    }
   ],
   "source": [
    "sns.lineplot(np.array(averageCompressionYearWiseData)[:,0], np.array(averageCompressionYearWiseData)[:,1])"
   ]
  },
  {
   "cell_type": "code",
   "execution_count": 107,
   "metadata": {},
   "outputs": [
    {
     "data": {
      "text/plain": [
       "array(['1995', '2000', '2005', '2010', '2015', '2019'], dtype='<U17')"
      ]
     },
     "execution_count": 107,
     "metadata": {},
     "output_type": "execute_result"
    }
   ],
   "source": [
    "np.array(averageCompressionYearWiseData)[:,0]"
   ]
  },
  {
   "cell_type": "code",
   "execution_count": null,
   "metadata": {},
   "outputs": [],
   "source": []
  }
 ],
 "metadata": {
  "kernelspec": {
   "display_name": "Python 3",
   "language": "python",
   "name": "python3"
  },
  "language_info": {
   "codemirror_mode": {
    "name": "ipython",
    "version": 3
   },
   "file_extension": ".py",
   "mimetype": "text/x-python",
   "name": "python",
   "nbconvert_exporter": "python",
   "pygments_lexer": "ipython3",
   "version": "3.7.4"
  }
 },
 "nbformat": 4,
 "nbformat_minor": 2
}
