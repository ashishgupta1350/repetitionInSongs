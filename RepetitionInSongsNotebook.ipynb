{
 "cells": [
  {
   "cell_type": "code",
   "execution_count": 1,
   "metadata": {},
   "outputs": [],
   "source": [
    "import numpy as np"
   ]
  },
  {
   "cell_type": "code",
   "execution_count": 2,
   "metadata": {},
   "outputs": [
    {
     "name": "stdout",
     "output_type": "stream",
     "text": [
      "Collecting zopfli\n",
      "  Downloading https://files.pythonhosted.org/packages/e2/60/14cb2853e6cbbb7090670240db8167c66759a88b5b7072cf4c8ab742bb15/zopfli-0.1.6-cp37-cp37m-win_amd64.whl\n",
      "Installing collected packages: zopfli\n",
      "Successfully installed zopfli-0.1.6\n"
     ]
    }
   ],
   "source": [
    "!pip install zopfli"
   ]
  },
  {
   "cell_type": "code",
   "execution_count": 4,
   "metadata": {},
   "outputs": [
    {
     "name": "stdout",
     "output_type": "stream",
     "text": [
      "b'Hello World'\n"
     ]
    }
   ],
   "source": [
    "from zopfli.zlib import compress\n",
    "from zlib import decompress\n",
    "s = 'Hello World'\n",
    "print(decompress(compress(s)))"
   ]
  },
  {
   "cell_type": "code",
   "execution_count": 5,
   "metadata": {},
   "outputs": [
    {
     "name": "stdout",
     "output_type": "stream",
     "text": [
      "b'x\\xda\\xf3H\\xcd\\xc9\\xc9W\\x08\\xcf/\\xcaI\\x01\\x00\\x18\\x0b\\x04\\x1d'\n"
     ]
    }
   ],
   "source": [
    "print(compress(s))"
   ]
  },
  {
   "cell_type": "code",
   "execution_count": 6,
   "metadata": {},
   "outputs": [
    {
     "data": {
      "text/plain": [
       "bytes"
      ]
     },
     "execution_count": 6,
     "metadata": {},
     "output_type": "execute_result"
    }
   ],
   "source": [
    "type(compress(s))"
   ]
  },
  {
   "cell_type": "code",
   "execution_count": 8,
   "metadata": {},
   "outputs": [],
   "source": [
    "obj = compress(s)\n"
   ]
  },
  {
   "cell_type": "code",
   "execution_count": 9,
   "metadata": {},
   "outputs": [
    {
     "data": {
      "text/plain": [
       "bytes"
      ]
     },
     "execution_count": 9,
     "metadata": {},
     "output_type": "execute_result"
    }
   ],
   "source": [
    "type(obj)"
   ]
  },
  {
   "cell_type": "code",
   "execution_count": 10,
   "metadata": {},
   "outputs": [
    {
     "ename": "TypeError",
     "evalue": "decompress() takes at least 1 positional arguments (0 given)",
     "output_type": "error",
     "traceback": [
      "\u001b[1;31m---------------------------------------------------------------------------\u001b[0m",
      "\u001b[1;31mTypeError\u001b[0m                                 Traceback (most recent call last)",
      "\u001b[1;32m<ipython-input-10-85cce1fdafd9>\u001b[0m in \u001b[0;36m<module>\u001b[1;34m\u001b[0m\n\u001b[1;32m----> 1\u001b[1;33m \u001b[0mdecompress\u001b[0m\u001b[1;33m(\u001b[0m\u001b[1;33m)\u001b[0m\u001b[1;33m\u001b[0m\u001b[1;33m\u001b[0m\u001b[0m\n\u001b[0m",
      "\u001b[1;31mTypeError\u001b[0m: decompress() takes at least 1 positional arguments (0 given)"
     ]
    }
   ],
   "source": [
    "decompress()"
   ]
  },
  {
   "cell_type": "code",
   "execution_count": 11,
   "metadata": {},
   "outputs": [
    {
     "ename": "SyntaxError",
     "evalue": "invalid syntax (<ipython-input-11-19309e9d27d6>, line 1)",
     "output_type": "error",
     "traceback": [
      "\u001b[1;36m  File \u001b[1;32m\"<ipython-input-11-19309e9d27d6>\"\u001b[1;36m, line \u001b[1;32m1\u001b[0m\n\u001b[1;33m    from zopfli.zlib\u001b[0m\n\u001b[1;37m                     ^\u001b[0m\n\u001b[1;31mSyntaxError\u001b[0m\u001b[1;31m:\u001b[0m invalid syntax\n"
     ]
    }
   ],
   "source": [
    "from zlib import "
   ]
  },
  {
   "cell_type": "code",
   "execution_count": 43,
   "metadata": {},
   "outputs": [],
   "source": [
    "import sys\n",
    "\n",
    "f1 = open('C:/Users/ashis/Desktop/Zopfli/cheapthrills.txt','r')\n",
    "song = f1.read()\n",
    "f1.close()\n",
    "# print(song)\n",
    "\n",
    "f1 = open('C:/Users/ashis/Desktop/Zopfli/tujheKitnaChahneLageHum.txt','r')\n",
    "song = f1.read()\n",
    "f1.close()\n",
    "# print(song)\n",
    "\n",
    "f1 = open('C:/Users/ashis/Desktop/Zopfli/tomTomClub.txt','r')\n",
    "song = f1.read()\n",
    "f1.close()\n",
    "# print(song)\n",
    "\n",
    "f1 = open('C:/Users/ashis/Desktop/Zopfli/aroundTheWorld.txt','r')\n",
    "song = f1.read()\n",
    "f1.close()\n",
    "# print(song)\n",
    "\n"
   ]
  },
  {
   "cell_type": "code",
   "execution_count": 44,
   "metadata": {},
   "outputs": [
    {
     "name": "stdout",
     "output_type": "stream",
     "text": [
      "Percentage compression in the song is : \n",
      "96.6692789968652\n"
     ]
    }
   ],
   "source": [
    "def getCompressionFromSong(song):\n",
    "    compress_size = sys.getsizeof(compress(song))\n",
    "    uncomressed_song_size = sys.getsizeof(song.encode())\n",
    "    print(\"Percentage compression in the song is : \")\n",
    "    print(100-(compress_size/uncomressed_song_size)*100)\n",
    "    \n",
    "getCompressionFromSong(song)"
   ]
  },
  {
   "cell_type": "markdown",
   "metadata": {},
   "source": [
    "# Code Implementation"
   ]
  },
  {
   "cell_type": "code",
   "execution_count": null,
   "metadata": {},
   "outputs": [],
   "source": [
    "from zopfli.zlib import compress\n",
    "from zlib import decompress"
   ]
  },
  {
   "cell_type": "code",
   "execution_count": null,
   "metadata": {},
   "outputs": [],
   "source": [
    "# compress the song cheap thrills using zopfi\n",
    "def compress_song(song):\n",
    "    byte_stream_song= compress(song)\n",
    "    f = open('C:/Users/ashis/Desktop/Zopfli/songStore', 'wb')\n",
    "    f.write(compress(s))\n",
    "    \n",
    "    f.close()\n",
    "# save the compressed file_zopfi\n",
    "# compress the song cheap thrills using normal python (uncompressed)\n",
    "# save the byte_uncompressed file to file_uncompressed\n",
    "# compare the file size for decompression and comeup with a fraction reduction in size\n",
    "\n",
    "\n",
    "\n",
    "# also try and read the byte code being actually saved in the compressed file"
   ]
  }
 ],
 "metadata": {
  "kernelspec": {
   "display_name": "Python 3",
   "language": "python",
   "name": "python3"
  },
  "language_info": {
   "codemirror_mode": {
    "name": "ipython",
    "version": 3
   },
   "file_extension": ".py",
   "mimetype": "text/x-python",
   "name": "python",
   "nbconvert_exporter": "python",
   "pygments_lexer": "ipython3",
   "version": "3.7.3"
  }
 },
 "nbformat": 4,
 "nbformat_minor": 2
}
