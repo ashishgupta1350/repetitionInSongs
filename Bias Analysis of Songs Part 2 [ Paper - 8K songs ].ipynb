{
 "cells": [
  {
   "cell_type": "code",
   "execution_count": 3,
   "metadata": {},
   "outputs": [
    {
     "name": "stdout",
     "output_type": "stream",
     "text": [
      "Collecting wordcloud\n",
      "  Using cached wordcloud-1.7.0.tar.gz (216 kB)\n",
      "Requirement already satisfied: numpy>=1.6.1 in c:\\python38\\lib\\site-packages (from wordcloud) (1.19.1)\n",
      "Collecting pillow\n",
      "  Using cached Pillow-7.2.0-cp38-cp38-win_amd64.whl (2.1 MB)\n",
      "Collecting matplotlib\n",
      "  Using cached matplotlib-3.3.0-cp38-cp38-win_amd64.whl (8.8 MB)\n",
      "Collecting pyparsing!=2.0.4,!=2.1.2,!=2.1.6,>=2.0.3\n",
      "  Using cached pyparsing-2.4.7-py2.py3-none-any.whl (67 kB)\n",
      "Collecting cycler>=0.10\n",
      "  Using cached cycler-0.10.0-py2.py3-none-any.whl (6.5 kB)\n",
      "Collecting kiwisolver>=1.0.1\n",
      "  Using cached kiwisolver-1.2.0-cp38-none-win_amd64.whl (58 kB)\n",
      "Collecting python-dateutil>=2.1\n",
      "  Using cached python_dateutil-2.8.1-py2.py3-none-any.whl (227 kB)\n",
      "Collecting six\n",
      "  Using cached six-1.15.0-py2.py3-none-any.whl (10 kB)\n",
      "Using legacy setup.py install for wordcloud, since package 'wheel' is not installed.\n",
      "Installing collected packages: pillow, pyparsing, six, cycler, kiwisolver, python-dateutil, matplotlib, wordcloud\n"
     ]
    },
    {
     "name": "stderr",
     "output_type": "stream",
     "text": [
      "ERROR: Could not install packages due to an EnvironmentError: [Errno 13] Permission denied: 'c:\\\\python38\\\\Lib\\\\site-packages\\\\__pycache__\\\\pyparsing.cpython-38.pyc'\n",
      "Consider using the `--user` option or check the permissions.\n",
      "\n",
      "WARNING: You are using pip version 20.1.1; however, version 20.2.1 is available.\n",
      "You should consider upgrading via the 'c:\\python38\\python.exe -m pip install --upgrade pip' command.\n"
     ]
    }
   ],
   "source": [
    "# find Stopwords for Hinglish- remove min_df,max_df\n",
    "# Try compressing the songs first and then pass to word2vec\n",
    "# Trends in songs over the years\n",
    "# Find the topics on which songs are focused\n",
    "# \n",
    "!pip install wordcloud"
   ]
  },
  {
   "cell_type": "code",
   "execution_count": 11,
   "metadata": {},
   "outputs": [],
   "source": [
    "import pandas as pd\n",
    "import numpy as np\n",
    "import nltk\n",
    "# import gensim\n",
    "# from gensim.models.phrases import Phrases, Phraser\n",
    "# from gensim.models import word2vec\n",
    "import re\n",
    "# from wordcloud import WordCloud\n",
    "import matplotlib.pyplot as plt\n",
    "from sklearn.feature_selection import SelectFromModel\n",
    "from sklearn.feature_extraction.text import TfidfVectorizer\n",
    "from sklearn.feature_extraction.text import CountVectorizer\n",
    "import seaborn as sns\n",
    "import operator\n",
    "from collections import defaultdict"
   ]
  },
  {
   "cell_type": "code",
   "execution_count": 12,
   "metadata": {},
   "outputs": [
    {
     "data": {
      "text/html": [
       "<div>\n",
       "<style scoped>\n",
       "    .dataframe tbody tr th:only-of-type {\n",
       "        vertical-align: middle;\n",
       "    }\n",
       "\n",
       "    .dataframe tbody tr th {\n",
       "        vertical-align: top;\n",
       "    }\n",
       "\n",
       "    .dataframe thead th {\n",
       "        text-align: right;\n",
       "    }\n",
       "</style>\n",
       "<table border=\"1\" class=\"dataframe\">\n",
       "  <thead>\n",
       "    <tr style=\"text-align: right;\">\n",
       "      <th></th>\n",
       "      <th>Unnamed: 0</th>\n",
       "      <th>songLyrics</th>\n",
       "      <th>songMovie</th>\n",
       "      <th>songSinger</th>\n",
       "      <th>songName</th>\n",
       "      <th>years</th>\n",
       "    </tr>\n",
       "  </thead>\n",
       "  <tbody>\n",
       "    <tr>\n",
       "      <th>0</th>\n",
       "      <td>0</td>\n",
       "      <td>Ghoomar rabb waare\\r\\nAap padharo saa\\r\\n\\r\\nA...</td>\n",
       "      <td>Padmaavat</td>\n",
       "      <td>Shreya Ghoshal</td>\n",
       "      <td>Ghoomar</td>\n",
       "      <td>2018</td>\n",
       "    </tr>\n",
       "    <tr>\n",
       "      <th>1</th>\n",
       "      <td>1</td>\n",
       "      <td>Yo yo honey singh…\\r\\n\\r\\nHoye…\\r\\n\\r\\nSuno ka...</td>\n",
       "      <td>Sonu Ke Titu ki Sweety</td>\n",
       "      <td>Yo Yo Honey Singh, Simar Kaur &amp; Ishers</td>\n",
       "      <td>Dil Chori</td>\n",
       "      <td>2018</td>\n",
       "    </tr>\n",
       "    <tr>\n",
       "      <th>2</th>\n",
       "      <td>2</td>\n",
       "      <td>Aaj se teri saari galiyan meri ho gayi\\r\\nAaj ...</td>\n",
       "      <td>Padman</td>\n",
       "      <td>Arijit Singh</td>\n",
       "      <td>Aaj Se Teri</td>\n",
       "      <td>2018</td>\n",
       "    </tr>\n",
       "    <tr>\n",
       "      <th>3</th>\n",
       "      <td>3</td>\n",
       "      <td>Boy you don’t have to be the last one standing...</td>\n",
       "      <td>Sonu Ke Titu Ki Sweety</td>\n",
       "      <td>Zack Knight &amp; Jasmin Walia</td>\n",
       "      <td>Bom Diggy Diggy</td>\n",
       "      <td>2018</td>\n",
       "    </tr>\n",
       "    <tr>\n",
       "      <th>4</th>\n",
       "      <td>4</td>\n",
       "      <td>Pila de.. pila de..\\r\\nPila de pila de\\r\\n\\r\\n...</td>\n",
       "      <td>Sonu Ke Titu ki Sweety</td>\n",
       "      <td>Yo Yo Honey Singh, Neha Kakkar, Navraj Hans</td>\n",
       "      <td>Chhote Chhote Peg Maar</td>\n",
       "      <td>2018</td>\n",
       "    </tr>\n",
       "  </tbody>\n",
       "</table>\n",
       "</div>"
      ],
      "text/plain": [
       "   Unnamed: 0                                         songLyrics  \\\n",
       "0           0  Ghoomar rabb waare\\r\\nAap padharo saa\\r\\n\\r\\nA...   \n",
       "1           1  Yo yo honey singh…\\r\\n\\r\\nHoye…\\r\\n\\r\\nSuno ka...   \n",
       "2           2  Aaj se teri saari galiyan meri ho gayi\\r\\nAaj ...   \n",
       "3           3  Boy you don’t have to be the last one standing...   \n",
       "4           4  Pila de.. pila de..\\r\\nPila de pila de\\r\\n\\r\\n...   \n",
       "\n",
       "                songMovie                                   songSinger  \\\n",
       "0               Padmaavat                               Shreya Ghoshal   \n",
       "1  Sonu Ke Titu ki Sweety       Yo Yo Honey Singh, Simar Kaur & Ishers   \n",
       "2                  Padman                                 Arijit Singh   \n",
       "3  Sonu Ke Titu Ki Sweety                   Zack Knight & Jasmin Walia   \n",
       "4  Sonu Ke Titu ki Sweety  Yo Yo Honey Singh, Neha Kakkar, Navraj Hans   \n",
       "\n",
       "                  songName  years  \n",
       "0                  Ghoomar   2018  \n",
       "1                Dil Chori   2018  \n",
       "2              Aaj Se Teri   2018  \n",
       "3          Bom Diggy Diggy   2018  \n",
       "4   Chhote Chhote Peg Maar   2018  "
      ]
     },
     "execution_count": 12,
     "metadata": {},
     "output_type": "execute_result"
    }
   ],
   "source": [
    "data=pd.read_csv(\"songs7kFormated.csv\")\n",
    "data.head()"
   ]
  },
  {
   "cell_type": "code",
   "execution_count": 16,
   "metadata": {},
   "outputs": [],
   "source": [
    "data = data.sort_values(by=['years'], ascending= False)"
   ]
  },
  {
   "cell_type": "code",
   "execution_count": 17,
   "metadata": {},
   "outputs": [
    {
     "data": {
      "text/html": [
       "<div>\n",
       "<style scoped>\n",
       "    .dataframe tbody tr th:only-of-type {\n",
       "        vertical-align: middle;\n",
       "    }\n",
       "\n",
       "    .dataframe tbody tr th {\n",
       "        vertical-align: top;\n",
       "    }\n",
       "\n",
       "    .dataframe thead th {\n",
       "        text-align: right;\n",
       "    }\n",
       "</style>\n",
       "<table border=\"1\" class=\"dataframe\">\n",
       "  <thead>\n",
       "    <tr style=\"text-align: right;\">\n",
       "      <th></th>\n",
       "      <th>Unnamed: 0</th>\n",
       "      <th>songLyrics</th>\n",
       "      <th>songMovie</th>\n",
       "      <th>songSinger</th>\n",
       "      <th>songName</th>\n",
       "      <th>years</th>\n",
       "    </tr>\n",
       "  </thead>\n",
       "  <tbody>\n",
       "    <tr>\n",
       "      <th>0</th>\n",
       "      <td>0</td>\n",
       "      <td>Ghoomar rabb waare\\r\\nAap padharo saa\\r\\n\\r\\nA...</td>\n",
       "      <td>Padmaavat</td>\n",
       "      <td>Shreya Ghoshal</td>\n",
       "      <td>Ghoomar</td>\n",
       "      <td>2018</td>\n",
       "    </tr>\n",
       "    <tr>\n",
       "      <th>127</th>\n",
       "      <td>127</td>\n",
       "      <td>Nain phisal gaye\\r\\nNazrein phisal gayi\\r\\nBut...</td>\n",
       "      <td>Welcome to New York</td>\n",
       "      <td>Payal Dev</td>\n",
       "      <td>Nain Phisal Gaye</td>\n",
       "      <td>2018</td>\n",
       "    </tr>\n",
       "  </tbody>\n",
       "</table>\n",
       "</div>"
      ],
      "text/plain": [
       "     Unnamed: 0                                         songLyrics  \\\n",
       "0             0  Ghoomar rabb waare\\r\\nAap padharo saa\\r\\n\\r\\nA...   \n",
       "127         127  Nain phisal gaye\\r\\nNazrein phisal gayi\\r\\nBut...   \n",
       "\n",
       "               songMovie      songSinger           songName  years  \n",
       "0              Padmaavat  Shreya Ghoshal            Ghoomar   2018  \n",
       "127  Welcome to New York       Payal Dev   Nain Phisal Gaye   2018  "
      ]
     },
     "execution_count": 17,
     "metadata": {},
     "output_type": "execute_result"
    }
   ],
   "source": [
    "data.head(2)"
   ]
  },
  {
   "cell_type": "code",
   "execution_count": 34,
   "metadata": {},
   "outputs": [],
   "source": [
    "# data['songLyrics'][0].split(\"\\n\")\n",
    "\n",
    "# nltk.download('punkt')\n",
    "doc=[]\n",
    "for i in range(data.shape[0]):\n",
    "    try:\n",
    "        doc.append(nltk.word_tokenize(re.sub('[^a-zA-z\\s]','',data['songLyrics'][i].lower())))\n",
    "    except:\n",
    "        doc.append(nltk.word_tokenize(re.sub('[^a-zA-z\\s]','',data['songLyrics'][i-1].lower())))\n",
    "\n",
    "    "
   ]
  },
  {
   "cell_type": "code",
   "execution_count": 46,
   "metadata": {},
   "outputs": [],
   "source": [
    "np.isnan(data['songLyrics'][2749])\n",
    "\n"
   ]
  },
  {
   "cell_type": "code",
   "execution_count": 36,
   "metadata": {},
   "outputs": [],
   "source": [
    "# import nltk\n",
    "# nltk.download('punkt')"
   ]
  },
  {
   "cell_type": "code",
   "execution_count": 37,
   "metadata": {},
   "outputs": [],
   "source": [
    "count_words = {}\n",
    "for x in doc:\n",
    "    for y in x:\n",
    "        if count_words.get(y)==None:\n",
    "            count_words[y] = 0\n",
    "        count_words[y]+=1\n"
   ]
  },
  {
   "cell_type": "code",
   "execution_count": 38,
   "metadata": {},
   "outputs": [
    {
     "data": {
      "text/plain": [
       "['hai', 'ke', 'na', 'dil', 'ho', 'me', 'ki', 'se', 'tu', 'ye']"
      ]
     },
     "execution_count": 38,
     "metadata": {},
     "output_type": "execute_result"
    }
   ],
   "source": [
    "sorted_weight = sorted(count_words.items(), key=lambda x:x[1], reverse = True\n",
    "       )\n",
    "stopWords = sorted_weight[:300]\n",
    "\n",
    "def column(matrix, index):\n",
    "    x = []\n",
    "    for y in matrix:\n",
    "        x.append(y[index])\n",
    "    return x\n",
    "stopWords = column(stopWords,0)\n",
    "stopWords[:10]"
   ]
  },
  {
   "cell_type": "markdown",
   "metadata": {},
   "source": [
    "#### Doc with removed stop words\n",
    "> format of doc : "
   ]
  },
  {
   "cell_type": "code",
   "execution_count": 40,
   "metadata": {},
   "outputs": [],
   "source": [
    "# nltk.download('punkt')\n",
    "doc=[]\n",
    "for i in range(data.shape[0]):\n",
    "    try:\n",
    "        doc.append(set([x for x in nltk.word_tokenize(re.sub('[^a-zA-z\\s]','',data['songLyrics'][i].lower())) if x not in stopWords]))\n",
    "    except:\n",
    "        doc.append(set([x for x in nltk.word_tokenize(re.sub('[^a-zA-z\\s]','',data['songLyrics'][i-1].lower())) if x not in stopWords]))\n",
    "\n",
    "        "
   ]
  },
  {
   "cell_type": "markdown",
   "metadata": {},
   "source": [
    "# Bag of words approach"
   ]
  },
  {
   "cell_type": "code",
   "execution_count": 41,
   "metadata": {},
   "outputs": [],
   "source": [
    "strr=\"\"\n",
    "for i in doc[:1000]:\n",
    "    for j in i:\n",
    "        strr=strr+' '+ j"
   ]
  },
  {
   "cell_type": "code",
   "execution_count": null,
   "metadata": {},
   "outputs": [],
   "source": [
    "# wordcloud = WordCloud(width=1600, height=800,max_font_size=200).generate(strr)\n",
    "# plt.figure(figsize=(12,10))\n",
    "# plt.imshow(wordcloud, interpolation=\"bilinear\")\n",
    "# plt.axis(\"off\")\n",
    "# plt.show()"
   ]
  },
  {
   "cell_type": "markdown",
   "metadata": {},
   "source": [
    "> Word cloud for songs after 2010"
   ]
  },
  {
   "cell_type": "code",
   "execution_count": null,
   "metadata": {},
   "outputs": [],
   "source": [
    "# strr=\"\"\n",
    "# for i in doc[3300:4480]:\n",
    "#     for j in i:\n",
    "#         strr=strr+' '+ j"
   ]
  },
  {
   "cell_type": "code",
   "execution_count": null,
   "metadata": {},
   "outputs": [],
   "source": [
    "len(strr)"
   ]
  },
  {
   "cell_type": "code",
   "execution_count": null,
   "metadata": {},
   "outputs": [],
   "source": [
    "# wordcloud = WordCloud(width=1600, height=800,max_font_size=200).generate(strr)\n",
    "# plt.figure(figsize=(12,10))\n",
    "# plt.imshow(wordcloud, interpolation=\"bilinear\")\n",
    "# plt.axis(\"off\")\n",
    "# plt.show()"
   ]
  },
  {
   "cell_type": "markdown",
   "metadata": {},
   "source": [
    "> Word Cloud of Songs before 2000"
   ]
  },
  {
   "cell_type": "markdown",
   "metadata": {},
   "source": [
    "### Finding the word rank over the years\n",
    "\n",
    "> To do: Remove stop words ( atleast 100) and then find ranks\n",
    "\n",
    "> Do on a set of (list of words ) instead of taking all the repetitions"
   ]
  },
  {
   "cell_type": "code",
   "execution_count": 42,
   "metadata": {},
   "outputs": [
    {
     "data": {
      "text/html": [
       "<div>\n",
       "<style scoped>\n",
       "    .dataframe tbody tr th:only-of-type {\n",
       "        vertical-align: middle;\n",
       "    }\n",
       "\n",
       "    .dataframe tbody tr th {\n",
       "        vertical-align: top;\n",
       "    }\n",
       "\n",
       "    .dataframe thead th {\n",
       "        text-align: right;\n",
       "    }\n",
       "</style>\n",
       "<table border=\"1\" class=\"dataframe\">\n",
       "  <thead>\n",
       "    <tr style=\"text-align: right;\">\n",
       "      <th></th>\n",
       "      <th>Unnamed: 0</th>\n",
       "      <th>songLyrics</th>\n",
       "      <th>songMovie</th>\n",
       "      <th>songSinger</th>\n",
       "      <th>songName</th>\n",
       "      <th>years</th>\n",
       "    </tr>\n",
       "  </thead>\n",
       "  <tbody>\n",
       "    <tr>\n",
       "      <th>0</th>\n",
       "      <td>0</td>\n",
       "      <td>Ghoomar rabb waare\\r\\nAap padharo saa\\r\\n\\r\\nA...</td>\n",
       "      <td>Padmaavat</td>\n",
       "      <td>Shreya Ghoshal</td>\n",
       "      <td>Ghoomar</td>\n",
       "      <td>2018</td>\n",
       "    </tr>\n",
       "    <tr>\n",
       "      <th>127</th>\n",
       "      <td>127</td>\n",
       "      <td>Nain phisal gaye\\r\\nNazrein phisal gayi\\r\\nBut...</td>\n",
       "      <td>Welcome to New York</td>\n",
       "      <td>Payal Dev</td>\n",
       "      <td>Nain Phisal Gaye</td>\n",
       "      <td>2018</td>\n",
       "    </tr>\n",
       "    <tr>\n",
       "      <th>118</th>\n",
       "      <td>118</td>\n",
       "      <td>12 ki umar mein tum pehli baar dikhi\\r\\n13 ka ...</td>\n",
       "      <td>Baa Baaa Black Sheep</td>\n",
       "      <td>Sonu Nigam</td>\n",
       "      <td>Angelina</td>\n",
       "      <td>2018</td>\n",
       "    </tr>\n",
       "    <tr>\n",
       "      <th>119</th>\n",
       "      <td>119</td>\n",
       "      <td>Kala na safed hai\\r\\nKala na safed hai\\r\\nIshq...</td>\n",
       "      <td>Manmarziyaan</td>\n",
       "      <td>Harshdeep Kaur, Jazim Sharma</td>\n",
       "      <td>Grey Walaa Shade</td>\n",
       "      <td>2018</td>\n",
       "    </tr>\n",
       "    <tr>\n",
       "      <th>120</th>\n",
       "      <td>120</td>\n",
       "      <td>Hey…\\r\\nSajni raahein mangal gaavein\\r\\nMann u...</td>\n",
       "      <td>Parmanu The Story of Pokhran</td>\n",
       "      <td>Jyotica Tangri</td>\n",
       "      <td>Shubh Din</td>\n",
       "      <td>2018</td>\n",
       "    </tr>\n",
       "    <tr>\n",
       "      <th>...</th>\n",
       "      <td>...</td>\n",
       "      <td>...</td>\n",
       "      <td>...</td>\n",
       "      <td>...</td>\n",
       "      <td>...</td>\n",
       "      <td>...</td>\n",
       "    </tr>\n",
       "    <tr>\n",
       "      <th>7328</th>\n",
       "      <td>7328</td>\n",
       "      <td>chadti jawani me jhulo jholo meri rani\\r\\ntum ...</td>\n",
       "      <td>Shehnai</td>\n",
       "      <td>Geeta Dutt, Chitalkar Ramchandra, Binapani Muk...</td>\n",
       "      <td>Chadhti Jawani Me Jhulo</td>\n",
       "      <td>1947</td>\n",
       "    </tr>\n",
       "    <tr>\n",
       "      <th>7329</th>\n",
       "      <td>7329</td>\n",
       "      <td>ye kaun chalaa, ye kaun chala, ye kaun chala h...</td>\n",
       "      <td>Dard</td>\n",
       "      <td>Uma Devi</td>\n",
       "      <td>Ye Kaun Chala</td>\n",
       "      <td>1947</td>\n",
       "    </tr>\n",
       "    <tr>\n",
       "      <th>7330</th>\n",
       "      <td>7330</td>\n",
       "      <td>Haa\\r\\nAayi ajal aye zindagi\\r\\nGham ka zamana...</td>\n",
       "      <td>Elan</td>\n",
       "      <td>Amirbai Karnataki</td>\n",
       "      <td>Aayi Ajal Aye Zindagi</td>\n",
       "      <td>1947</td>\n",
       "    </tr>\n",
       "    <tr>\n",
       "      <th>7331</th>\n",
       "      <td>7331</td>\n",
       "      <td>mere piya to base pardes re\\r\\nhaye basant rut...</td>\n",
       "      <td>Do Bhai</td>\n",
       "      <td>Geeta Dutt</td>\n",
       "      <td>Mere Piya To Base Pardes Re</td>\n",
       "      <td>1947</td>\n",
       "    </tr>\n",
       "    <tr>\n",
       "      <th>7362</th>\n",
       "      <td>7362</td>\n",
       "      <td>yad karoge\\r\\nyad karoge, yad karoge\\r\\nek din...</td>\n",
       "      <td>Do Bhai</td>\n",
       "      <td>Geeta Dutt</td>\n",
       "      <td>Ek Din Hum Ko Yaad Karoge</td>\n",
       "      <td>1947</td>\n",
       "    </tr>\n",
       "  </tbody>\n",
       "</table>\n",
       "<p>7363 rows × 6 columns</p>\n",
       "</div>"
      ],
      "text/plain": [
       "      Unnamed: 0                                         songLyrics  \\\n",
       "0              0  Ghoomar rabb waare\\r\\nAap padharo saa\\r\\n\\r\\nA...   \n",
       "127          127  Nain phisal gaye\\r\\nNazrein phisal gayi\\r\\nBut...   \n",
       "118          118  12 ki umar mein tum pehli baar dikhi\\r\\n13 ka ...   \n",
       "119          119  Kala na safed hai\\r\\nKala na safed hai\\r\\nIshq...   \n",
       "120          120  Hey…\\r\\nSajni raahein mangal gaavein\\r\\nMann u...   \n",
       "...          ...                                                ...   \n",
       "7328        7328  chadti jawani me jhulo jholo meri rani\\r\\ntum ...   \n",
       "7329        7329  ye kaun chalaa, ye kaun chala, ye kaun chala h...   \n",
       "7330        7330  Haa\\r\\nAayi ajal aye zindagi\\r\\nGham ka zamana...   \n",
       "7331        7331  mere piya to base pardes re\\r\\nhaye basant rut...   \n",
       "7362        7362  yad karoge\\r\\nyad karoge, yad karoge\\r\\nek din...   \n",
       "\n",
       "                         songMovie  \\\n",
       "0                        Padmaavat   \n",
       "127            Welcome to New York   \n",
       "118           Baa Baaa Black Sheep   \n",
       "119                   Manmarziyaan   \n",
       "120   Parmanu The Story of Pokhran   \n",
       "...                            ...   \n",
       "7328                       Shehnai   \n",
       "7329                          Dard   \n",
       "7330                          Elan   \n",
       "7331                       Do Bhai   \n",
       "7362                       Do Bhai   \n",
       "\n",
       "                                             songSinger  \\\n",
       "0                                        Shreya Ghoshal   \n",
       "127                                           Payal Dev   \n",
       "118                                          Sonu Nigam   \n",
       "119                        Harshdeep Kaur, Jazim Sharma   \n",
       "120                                      Jyotica Tangri   \n",
       "...                                                 ...   \n",
       "7328  Geeta Dutt, Chitalkar Ramchandra, Binapani Muk...   \n",
       "7329                                           Uma Devi   \n",
       "7330                                  Amirbai Karnataki   \n",
       "7331                                         Geeta Dutt   \n",
       "7362                                         Geeta Dutt   \n",
       "\n",
       "                          songName  years  \n",
       "0                          Ghoomar   2018  \n",
       "127               Nain Phisal Gaye   2018  \n",
       "118                       Angelina   2018  \n",
       "119               Grey Walaa Shade   2018  \n",
       "120                      Shubh Din   2018  \n",
       "...                            ...    ...  \n",
       "7328       Chadhti Jawani Me Jhulo   1947  \n",
       "7329                 Ye Kaun Chala   1947  \n",
       "7330         Aayi Ajal Aye Zindagi   1947  \n",
       "7331   Mere Piya To Base Pardes Re   1947  \n",
       "7362     Ek Din Hum Ko Yaad Karoge   1947  \n",
       "\n",
       "[7363 rows x 6 columns]"
      ]
     },
     "execution_count": 42,
     "metadata": {},
     "output_type": "execute_result"
    }
   ],
   "source": [
    "# for every year, create a list of dictionary\n",
    "# every dictionary has word and frequency count\n",
    "# create a global list of words and frequency count as well\n",
    "\n",
    "data"
   ]
  },
  {
   "cell_type": "code",
   "execution_count": 49,
   "metadata": {},
   "outputs": [],
   "source": [
    "# set(data.years)"
   ]
  },
  {
   "cell_type": "code",
   "execution_count": 57,
   "metadata": {},
   "outputs": [],
   "source": [
    "dummySong = data['songLyrics'][1]\n",
    "# dummySong = set([x for x in nltk.word_tokenize(re.sub('[^a-zA-z\\s]','',data['songLyrics'][2-1].lower())) if x not in stopWords])\n",
    "# dummySong"
   ]
  },
  {
   "cell_type": "code",
   "execution_count": 60,
   "metadata": {},
   "outputs": [],
   "source": [
    "# get all the songs for a year\n",
    "# return type list ( song1, song2 , ...., songN)\n",
    "def getSongsForYear(dataframe, columnNameWithYear = \"years\", year = \"2019\", songLyricsColumn = \"songLyrics\"):\n",
    "    return list(dataframe[data[columnNameWithYear] == year][\"songLyrics\"])\n",
    "\n",
    "# preprocesses a single song and returns a song as output\n",
    "def songPreprocessing(song):\n",
    "    try:\n",
    "        listOfWords = re.split(r'[;,\\s...\\n()\\'!?.]\\s*',song)\n",
    "    except:\n",
    "        listOfWords = re.split(r'[;,\\s...\\n()\\'!?.]\\s*',dummySong) # For nan values, normalize\n",
    "    processedSong = ''\n",
    "    for word in listOfWords:\n",
    "        word = word.lower()\n",
    "        if word == 'x2':\n",
    "            continue\n",
    "        if word == 'x4':\n",
    "            continue\n",
    "        if word == '':\n",
    "            continue\n",
    "        processedSong+=word+' '\n",
    "    return processedSong\n",
    "def processDataFrame(data):\n",
    "    allSongs=[]\n",
    "    for year in data.years.unique():\n",
    "        \n",
    "        songs = getSongsForYear(data, \"years\", year, \"songLyrics\")\n",
    "        for mySong in songs:\n",
    "            # preprocess the songs\n",
    "            mySong = songPreprocessing(mySong)\n",
    "            allSongs.append(mySong)\n",
    "    return allSongs\n",
    "        "
   ]
  },
  {
   "cell_type": "code",
   "execution_count": 61,
   "metadata": {},
   "outputs": [],
   "source": [
    "# create an english dictionary \n",
    "englishWords = {}\n",
    "df = pd.read_excel(\"wordlist60k.xlsx\") # once we have the data\n",
    "listOfWords = list(df.a)\n",
    "for word in listOfWords:\n",
    "    englishWords[word] = True\n",
    "# now get the words in the dataset\n",
    "allSongs = processDataFrame(data)\n",
    "englishWordsData = {}\n",
    "for song in allSongs:\n",
    "    l = song.split(\" \")\n",
    "    for word in  l:\n",
    "        if englishWords.get(word) != None:\n",
    "            englishWordsData[word] = True\n",
    "        \n",
    "        "
   ]
  },
  {
   "cell_type": "code",
   "execution_count": 62,
   "metadata": {},
   "outputs": [
    {
     "data": {
      "text/plain": [
       "4445"
      ]
     },
     "execution_count": 62,
     "metadata": {},
     "output_type": "execute_result"
    }
   ],
   "source": [
    "len(englishWordsData)"
   ]
  },
  {
   "cell_type": "code",
   "execution_count": 63,
   "metadata": {},
   "outputs": [],
   "source": [
    "import operator\n",
    "# assigns ranks for a year to the words\n",
    "# input dictionary for a year { word: frequency}\n",
    "# output  dictionary {word: rank} \n",
    "def assignRankToWords(d):\n",
    "    sortedListOfWords = sorted(d.items(), key = operator.itemgetter(1), reverse = True)\n",
    "    rankDictionary = {}\n",
    "    currentRank = 0\n",
    "    \n",
    "    # [('hai', 1664),\n",
    "    #      ('tu', 848),\n",
    "    #      ('main', 817)] sample sorted list of words\n",
    "    # since words are reverse sorted so :\n",
    "    for pair in sortedListOfWords:\n",
    "        word = pair[0]\n",
    "        rank = currentRank\n",
    "        rankDictionary[word] = rank\n",
    "        currentRank+=1\n",
    "    return rankDictionary\n",
    "\n",
    "        \n",
    "\n",
    "# generate year wise word frequency count in all songs\n",
    "# input  = data ( songs data)\n",
    "# output = List of 2 dictionaries [dictionary ( { year : {word: frequency}}  ), globalRankDictionary (year , {word: rank}) ]\n",
    "def createWordFreqCountPerYear(data):\n",
    "    listOfDictionary = []\n",
    "    gDict = {}\n",
    "    gRankDictionary = {}\n",
    "    for year in data.years.unique():\n",
    "        songs = getSongsForYear(data, \"years\", year, \"songLyrics\")\n",
    "        d = {}\n",
    "        for mySong in songs:\n",
    "            # preprocess the songs\n",
    "            mySong = songPreprocessing(mySong)\n",
    "            listOfWords = mySong.split(\" \")\n",
    "            for word in (listOfWords): # use set here as well\n",
    "                if d.get(word) == None: \n",
    "                    d[word] = 0\n",
    "                d[word]+=1\n",
    "        # assign rank to words\n",
    "        rankDictionary = assignRankToWords(d)\n",
    "        gRankDictionary[year] = rankDictionary\n",
    "        gDict[year] = d\n",
    "            \n",
    "\n",
    "    return [gDict, gRankDictionary]\n",
    "#     listOfDictionary.append(gDict)\n",
    "    \n",
    "\n",
    "gDict, gRankDictionary = createWordFreqCountPerYear(data) # global dictionary\n",
    "\n"
   ]
  },
  {
   "cell_type": "code",
   "execution_count": 65,
   "metadata": {},
   "outputs": [
    {
     "data": {
      "text/plain": [
       "[('hai', 1268),\n",
       " ('tu', 588),\n",
       " ('main', 551),\n",
       " ('ho', 526),\n",
       " ('na', 497),\n",
       " ('mein', 475),\n",
       " ('ke', 471),\n",
       " ('se', 455),\n",
       " ('ki', 422),\n",
       " ('tere', 354)]"
      ]
     },
     "execution_count": 65,
     "metadata": {},
     "output_type": "execute_result"
    }
   ],
   "source": [
    "sorted(gDict[2018].items(), key = operator.itemgetter(1), reverse = True)[:10]"
   ]
  },
  {
   "cell_type": "code",
   "execution_count": 69,
   "metadata": {},
   "outputs": [
    {
     "data": {
      "text/plain": [
       "[('hai', 1268),\n",
       " ('tu', 588),\n",
       " ('main', 551),\n",
       " ('ho', 526),\n",
       " ('na', 497),\n",
       " ('mein', 475),\n",
       " ('ke', 471),\n",
       " ('se', 455),\n",
       " ('ki', 422),\n",
       " ('tere', 354)]"
      ]
     },
     "execution_count": 69,
     "metadata": {},
     "output_type": "execute_result"
    }
   ],
   "source": [
    "import operator\n",
    "wordFreqDict = gDict[2018]\n",
    "sorted( wordFreqDict.items(), key=operator.itemgetter(1), reverse = True)[:10]"
   ]
  },
  {
   "cell_type": "code",
   "execution_count": 70,
   "metadata": {},
   "outputs": [],
   "source": [
    "# Word rank for a year\n",
    "# input  dictionary ( { year : {word: rank}}  ) , word\n",
    "# output is word rank of a word in several years [ list (year, rank)]\n",
    "def getWordRanks(gRankDictionary = gRankDictionary, word = \"ladki\"):\n",
    "    retList = []\n",
    "    for year in gRankDictionary.keys():\n",
    "        if year == 0 :\n",
    "            continue\n",
    "        d = gRankDictionary[year]\n",
    "        if(d.get(word) == None):\n",
    "            retList.append([year, 1])\n",
    "        else:\n",
    "            retList.append([year, d[word]/len(d)])\n",
    "    \n",
    "    return retList\n",
    "\n",
    "# let's merge some of these years and take a moving average\n",
    "\n",
    "# Use: averages 2d matrix (year: values) to 2d matrix (year/4, average(values) over 4 years)\n",
    "# input, 2d matrix , years to average on (even numbers 0, 2 , 4 ...)\n",
    "# output is 2d matrix\n",
    "def average2DMatrixOverTime(myList, yearNumberToAverage ):\n",
    "    yearCounter = 0\n",
    "    averagedList = []\n",
    "    myYear = 0\n",
    "    numberYearAverage = yearNumberToAverage\n",
    "    movingAverage = 0\n",
    "    for x in myList:\n",
    "    #     print(x)\n",
    "        year = x[0]\n",
    "        rank = x[1]\n",
    "        movingAverage+=rank\n",
    "        if(yearCounter == int(numberYearAverage/2)):\n",
    "            myYear = year\n",
    "\n",
    "\n",
    "        if yearCounter == numberYearAverage:\n",
    "            averagedList.append([myYear, movingAverage/numberYearAverage])\n",
    "            yearCounter = 0\n",
    "            movingAverage = 0\n",
    "\n",
    "        yearCounter+=1\n",
    "    return averagedList\n",
    "\n",
    "# gets column in a n-Dimensional matrix\n",
    "def column(matrix, index):\n",
    "    x = []\n",
    "    for y in matrix:\n",
    "        x.append(y[index])\n",
    "            \n",
    "    return x\n",
    "\n",
    "word1 = \"paisa\"\n",
    "word2 = \"ladki\"\n",
    "myList = getWordRanks(gRankDictionary, word1)\n",
    "myList2 = getWordRanks(gRankDictionary, word2)\n",
    "myList = sorted(myList,key= operator.itemgetter(0), reverse = False)\n",
    "myList2 = sorted(myList2,key= operator.itemgetter(0), reverse = False)"
   ]
  },
  {
   "cell_type": "code",
   "execution_count": 71,
   "metadata": {},
   "outputs": [
    {
     "data": {
      "text/plain": [
       "17"
      ]
     },
     "execution_count": 71,
     "metadata": {},
     "output_type": "execute_result"
    }
   ],
   "source": [
    "averagedList = average2DMatrixOverTime(myList, 4)\n",
    "averagedList2 = average2DMatrixOverTime(myList2, 4)\n",
    "# averagedList = sorted(averagedList,key= operator.itemgetter(0), reverse = True)\n",
    "# averagedList2 = sorted(averagedList2,key= operator.itemgetter(0), reverse = True)\n",
    "len(column(averagedList,0))"
   ]
  },
  {
   "cell_type": "code",
   "execution_count": 111,
   "metadata": {},
   "outputs": [
    {
     "name": "stdout",
     "output_type": "stream",
     "text": [
      "Do singlePlot = True to plot or plt.show() to Print\n",
      "Do singlePlot = True to plot or plt.show() to Print\n"
     ]
    },
    {
     "data": {
      "image/png": "[encoded data removed]",
      "text/plain": [
       "<Figure size 432x288 with 1 Axes>"
      ]
     },
     "metadata": {
      "needs_background": "light"
     },
     "output_type": "display_data"
    }
   ],
   "source": [
    "# Input a word and get yearwise rank of the word\n",
    "\n",
    "#input the word and chart is  ploted automatically \n",
    "def plotRankChart(word, gRankDictionary, fitPolynomialDegree = -1, fitPolynomial_X_list = np.array(range(0,1,4)), singlePlot = False, polyFitColor = '' ):\n",
    "    myList = getWordRanks(gRankDictionary, word)\n",
    "    myList = sorted(myList,key= operator.itemgetter(0), reverse = False)\n",
    "    averagedList = average2DMatrixOverTime(myList, 4)\n",
    "#     sns.lineplot(column(averagedList, 0), column(averagedList, 1),  marker = '*', dashes = False, label = \"Rank of \\'\"+word+\"\\'\")\n",
    "    \n",
    "#     plt.plot(column(averagedList, 0)[1:], column(averagedList, 1)[1:],  marker = '*',  label = \"Rank of \\'\"+word+\"\\'\")\n",
    "    plt.plot(column(averagedList, 0)[1:], ([1-x for x in column(averagedList, 1)[1:]]),  marker = '*',  label = \"Rank of \\'\"+word+\"\\'\")\n",
    "    \n",
    "    if(fitPolynomialDegree != -1 and fitPolynomialDegree!=0):\n",
    "        x = fitPolynomial_X_list\n",
    "        x_knots = column(myList, 0)\n",
    "        y_knots = column(myList, 1)\n",
    "        \n",
    "        y_knots = [1-x for x in column(myList,1)]\n",
    "        \n",
    "        poly_deg = 3\n",
    "        coefs = np.polyfit(x_knots, y_knots, poly_deg)\n",
    "        y_poly = np.polyval(coefs, x)\n",
    "\n",
    "        # plt.scatter(x_knots, y_knots, \"o\", label=\"data points\")\n",
    "        if(polyFitColor == ''):\n",
    "            plt.plot(x, y_poly, label = \"Fit for '\"+word+\"\\'\")\n",
    "        else:\n",
    "            plt.plot(x, y_poly, polyFitColor,  label = \"Fit for '\"+word+\"\\'\")\n",
    "    if(singlePlot == True):\n",
    "        plt.show()\n",
    "    else:\n",
    "        print(\"Do singlePlot = True to plot or plt.show() to Print\")\n",
    "        \n",
    "        \n",
    "plotRankChart(\"sexy\", gRankDictionary, 3, np.array(range(1950, 2022, 7)), singlePlot = False, polyFitColor='violet')\n",
    "plotRankChart(\"gam\", gRankDictionary, 3, np.array(range(1950, 2022, 7)), singlePlot = False, polyFitColor='black')\n",
    "\n",
    "plt.xticks([x for x in range(1940, 2021, 10)])\n",
    "plt.yticks([x/10 for x in range(0, 11, 2)])\n",
    "\n",
    "plt.xlabel(\"Years\")\n",
    "plt.ylabel(\"Normalized Rank\")\n",
    "plt.title(\"Rank of word over time\")\n",
    "plt.legend()\n",
    "plt.show()"
   ]
  },
  {
   "cell_type": "code",
   "execution_count": 74,
   "metadata": {},
   "outputs": [
    {
     "data": {
      "text/plain": [
       "4445"
      ]
     },
     "execution_count": 74,
     "metadata": {},
     "output_type": "execute_result"
    }
   ],
   "source": [
    "wordRanks3d = []\n",
    "for word in englishWordsData:\n",
    "    wordRanks3d.append(getWordRanks(gRankDictionary, word))\n",
    "    \n",
    "# average the word ranks over the years\n",
    "len(wordRanks3d)"
   ]
  },
  {
   "cell_type": "code",
   "execution_count": 75,
   "metadata": {},
   "outputs": [
    {
     "data": {
      "text/plain": [
       "72"
      ]
     },
     "execution_count": 75,
     "metadata": {},
     "output_type": "execute_result"
    }
   ],
   "source": [
    "temp = getWordRanks(gRankDictionary, \"ladki\")\n",
    "len(temp)"
   ]
  },
  {
   "cell_type": "code",
   "execution_count": 76,
   "metadata": {},
   "outputs": [
    {
     "name": "stderr",
     "output_type": "stream",
     "text": [
      "No handles with labels found to put in legend.\n"
     ]
    },
    {
     "data": {
      "image/png": "[encoded data removed]",
      "text/plain": [
       "<Figure size 432x288 with 1 Axes>"
      ]
     },
     "metadata": {
      "needs_background": "light"
     },
     "output_type": "display_data"
    }
   ],
   "source": [
    "# output [[2019: hello], [2018: hi], [2017: hamara]]\n",
    "wordRanks3d[2][0]\n",
    "averageRanksOfEnglishWordsOverYears = []\n",
    "for i in range(len(temp)):\n",
    "    year = 0\n",
    "    rankSum = 0\n",
    "    \n",
    "    for j in range(len(wordRanks3d)):\n",
    "        year = wordRanks3d[j][i][0]\n",
    "        rank = wordRanks3d[j][i][1]\n",
    "        rankSum+=rank\n",
    "#         print(wordRanks3d[j][i])\n",
    "        # sum up all the ranks\n",
    "        \n",
    "    rankSumAverage = rankSum/len(wordRanks3d)\n",
    "    averageRanksOfEnglishWordsOverYears.append([year, rankSumAverage])\n",
    "averageRanksOfEnglishWordsOverYears\n",
    "\n",
    "plt.plot(column(averageRanksOfEnglishWordsOverYears, 0), column(averageRanksOfEnglishWordsOverYears,1),color = \"red\", marker = \"^\")\n",
    "plt.xticks([x for x in range(1940, 2021, 10)])\n",
    "plt.yticks([x/10 for x in range(8, 12, 2)])\n",
    "\n",
    "plt.xlabel(\"Years\")\n",
    "plt.ylabel(\"Normalized Rank\")\n",
    "plt.title(\"Average Normalized Ranks of English Words over time\")\n",
    "plt.legend()\n",
    "plt.savefig(\"EnglishWordsRanksOverTime.png\")\n",
    "\n",
    "plt.show()\n",
    "# plotRankChart(averageRanksOfEnglishWordsOverYears, gRankDictionary, 3,  np.array(range(1950, 2022, 7)), singlePlot = False, polyFitColor='violet')"
   ]
  },
  {
   "cell_type": "code",
   "execution_count": 77,
   "metadata": {},
   "outputs": [
    {
     "name": "stderr",
     "output_type": "stream",
     "text": [
      "No handles with labels found to put in legend.\n"
     ]
    },
    {
     "data": {
      "image/png": "[encoded data removed]",
      "text/plain": [
       "<Figure size 432x288 with 1 Axes>"
      ]
     },
     "metadata": {
      "needs_background": "light"
     },
     "output_type": "display_data"
    },
    {
     "data": {
      "text/plain": [
       "0.7153941896947551"
      ]
     },
     "execution_count": 77,
     "metadata": {},
     "output_type": "execute_result"
    }
   ],
   "source": [
    "temp = average2DMatrixOverTime(averageRanksOfEnglishWordsOverYears, 2)\n",
    "temp[0][1]/=1.62\n",
    "plt.plot(column(temp, 0), column(temp,1),color = \"red\", marker = \"^\")\n",
    "plt.xticks([x for x in range(1940, 2021, 10)])\n",
    "plt.yticks([x/10 for x in range(8, 12, 2)])\n",
    "\n",
    "plt.xlabel(\"Years\")\n",
    "plt.ylabel(\"Normalized Rank\")\n",
    "plt.title(\"Average Normalized Ranks of English Words over time\")\n",
    "plt.legend()\n",
    "plt.savefig(\"EnglishWordsRanksOverTime.png\")\n",
    "\n",
    "plt.show()\n",
    "temp[0][1]"
   ]
  },
  {
   "cell_type": "code",
   "execution_count": 78,
   "metadata": {},
   "outputs": [
    {
     "name": "stderr",
     "output_type": "stream",
     "text": [
      "No handles with labels found to put in legend.\n"
     ]
    },
    {
     "data": {
      "image/png": "[encoded data removed]",
      "text/plain": [
       "<Figure size 432x288 with 1 Axes>"
      ]
     },
     "metadata": {
      "needs_background": "light"
     },
     "output_type": "display_data"
    }
   ],
   "source": [
    "averagedListOfEnglishWords4Years = average2DMatrixOverTime(averageRanksOfEnglishWordsOverYears, 2)\n",
    "\n",
    "plt.plot(column(averagedListOfEnglishWords4Years, 0), column(averagedListOfEnglishWords4Years,1))\n",
    "plt.xticks([x for x in range(1940, 2021, 10)])\n",
    "plt.yticks([x/10 for x in range(6, 11, 2)])\n",
    "\n",
    "plt.xlabel(\"Years\")\n",
    "plt.ylabel(\"Normalized Rank\")\n",
    "plt.title(\"Average Normalized Ranks of English Words over time\")\n",
    "plt.legend()\n",
    "plt.show()"
   ]
  },
  {
   "cell_type": "code",
   "execution_count": 79,
   "metadata": {},
   "outputs": [],
   "source": [
    "# how to code for english words in hindi transcript\n"
   ]
  },
  {
   "cell_type": "code",
   "execution_count": 80,
   "metadata": {},
   "outputs": [
    {
     "data": {
      "text/plain": [
       "<matplotlib.legend.Legend at 0x26644fde888>"
      ]
     },
     "execution_count": 80,
     "metadata": {},
     "output_type": "execute_result"
    },
    {
     "data": {
      "image/png": "[encoded data removed]",
      "text/plain": [
       "<Figure size 432x288 with 1 Axes>"
      ]
     },
     "metadata": {
      "needs_background": "light"
     },
     "output_type": "display_data"
    }
   ],
   "source": [
    "x = np.array(range(1950, 2022, 7))\n",
    "\n",
    "x_knots = column(myList, 0)\n",
    "y_knots = column(myList,1)\n",
    "\n",
    "poly_deg = 3\n",
    "coefs = np.polyfit(x_knots, y_knots, poly_deg)\n",
    "y_poly = np.polyval(coefs, x)\n",
    "\n",
    "# plt.scatter(x_knots, y_knots, \"o\", label=\"data points\")\n",
    "plt.plot(x, y_poly, label=\"polynomial fit\")\n",
    "plt.legend()"
   ]
  },
  {
   "cell_type": "code",
   "execution_count": 81,
   "metadata": {},
   "outputs": [
    {
     "data": {
      "image/png": "[encoded data removed]",
      "text/plain": [
       "<Figure size 432x288 with 1 Axes>"
      ]
     },
     "metadata": {
      "needs_background": "light"
     },
     "output_type": "display_data"
    }
   ],
   "source": [
    "from scipy.interpolate import make_interp_spline, BSpline\n",
    "\n",
    "T = np.array([6, 7, 8, 9, 10, 11, 12])\n",
    "power = np.array([1.53E+03, 5.92E+02, 2.04E+02, 7.24E+01, 2.72E+01, 1.10E+01, 4.70E+00])\n",
    "\n",
    "# 300 represents number of points to make between T.min and T.max\n",
    "xnew = np.linspace(T.min(), T.max(), 300) \n",
    "\n",
    "spl = make_interp_spline(T, power, k=3)  # type: BSpline\n",
    "power_smooth = spl(xnew)\n",
    "\n",
    "plt.plot(xnew, power_smooth)\n",
    "plt.show()"
   ]
  },
  {
   "cell_type": "code",
   "execution_count": 82,
   "metadata": {},
   "outputs": [],
   "source": [
    "train=[]\n",
    "for i in doc:\n",
    "    strr=\"\"\n",
    "    for j in i:\n",
    "        strr=strr+' '+j\n",
    "    train.append(strr)\n",
    "    "
   ]
  },
  {
   "cell_type": "code",
   "execution_count": null,
   "metadata": {},
   "outputs": [],
   "source": []
  },
  {
   "cell_type": "code",
   "execution_count": 83,
   "metadata": {},
   "outputs": [],
   "source": [
    "count_vec=CountVectorizer(max_features=10000,ngram_range=(1,3),min_df=0.01,max_df=0.9)\n",
    "features=count_vec.fit_transform(train)"
   ]
  },
  {
   "cell_type": "code",
   "execution_count": 84,
   "metadata": {},
   "outputs": [
    {
     "data": {
      "text/plain": [
       "801"
      ]
     },
     "execution_count": 84,
     "metadata": {},
     "output_type": "execute_result"
    }
   ],
   "source": [
    "len(count_vec.get_feature_names())"
   ]
  },
  {
   "cell_type": "code",
   "execution_count": null,
   "metadata": {},
   "outputs": [],
   "source": [
    "count_vec.get_feature_names()"
   ]
  },
  {
   "cell_type": "code",
   "execution_count": null,
   "metadata": {},
   "outputs": [],
   "source": [
    "sw=count_vec.get_stop_words()"
   ]
  },
  {
   "cell_type": "code",
   "execution_count": null,
   "metadata": {},
   "outputs": [],
   "source": [
    "sw"
   ]
  },
  {
   "cell_type": "markdown",
   "metadata": {},
   "source": [
    "# TF-IDF"
   ]
  },
  {
   "cell_type": "code",
   "execution_count": null,
   "metadata": {},
   "outputs": [],
   "source": [
    "tvec = TfidfVectorizer(max_features=50000, ngram_range=(1,3))\n",
    "featuress=tvec.fit_transform(train)\n",
    "\n"
   ]
  },
  {
   "cell_type": "code",
   "execution_count": null,
   "metadata": {},
   "outputs": [],
   "source": [
    "# tvec.get_feature_names()"
   ]
  },
  {
   "cell_type": "markdown",
   "metadata": {},
   "source": [
    "# Word2vec"
   ]
  },
  {
   "cell_type": "code",
   "execution_count": null,
   "metadata": {},
   "outputs": [],
   "source": [
    "# build vocabulary and train model\n",
    "w2v_model = gensim.models.Word2Vec(doc,size=300,window=15,min_count=2,workers=10,iter=10)\n",
    " "
   ]
  },
  {
   "cell_type": "code",
   "execution_count": null,
   "metadata": {},
   "outputs": [],
   "source": [
    "\n",
    "simWords = w2v_model.wv.most_similar(positive=[\"ladki\"],topn=30)\n",
    "myStrr = \"\"\n",
    "for x in simWords:\n",
    "    myStrr= myStrr+\" \"+ x[0]\n",
    "wordcloud = WordCloud(width=1600, height=800,max_font_size=200).generate(myStrr)\n",
    "plt.figure(figsize=(12,10))\n",
    "plt.imshow(wordcloud, interpolation=\"bilinear\")\n",
    "plt.axis(\"off\")\n",
    "plt.show()"
   ]
  },
  {
   "cell_type": "code",
   "execution_count": null,
   "metadata": {},
   "outputs": [],
   "source": [
    "w2v_model.wv.most_similar(positive=[\"maa\"])"
   ]
  },
  {
   "cell_type": "code",
   "execution_count": null,
   "metadata": {},
   "outputs": [],
   "source": [
    "w2v_model.wv.most_similar(positive=[\"papa\"])"
   ]
  },
  {
   "cell_type": "code",
   "execution_count": null,
   "metadata": {},
   "outputs": [],
   "source": [
    "w2v_model.wv.most_similar(positive=[\"girl\",\"ladki\"])"
   ]
  },
  {
   "cell_type": "code",
   "execution_count": null,
   "metadata": {},
   "outputs": [],
   "source": [
    "w2v_model.wv.most_similar(positive=\"disco\")"
   ]
  },
  {
   "cell_type": "code",
   "execution_count": null,
   "metadata": {},
   "outputs": [],
   "source": [
    "w2v_model.wv.most_similar(positive=\"dil\")"
   ]
  },
  {
   "cell_type": "code",
   "execution_count": null,
   "metadata": {},
   "outputs": [],
   "source": [
    "w2v_model.wv.similarity(w1=\"girl\",w2=\"dress\")"
   ]
  },
  {
   "cell_type": "code",
   "execution_count": null,
   "metadata": {},
   "outputs": [],
   "source": []
  },
  {
   "cell_type": "code",
   "execution_count": null,
   "metadata": {},
   "outputs": [],
   "source": [
    "# model.wv.vocab"
   ]
  },
  {
   "cell_type": "code",
   "execution_count": null,
   "metadata": {},
   "outputs": [],
   "source": []
  },
  {
   "cell_type": "code",
   "execution_count": null,
   "metadata": {},
   "outputs": [],
   "source": []
  },
  {
   "cell_type": "code",
   "execution_count": null,
   "metadata": {},
   "outputs": [],
   "source": []
  },
  {
   "cell_type": "code",
   "execution_count": null,
   "metadata": {},
   "outputs": [],
   "source": []
  },
  {
   "cell_type": "code",
   "execution_count": null,
   "metadata": {},
   "outputs": [],
   "source": [
    "# word_freq = defaultdict(int)\n",
    "# for i in doc:\n",
    "#     for j in i:\n",
    "#         word_freq[j] += 1\n",
    "# len(word_freq)"
   ]
  },
  {
   "cell_type": "code",
   "execution_count": null,
   "metadata": {},
   "outputs": [],
   "source": [
    "# sorted(word_freq, key=word_freq.get, reverse=True)[:10]"
   ]
  },
  {
   "cell_type": "code",
   "execution_count": null,
   "metadata": {},
   "outputs": [],
   "source": [
    "# w2v_model = gensim.models.Word2Vec(min_count=20,\n",
    "#                      window=2,\n",
    "#                      size=300,\n",
    "#                      sample=6e-5, \n",
    "#                      alpha=0.03, \n",
    "#                      min_alpha=0.0007, \n",
    "#                      negative=20,)\n",
    "# w2v_model.build_vocab(doc)"
   ]
  },
  {
   "cell_type": "code",
   "execution_count": null,
   "metadata": {},
   "outputs": [],
   "source": [
    "# w2v_model.train(doc, total_examples=w2v_model.corpus_count, epochs=30, report_delay=1)"
   ]
  },
  {
   "cell_type": "code",
   "execution_count": null,
   "metadata": {},
   "outputs": [],
   "source": [
    "# w2v_model.wv.most_similar(positive=[\"ladki\"],topn=30)"
   ]
  },
  {
   "cell_type": "code",
   "execution_count": null,
   "metadata": {},
   "outputs": [],
   "source": [
    "# w2v_model.wv.doesnt_match(['ladki', 'munda', 'girl'])"
   ]
  },
  {
   "cell_type": "code",
   "execution_count": null,
   "metadata": {},
   "outputs": [],
   "source": []
  },
  {
   "cell_type": "code",
   "execution_count": null,
   "metadata": {},
   "outputs": [],
   "source": []
  },
  {
   "cell_type": "code",
   "execution_count": null,
   "metadata": {},
   "outputs": [],
   "source": []
  },
  {
   "cell_type": "code",
   "execution_count": null,
   "metadata": {},
   "outputs": [],
   "source": [
    "# t-SNE Visualization \n",
    "import seaborn as sns\n",
    "sns.set_style(\"darkgrid\")\n",
    "\n",
    "from sklearn.decomposition import PCA\n",
    "from sklearn.manifold import TSNE\n",
    "# Our goal in this section is to plot our 300 dimensions vectors into 2 dimensional graphs, and see if we can spot interesting patterns.\n",
    "# For that we are going to use t-SNE implementation from scikit-learn."
   ]
  },
  {
   "cell_type": "code",
   "execution_count": null,
   "metadata": {},
   "outputs": [],
   "source": []
  },
  {
   "cell_type": "code",
   "execution_count": null,
   "metadata": {},
   "outputs": [],
   "source": [
    "def tsnescatterplot(model, word, list_names):\n",
    "    \"\"\" Plot in seaborn the results from the t-SNE dimensionality reduction algorithm of the vectors of a query word,\n",
    "    its list of most similar words, and a list of words.\n",
    "    \"\"\"\n",
    "    arrays = np.empty((0, 300), dtype='f')\n",
    "    word_labels = [word]\n",
    "    color_list  = ['red']\n",
    "\n",
    "    # adds the vector of the query word\n",
    "    arrays = np.append(arrays, model.wv.__getitem__([word]), axis=0)\n",
    "    \n",
    "    # gets list of most similar words\n",
    "    close_words = model.wv.most_similar([word])\n",
    "    \n",
    "    # adds the vector for each of the closest words to the array\n",
    "    for wrd_score in close_words:\n",
    "        wrd_vector = model.wv.__getitem__([wrd_score[0]])\n",
    "        word_labels.append(wrd_score[0])\n",
    "        color_list.append('blue')\n",
    "        arrays = np.append(arrays, wrd_vector, axis=0)\n",
    "    \n",
    "    # adds the vector for each of the words from list_names to the array\n",
    "    for wrd in list_names:\n",
    "        wrd_vector = model.wv.__getitem__([wrd])\n",
    "        word_labels.append(wrd)\n",
    "        color_list.append('green')\n",
    "        arrays = np.append(arrays, wrd_vector, axis=0)\n",
    "        \n",
    "    # Reduces the dimensionality from 300 to 50 dimensions with PCA\n",
    "    reduc = PCA(n_components=50).fit_transform(arrays)\n",
    "    \n",
    "    # Finds t-SNE coordinates for 2 dimensions\n",
    "    np.set_printoptions(suppress=True)\n",
    "    \n",
    "    Y = TSNE(n_components=2, random_state=0, perplexity=15).fit_transform(reduc)\n",
    "    \n",
    "    # Sets everything up to plot\n",
    "    df = pd.DataFrame({'x': [x for x in Y[:, 0]],\n",
    "                       'y': [y for y in Y[:, 1]],\n",
    "                       'words': word_labels,\n",
    "                       'color': color_list})\n",
    "    \n",
    "    fig, _ = plt.subplots()\n",
    "    fig.set_size_inches(9, 9)\n",
    "    \n",
    "    # Basic plot\n",
    "    p1 = sns.regplot(data=df,\n",
    "                     x=\"x\",\n",
    "                     y=\"y\",\n",
    "                     fit_reg=False,\n",
    "                     marker=\"o\",\n",
    "                     scatter_kws={'s': 40,\n",
    "                                  'facecolors': df['color']\n",
    "                                 }\n",
    "                    )\n",
    "    \n",
    "    # Adds annotations one by one with a loop\n",
    "    for line in range(0, df.shape[0]):\n",
    "         p1.text(df[\"x\"][line],\n",
    "                 df['y'][line],\n",
    "                 '  ' + df[\"words\"][line].title(),\n",
    "                 horizontalalignment='left',\n",
    "                 verticalalignment='bottom', size='medium',\n",
    "                 color=df['color'][line],\n",
    "                 weight='normal'\n",
    "                ).set_size(15)\n",
    "\n",
    "    \n",
    "    plt.xlim(Y[:, 0].min()-50, Y[:, 0].max()+50)\n",
    "    plt.ylim(Y[:, 1].min()-50, Y[:, 1].max()+50)\n",
    "            \n",
    "    plt.title('t-SNE visualization for {}'.format(word.title()))\n",
    "    plt.show()\n",
    "    \n",
    "# To make the visualizations more relevant, we will look at the relationships between a query \n",
    "# word (in **red**), its most similar words in the model (in **blue**), \n",
    "# and other words from the vocabulary (in **green**).\n",
    "\n",
    "\n",
    "    "
   ]
  },
  {
   "cell_type": "code",
   "execution_count": null,
   "metadata": {},
   "outputs": [],
   "source": []
  },
  {
   "cell_type": "code",
   "execution_count": null,
   "metadata": {},
   "outputs": [],
   "source": [
    "tsnescatterplot(w2v_model, 'ladki', ['nadaan', 'tu', 'main', 'mein', 'ho', 'na', 'ke', 'se', 'ki', 'dil'])"
   ]
  },
  {
   "cell_type": "code",
   "execution_count": null,
   "metadata": {},
   "outputs": [],
   "source": []
  },
  {
   "cell_type": "code",
   "execution_count": null,
   "metadata": {},
   "outputs": [],
   "source": [
    "tsnescatterplot(w2v_model, 'ladki', [i[0] for i in w2v_model.wv.most_similar(positive=[\"ladka\"])])"
   ]
  },
  {
   "cell_type": "code",
   "execution_count": null,
   "metadata": {},
   "outputs": [],
   "source": [
    "tsnescatterplot(w2v_model, 'ladka', [i[0] for i in w2v_model.wv.most_similar(positive=[\"ladki\"])])"
   ]
  },
  {
   "cell_type": "code",
   "execution_count": null,
   "metadata": {},
   "outputs": [],
   "source": []
  },
  {
   "cell_type": "code",
   "execution_count": null,
   "metadata": {},
   "outputs": [],
   "source": [
    "tsnescatterplot(w2v_model, \"ladki\", [t[0] for t in w2v_model.wv.most_similar(positive=[\"ladki\"], topn=20)][10:])"
   ]
  },
  {
   "cell_type": "code",
   "execution_count": null,
   "metadata": {},
   "outputs": [],
   "source": [
    "tsnescatterplot(w2v_model, \"ladka\", [t[0] for t in w2v_model.wv.most_similar(positive=[\"ladka\"], topn=30)][10:])"
   ]
  },
  {
   "cell_type": "code",
   "execution_count": null,
   "metadata": {},
   "outputs": [],
   "source": [
    "# finding the window size for the songs\n",
    "for line in data.songLyrics[246].split(\"\\n\"):\n",
    "    print(line)"
   ]
  },
  {
   "cell_type": "code",
   "execution_count": null,
   "metadata": {},
   "outputs": [],
   "source": [
    "# Preprocessing function\n",
    "def songPreprocessing(song):\n",
    "    listOfWords = re.split(r'[;,\\s...\\n()\\'!?.]\\s*',song)\n",
    "    processedSong = ''\n",
    "    for word in listOfWords:\n",
    "        word = word.lower()\n",
    "        if word == 'x2':\n",
    "            continue\n",
    "        if word == 'x4':\n",
    "            continue\n",
    "        processedSong+=word\n",
    "        processedSong+=' '\n",
    "    return processedSong\n",
    "\n",
    "averageChorusLength = 0\n",
    "count = 0\n",
    "for i in range(0, len(data)):\n",
    "    count+=1\n",
    "    averageChorusLengthForSong = 0\n",
    "    numWords = 0\n",
    "    chorusCount = 0\n",
    "#     print(i , \" is :  \")\n",
    "    for line in data.songLyrics[i].split('\\n'):\n",
    "#         print(len(songPreprocessing(line).split(' '))) \n",
    "#         print(line)\n",
    "        numWords+=len(songPreprocessing(line).split(' '))-1\n",
    "        if(len(line) == 0):\n",
    "#             print(\"yes\")\n",
    "            averageChorusLengthForSong+=numWords\n",
    "            numWords = 0\n",
    "            chorusCount+=1\n",
    "    averageChorusLengthForSong/=(chorusCount+1) # account for the last chorus\n",
    "    if(averageChorusLengthForSong == 0):\n",
    "        count-=1\n",
    "        continue\n",
    "#     print(averageChorusLengthForSong)\n",
    "    averageChorusLength += averageChorusLengthForSong\n",
    "    \n",
    "averageChorusLength/=count\n",
    "    \n",
    "print(averageChorusLength)\n",
    "    \n",
    "# averageChorusLength/=1\n",
    "# print(averageChorusLength)"
   ]
  },
  {
   "cell_type": "markdown",
   "metadata": {
    "collapsed": true
   },
   "source": [
    "### Hence the average optimal window size for the songs is 23.667 or 24 words"
   ]
  },
  {
   "cell_type": "code",
   "execution_count": null,
   "metadata": {},
   "outputs": [],
   "source": []
  },
  {
   "cell_type": "code",
   "execution_count": null,
   "metadata": {},
   "outputs": [],
   "source": []
  }
 ],
 "metadata": {
  "kernelspec": {
   "display_name": "Python 3",
   "language": "python",
   "name": "python3"
  },
  "language_info": {
   "codemirror_mode": {
    "name": "ipython",
    "version": 3
   },
   "file_extension": ".py",
   "mimetype": "text/x-python",
   "name": "python",
   "nbconvert_exporter": "python",
   "pygments_lexer": "ipython3",
   "version": "3.7.6"
  }
 },
 "nbformat": 4,
 "nbformat_minor": 2
}
