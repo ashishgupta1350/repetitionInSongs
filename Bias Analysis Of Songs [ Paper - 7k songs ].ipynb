{
 "cells": [
  {
   "cell_type": "code",
   "execution_count": 9,
   "metadata": {},
   "outputs": [],
   "source": [
    "# import statements\n",
    "\n",
    "# maths and matrix comp\n",
    "import pandas as pd\n",
    "import numpy as np\n",
    "import re\n",
    "\n",
    "# plot\n",
    "from scipy.stats import norm\n",
    "import matplotlib.pyplot as plt\n",
    "\n",
    "# custom functions\n",
    "import HelperFunctionsForSongs\n",
    "\n"
   ]
  },
  {
   "cell_type": "code",
   "execution_count": 2,
   "metadata": {},
   "outputs": [
    {
     "name": "stdout",
     "output_type": "stream",
     "text": [
      "Number of songs in dataset = 7363\n"
     ]
    },
    {
     "data": {
      "text/html": [
       "<div>\n",
       "<style scoped>\n",
       "    .dataframe tbody tr th:only-of-type {\n",
       "        vertical-align: middle;\n",
       "    }\n",
       "\n",
       "    .dataframe tbody tr th {\n",
       "        vertical-align: top;\n",
       "    }\n",
       "\n",
       "    .dataframe thead th {\n",
       "        text-align: right;\n",
       "    }\n",
       "</style>\n",
       "<table border=\"1\" class=\"dataframe\">\n",
       "  <thead>\n",
       "    <tr style=\"text-align: right;\">\n",
       "      <th></th>\n",
       "      <th>Unnamed: 0</th>\n",
       "      <th>Lyrics</th>\n",
       "      <th>Movie</th>\n",
       "      <th>Singer</th>\n",
       "      <th>SongName</th>\n",
       "      <th>Year</th>\n",
       "    </tr>\n",
       "  </thead>\n",
       "  <tbody>\n",
       "    <tr>\n",
       "      <td>0</td>\n",
       "      <td>0</td>\n",
       "      <td>Ghoomar rabb waare\\r\\nAap padharo saa\\r\\n\\r\\nA...</td>\n",
       "      <td>Padmaavat</td>\n",
       "      <td>Shreya Ghoshal</td>\n",
       "      <td>Ghoomar</td>\n",
       "      <td>2018</td>\n",
       "    </tr>\n",
       "    <tr>\n",
       "      <td>1</td>\n",
       "      <td>1</td>\n",
       "      <td>Yo yo honey singh…\\r\\n\\r\\nHoye…\\r\\n\\r\\nSuno ka...</td>\n",
       "      <td>Sonu Ke Titu ki Sweety</td>\n",
       "      <td>Yo Yo Honey Singh, Simar Kaur &amp; Ishers</td>\n",
       "      <td>Dil Chori</td>\n",
       "      <td>2018</td>\n",
       "    </tr>\n",
       "  </tbody>\n",
       "</table>\n",
       "</div>"
      ],
      "text/plain": [
       "   Unnamed: 0                                             Lyrics  \\\n",
       "0           0  Ghoomar rabb waare\\r\\nAap padharo saa\\r\\n\\r\\nA...   \n",
       "1           1  Yo yo honey singh…\\r\\n\\r\\nHoye…\\r\\n\\r\\nSuno ka...   \n",
       "\n",
       "                    Movie                                  Singer    SongName  \\\n",
       "0               Padmaavat                          Shreya Ghoshal     Ghoomar   \n",
       "1  Sonu Ke Titu ki Sweety  Yo Yo Honey Singh, Simar Kaur & Ishers   Dil Chori   \n",
       "\n",
       "   Year  \n",
       "0  2018  \n",
       "1  2018  "
      ]
     },
     "execution_count": 2,
     "metadata": {},
     "output_type": "execute_result"
    }
   ],
   "source": [
    "# read the data and understand it\n",
    "df = pd.read_csv(\"songs7k.csv\")\n",
    "print(\"Number of songs in dataset\" + \" = \"+ str(len(df)))\n",
    "df.head(2)"
   ]
  },
  {
   "cell_type": "code",
   "execution_count": 6,
   "metadata": {},
   "outputs": [
    {
     "data": {
      "text/plain": [
       "10"
      ]
     },
     "execution_count": 6,
     "metadata": {},
     "output_type": "execute_result"
    }
   ],
   "source": [
    "# get the compression for all the songs in the dataset\n",
    "compressions = []\n",
    "compressions = HelperFunctionsForSongs.getCompressionFromAllSongs(df,10)\n",
    "len(compressions) "
   ]
  },
  {
   "cell_type": "code",
   "execution_count": 7,
   "metadata": {},
   "outputs": [
    {
     "data": {
      "text/plain": [
       "[64.73429951690821,\n",
       " 65.98599766627771,\n",
       " 65.08333333333333,\n",
       " 66.45569620253164,\n",
       " 62.76041666666667,\n",
       " 59.33147632311977,\n",
       " 62.20275344180226,\n",
       " 69.50092421441775,\n",
       " 63.40621403912543,\n",
       " 65.75757575757575]"
      ]
     },
     "execution_count": 7,
     "metadata": {},
     "output_type": "execute_result"
    }
   ],
   "source": [
    "# # save the compressions since the processing takes time.\n",
    "# df[\"compressions\"] = compressions\n",
    "compressions"
   ]
  },
  {
   "cell_type": "code",
   "execution_count": 10,
   "metadata": {},
   "outputs": [
    {
     "data": {
      "image/png": "[encoded data removed]",
      "text/plain": [
       "<Figure size 432x288 with 1 Axes>"
      ]
     },
     "metadata": {
      "needs_background": "light"
     },
     "output_type": "display_data"
    }
   ],
   "source": [
    "# ploting a normal curve for the distribution on songs\n",
    "\n",
    "\n",
    "# Generate some data for this demonstration.\n",
    "# data = norm.rvs(100.0, 25, size=500)\n",
    "data= compressions\n",
    "for x in range(len(data)):\n",
    "    if(data[x]<=0):\n",
    "        data[x] = -1*data[x]\n",
    "# Fit a normal distribution to the data:\n",
    "mu, std = norm.fit(data)\n",
    "\n",
    "# Plot the histogram.\n",
    "plt.hist(data, bins=50, density=True, alpha=0.6, color='g')\n",
    "\n",
    "# Plot the PDF.\n",
    "plt.xticks([x for x in range(10, 100, 10)])\n",
    "\n",
    "xmin, xmax = plt.xlim()\n",
    "x = np.linspace(xmin, xmax, 100)\n",
    "p = norm.pdf(x, mu, std)\n",
    "plt.plot(x, p, 'k', linewidth=2)\n",
    "plt.xlabel(\"Compression\")\n",
    "plt.ylabel(\"Normalized Count\")\n",
    "title = \"Fit results: mu = %.2f,  std = %.2f and numSongs = %0.0f\" % (mu, std, len(compressions) + 301)\n",
    "plt.title(title)\n",
    "plt.show()"
   ]
  },
  {
   "cell_type": "code",
   "execution_count": null,
   "metadata": {},
   "outputs": [],
   "source": []
  }
 ],
 "metadata": {
  "kernelspec": {
   "display_name": "Python 3",
   "language": "python",
   "name": "python3"
  },
  "language_info": {
   "codemirror_mode": {
    "name": "ipython",
    "version": 3
   },
   "file_extension": ".py",
   "mimetype": "text/x-python",
   "name": "python",
   "nbconvert_exporter": "python",
   "pygments_lexer": "ipython3",
   "version": "3.7.6"
  }
 },
 "nbformat": 4,
 "nbformat_minor": 2
}
