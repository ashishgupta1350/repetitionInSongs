{
 "cells": [
  {
   "cell_type": "code",
   "execution_count": 1,
   "metadata": {},
   "outputs": [
    {
     "ename": "ValueError",
     "evalue": "source code string cannot contain null bytes",
     "output_type": "error",
     "traceback": [
      "\u001b[1;31m---------------------------------------------------------------------------\u001b[0m",
      "\u001b[1;31mValueError\u001b[0m                                Traceback (most recent call last)",
      "\u001b[1;32m<ipython-input-1-b5e12f185ad4>\u001b[0m in \u001b[0;36m<module>\u001b[1;34m\u001b[0m\n\u001b[0;32m      2\u001b[0m \u001b[1;32mimport\u001b[0m \u001b[0mnumpy\u001b[0m \u001b[1;32mas\u001b[0m \u001b[0mnp\u001b[0m\u001b[1;33m\u001b[0m\u001b[1;33m\u001b[0m\u001b[0m\n\u001b[0;32m      3\u001b[0m \u001b[1;32mimport\u001b[0m \u001b[0mnltk\u001b[0m\u001b[1;33m\u001b[0m\u001b[1;33m\u001b[0m\u001b[0m\n\u001b[1;32m----> 4\u001b[1;33m \u001b[1;32mimport\u001b[0m \u001b[0mgensim\u001b[0m\u001b[1;33m\u001b[0m\u001b[1;33m\u001b[0m\u001b[0m\n\u001b[0m\u001b[0;32m      5\u001b[0m \u001b[1;32mfrom\u001b[0m \u001b[0mgensim\u001b[0m\u001b[1;33m.\u001b[0m\u001b[0mmodels\u001b[0m\u001b[1;33m.\u001b[0m\u001b[0mphrases\u001b[0m \u001b[1;32mimport\u001b[0m \u001b[0mPhrases\u001b[0m\u001b[1;33m,\u001b[0m \u001b[0mPhraser\u001b[0m\u001b[1;33m\u001b[0m\u001b[1;33m\u001b[0m\u001b[0m\n\u001b[0;32m      6\u001b[0m \u001b[1;32mimport\u001b[0m \u001b[0mre\u001b[0m\u001b[1;33m\u001b[0m\u001b[1;33m\u001b[0m\u001b[0m\n",
      "\u001b[1;32mC:\\ProgramData\\Anaconda3\\lib\\site-packages\\gensim\\__init__.py\u001b[0m in \u001b[0;36m<module>\u001b[1;34m\u001b[0m\n\u001b[0;32m      3\u001b[0m \"\"\"\n\u001b[0;32m      4\u001b[0m \u001b[1;33m\u001b[0m\u001b[0m\n\u001b[1;32m----> 5\u001b[1;33m \u001b[1;32mfrom\u001b[0m \u001b[0mgensim\u001b[0m \u001b[1;32mimport\u001b[0m \u001b[0mparsing\u001b[0m\u001b[1;33m,\u001b[0m \u001b[0mcorpora\u001b[0m\u001b[1;33m,\u001b[0m \u001b[0mmatutils\u001b[0m\u001b[1;33m,\u001b[0m \u001b[0minterfaces\u001b[0m\u001b[1;33m,\u001b[0m \u001b[0mmodels\u001b[0m\u001b[1;33m,\u001b[0m \u001b[0msimilarities\u001b[0m\u001b[1;33m,\u001b[0m \u001b[0msummarization\u001b[0m\u001b[1;33m,\u001b[0m \u001b[0mutils\u001b[0m  \u001b[1;31m# noqa:F401\u001b[0m\u001b[1;33m\u001b[0m\u001b[1;33m\u001b[0m\u001b[0m\n\u001b[0m\u001b[0;32m      6\u001b[0m \u001b[1;32mimport\u001b[0m \u001b[0mlogging\u001b[0m\u001b[1;33m\u001b[0m\u001b[1;33m\u001b[0m\u001b[0m\n\u001b[0;32m      7\u001b[0m \u001b[1;33m\u001b[0m\u001b[0m\n",
      "\u001b[1;32mC:\\ProgramData\\Anaconda3\\lib\\site-packages\\gensim\\models\\__init__.py\u001b[0m in \u001b[0;36m<module>\u001b[1;34m\u001b[0m\n\u001b[0;32m     10\u001b[0m \u001b[1;32mfrom\u001b[0m \u001b[1;33m.\u001b[0m\u001b[0mlsimodel\u001b[0m \u001b[1;32mimport\u001b[0m \u001b[0mLsiModel\u001b[0m  \u001b[1;31m# noqa:F401\u001b[0m\u001b[1;33m\u001b[0m\u001b[1;33m\u001b[0m\u001b[0m\n\u001b[0;32m     11\u001b[0m \u001b[1;32mfrom\u001b[0m \u001b[1;33m.\u001b[0m\u001b[0mtfidfmodel\u001b[0m \u001b[1;32mimport\u001b[0m \u001b[0mTfidfModel\u001b[0m  \u001b[1;31m# noqa:F401\u001b[0m\u001b[1;33m\u001b[0m\u001b[1;33m\u001b[0m\u001b[0m\n\u001b[1;32m---> 12\u001b[1;33m \u001b[1;32mfrom\u001b[0m \u001b[1;33m.\u001b[0m\u001b[0mrpmodel\u001b[0m \u001b[1;32mimport\u001b[0m \u001b[0mRpModel\u001b[0m  \u001b[1;31m# noqa:F401\u001b[0m\u001b[1;33m\u001b[0m\u001b[1;33m\u001b[0m\u001b[0m\n\u001b[0m\u001b[0;32m     13\u001b[0m \u001b[1;32mfrom\u001b[0m \u001b[1;33m.\u001b[0m\u001b[0mlogentropy_model\u001b[0m \u001b[1;32mimport\u001b[0m \u001b[0mLogEntropyModel\u001b[0m  \u001b[1;31m# noqa:F401\u001b[0m\u001b[1;33m\u001b[0m\u001b[1;33m\u001b[0m\u001b[0m\n\u001b[0;32m     14\u001b[0m \u001b[1;32mfrom\u001b[0m \u001b[1;33m.\u001b[0m\u001b[0mword2vec\u001b[0m \u001b[1;32mimport\u001b[0m \u001b[0mWord2Vec\u001b[0m  \u001b[1;31m# noqa:F401\u001b[0m\u001b[1;33m\u001b[0m\u001b[1;33m\u001b[0m\u001b[0m\n",
      "\u001b[1;31mValueError\u001b[0m: source code string cannot contain null bytes"
     ]
    }
   ],
   "source": [
    "import pandas as pd\n",
    "import numpy as np\n",
    "import nltk\n",
    "import gensim \n",
    "from gensim.models.phrases import Phrases, Phraser\n",
    "import re\n",
    "from wordcloud import WordCloud\n",
    "import matplotlib.pyplot as plt\n",
    "from sklearn.feature_selection import SelectFromModel\n",
    "from sklearn.feature_extraction.text import TfidfVectorizer\n",
    "from sklearn.feature_extraction.text import CountVectorizer\n",
    "from collections import defaultdict\n",
    "from collections import Counter \n",
    "from gensim.models import Word2Vec\n",
    "from googletrans import Translator\n",
    "from gensim.models import FastText"
   ]
  },
  {
   "cell_type": "code",
   "execution_count": 2,
   "metadata": {
    "collapsed": true
   },
   "outputs": [],
   "source": [
    "data=pd.read_csv(\"Indian_songs.csv\")"
   ]
  },
  {
   "cell_type": "code",
   "execution_count": 3,
   "metadata": {},
   "outputs": [
    {
     "data": {
      "text/html": [
       "<div>\n",
       "<style scoped>\n",
       "    .dataframe tbody tr th:only-of-type {\n",
       "        vertical-align: middle;\n",
       "    }\n",
       "\n",
       "    .dataframe tbody tr th {\n",
       "        vertical-align: top;\n",
       "    }\n",
       "\n",
       "    .dataframe thead th {\n",
       "        text-align: right;\n",
       "    }\n",
       "</style>\n",
       "<table border=\"1\" class=\"dataframe\">\n",
       "  <thead>\n",
       "    <tr style=\"text-align: right;\">\n",
       "      <th></th>\n",
       "      <th>movieName</th>\n",
       "      <th>songName</th>\n",
       "      <th>songSinger</th>\n",
       "      <th>songMusic</th>\n",
       "      <th>songLyricist</th>\n",
       "      <th>songLyrics</th>\n",
       "    </tr>\n",
       "  </thead>\n",
       "  <tbody>\n",
       "    <tr>\n",
       "      <th>0</th>\n",
       "      <td>Bala</td>\n",
       "      <td>Don’t Be Shy</td>\n",
       "      <td>Badshah, Shalmali Kholgade, Gurdeep Mehendi</td>\n",
       "      <td>Sachin-Jigar</td>\n",
       "      <td>Mellow D, Badshah</td>\n",
       "      <td>Sun, main hoon thoda sanki\\nKarun mann ki\\nBab...</td>\n",
       "    </tr>\n",
       "    <tr>\n",
       "      <th>1</th>\n",
       "      <td>Laal Kaptaan</td>\n",
       "      <td>Lahu Ka Rang Kara</td>\n",
       "      <td>Samira Koppikar</td>\n",
       "      <td>Samira Koppikar</td>\n",
       "      <td>Sahib</td>\n",
       "      <td>Morey.. lahu ka rang kara\\nMorey lahu ka rang ...</td>\n",
       "    </tr>\n",
       "    <tr>\n",
       "      <th>2</th>\n",
       "      <td>Laal Kaptaan</td>\n",
       "      <td>Red Red Najariya</td>\n",
       "      <td>Shreya Ghoshal</td>\n",
       "      <td>Samira Koppikar</td>\n",
       "      <td>Saurabh Jain</td>\n",
       "      <td>Badnaam shehar, badnaam gully\\nIsme har raat h...</td>\n",
       "    </tr>\n",
       "    <tr>\n",
       "      <th>3</th>\n",
       "      <td>Laal Kaptaan</td>\n",
       "      <td>Kaal Kaal</td>\n",
       "      <td>Brijesh Shandilya, Dino James</td>\n",
       "      <td>Samira Koppikar</td>\n",
       "      <td>Saurabh Jain</td>\n",
       "      <td>Kaal kaal, kaal kaal, jo sapaat chal raha\\nWo ...</td>\n",
       "    </tr>\n",
       "    <tr>\n",
       "      <th>4</th>\n",
       "      <td>Laal Kaptaan</td>\n",
       "      <td>Taandav</td>\n",
       "      <td>Kailash Kher, Brijesh Shandilya</td>\n",
       "      <td>Samira Koppikar</td>\n",
       "      <td>Puneet Sharma</td>\n",
       "      <td>Shor hai andher mein\\nJo dher murda pedon ka\\n...</td>\n",
       "    </tr>\n",
       "  </tbody>\n",
       "</table>\n",
       "</div>"
      ],
      "text/plain": [
       "      movieName           songName  \\\n",
       "0          Bala       Don’t Be Shy   \n",
       "1  Laal Kaptaan  Lahu Ka Rang Kara   \n",
       "2  Laal Kaptaan   Red Red Najariya   \n",
       "3  Laal Kaptaan          Kaal Kaal   \n",
       "4  Laal Kaptaan            Taandav   \n",
       "\n",
       "                                    songSinger        songMusic  \\\n",
       "0  Badshah, Shalmali Kholgade, Gurdeep Mehendi     Sachin-Jigar   \n",
       "1                              Samira Koppikar  Samira Koppikar   \n",
       "2                               Shreya Ghoshal  Samira Koppikar   \n",
       "3                Brijesh Shandilya, Dino James  Samira Koppikar   \n",
       "4              Kailash Kher, Brijesh Shandilya  Samira Koppikar   \n",
       "\n",
       "        songLyricist                                         songLyrics  \n",
       "0  Mellow D, Badshah  Sun, main hoon thoda sanki\\nKarun mann ki\\nBab...  \n",
       "1              Sahib  Morey.. lahu ka rang kara\\nMorey lahu ka rang ...  \n",
       "2       Saurabh Jain  Badnaam shehar, badnaam gully\\nIsme har raat h...  \n",
       "3       Saurabh Jain  Kaal kaal, kaal kaal, jo sapaat chal raha\\nWo ...  \n",
       "4      Puneet Sharma  Shor hai andher mein\\nJo dher murda pedon ka\\n...  "
      ]
     },
     "execution_count": 3,
     "metadata": {},
     "output_type": "execute_result"
    }
   ],
   "source": [
    "data.head()"
   ]
  },
  {
   "cell_type": "code",
   "execution_count": 4,
   "metadata": {
    "collapsed": true
   },
   "outputs": [],
   "source": [
    "doc=[]\n",
    "for i in range(data.shape[0]):\n",
    "    doc.append(nltk.word_tokenize(re.sub('[^a-zA-z\\s]','',data['songLyrics'][i].lower())))"
   ]
  },
  {
   "cell_type": "code",
   "execution_count": 5,
   "metadata": {},
   "outputs": [],
   "source": [
    "train=[]\n",
    "strr=''\n",
    "for i in doc:\n",
    "    srr=\"\"\n",
    "    for j in i:\n",
    "        srr=srr+' '+j\n",
    "        strr=strr+' '+j\n",
    "    train.append(srr)"
   ]
  },
  {
   "cell_type": "code",
   "execution_count": null,
   "metadata": {
    "collapsed": true
   },
   "outputs": [],
   "source": []
  },
  {
   "cell_type": "markdown",
   "metadata": {},
   "source": [
    "# Preprocessing"
   ]
  },
  {
   "cell_type": "code",
   "execution_count": 6,
   "metadata": {
    "collapsed": true
   },
   "outputs": [],
   "source": [
    "def preprocess_lyrics():\n",
    "    count_vec1=CountVectorizer()\n",
    "    features1=count_vec1.fit_transform(train)\n",
    "  \n",
    "    #stemming\n",
    "    stem3=['ing','ana','yan','ane','eya','ies','aaa','aan','ake']\n",
    "    stem2=['on','ai','na','an','un','ey','en','se','aa']\n",
    "    stem1=['a','e','i','o','u','y','n','s']\n",
    "    dictt={}\n",
    "    for i in count_vec1.get_feature_names():\n",
    "        dictt[i]=i\n",
    "    \n",
    "    allwords=[]\n",
    "    for i in dictt:\n",
    "        allwords.append(i)\n",
    "\n",
    "\n",
    "    for i in range(len(allwords)):\n",
    "        j=i+1\n",
    "        while j<len(allwords):\n",
    "            if len(allwords[i])>3 and (len(allwords[j])-len(allwords[i])==3) and allwords[i]==allwords[j][0:-3] and (allwords[j][-3:] in stem3) and dictt[allwords[j]]==allwords[j]:\n",
    "                dictt[allwords[j]]=dictt[allwords[i]]\n",
    "#                 print(allwords[j],dictt[allwords[i]])\n",
    "\n",
    "            elif len(allwords[i])>3 and (len(allwords[j])-len(allwords[i])==2) and allwords[i]==allwords[j][0:-2] and (allwords[j][-2:] in stem2) and dictt[allwords[j]]==allwords[j]:\n",
    "                dictt[allwords[j]]=dictt[allwords[i]]\n",
    "#                 print(allwords[j],dictt[allwords[i]])\n",
    "\n",
    "\n",
    "            elif len(allwords[i])>3 and (len(allwords[j])-len(allwords[i])==1) and allwords[i]==allwords[j][0:-1] and (allwords[j][-1] in stem1) and dictt[allwords[j]]==allwords[j]:\n",
    "                dictt[allwords[j]]=dictt[allwords[i]]\n",
    "#                 print(allwords[j],dictt[allwords[i]])\n",
    "            j=j+1\n",
    "\n",
    "    afterstemming=[]\n",
    "    for i in dictt:\n",
    "        afterstemming.append(dictt[i])\n",
    "    afterstemming=set(afterstemming)\n",
    "    print('length after stemming', len(afterstemming))\n",
    "    \n",
    "    stemdictt={}\n",
    "    for i in dictt:\n",
    "        stemdictt[dictt[i]]=dictt[i]\n",
    "    \n",
    "    #spelling errors\n",
    "    for i in afterstemming:\n",
    "        if 'aa' in i:\n",
    "            word=i.replace('aa','a')\n",
    "            if word in afterstemming:\n",
    "                stemdictt[i]=word\n",
    "\n",
    "        if 'ee' in i:\n",
    "            word=i.replace('ee','i')\n",
    "            if word in afterstemming:\n",
    "                stemdictt[i]=word\n",
    "\n",
    "        if 'w' in i:\n",
    "            word=i.replace('w','v')\n",
    "            if word in afterstemming:\n",
    "                stemdictt[i]=word\n",
    "\n",
    "        if 'j' in i:\n",
    "            word=i.replace('j','z')\n",
    "            if word in afterstemming:\n",
    "                stemdictt[i]=word\n",
    "\n",
    "        if 'oo' in i:\n",
    "            word=i.replace('oo','u')\n",
    "            if word in afterstemming:\n",
    "                stemdictt[i]=word\n",
    "#         if stemdictt[i]!=i:\n",
    "#             print(i, stemdictt[i])\n",
    "            \n",
    "    afterspell=[]\n",
    "    \n",
    "    for i in stemdictt:\n",
    "        afterspell.append(stemdictt[i])\n",
    "    afterspell=set(afterspell)\n",
    "    print('length after spell', len(afterspell))\n",
    "    \n",
    "    \n",
    "    for i in dictt:\n",
    "        dictt[i]=stemdictt[dictt[i]]\n",
    "    return dictt"
   ]
  },
  {
   "cell_type": "code",
   "execution_count": 7,
   "metadata": {},
   "outputs": [
    {
     "name": "stdout",
     "output_type": "stream",
     "text": [
      "length after stemming 24376\n",
      "length after spell 22374\n"
     ]
    }
   ],
   "source": [
    "vocab_d=preprocess_lyrics()"
   ]
  },
  {
   "cell_type": "code",
   "execution_count": 8,
   "metadata": {},
   "outputs": [
    {
     "name": "stdout",
     "output_type": "stream",
     "text": [
      "31402\n"
     ]
    }
   ],
   "source": [
    "print(len(vocab_d))\n",
    "vocab_d['chhori']='chhori'\n",
    "vocab_d['munda']='munda'\n",
    "vocab_d['mundey']='mundey'\n",
    "vocab_d['chhora']='chhora'"
   ]
  },
  {
   "cell_type": "code",
   "execution_count": null,
   "metadata": {
    "collapsed": true
   },
   "outputs": [],
   "source": []
  },
  {
   "cell_type": "code",
   "execution_count": null,
   "metadata": {
    "collapsed": true
   },
   "outputs": [],
   "source": []
  },
  {
   "cell_type": "markdown",
   "metadata": {},
   "source": [
    "docp is preprocessed documents list"
   ]
  },
  {
   "cell_type": "code",
   "execution_count": 9,
   "metadata": {
    "collapsed": true
   },
   "outputs": [],
   "source": [
    "docp=[]\n",
    "for i in range(len(doc)):\n",
    "    k=[]\n",
    "    for j in range(len(doc[i])):\n",
    "        if doc[i][j] in vocab_d:\n",
    "            k.append(vocab_d[doc[i][j]])\n",
    "        else:\n",
    "            k.append(doc[i][j])\n",
    "#         print(vocab_d[doc[i][j]])\n",
    "    docp.append(k)"
   ]
  },
  {
   "cell_type": "code",
   "execution_count": null,
   "metadata": {
    "collapsed": true
   },
   "outputs": [],
   "source": []
  },
  {
   "cell_type": "code",
   "execution_count": 10,
   "metadata": {
    "collapsed": true
   },
   "outputs": [],
   "source": [
    "female_names=['ladki','girl','gori','lady','kudi','chhori','woman']\n",
    "male_names=['ladka','munda','mundey','boy','chokra','chhora','man']\n",
    "\n",
    "color =['sanwali','saanwala','pink','pinky','red','laal','kaala','kaali','gori','gora','white','black','yellow','brown']\n",
    "softAttitude=['bholi','bhola','komalkomal','heeran','hirni','nadaan','beautiful','mastani','mastana','seedhi','seedha','sharmili','sharmeela','sohni','sohna','bhali','bhala']\n",
    "strongAttitude=['kukkad','bigda','bigdi','khatra','khauf','handa','jungli','badmash','gussa']\n",
    "cars=['car', 'gaddi','drive','lamborghini','jaguar','gaadi','motorcycle']\n",
    "clothes=['jeans','skirt','shirt','lehnga','chunni','ainak','ghagra','kurta','pajama','jacket','choodi','jhumka','chasma','chashma','kangan','top']\n",
    "food=['namkeen','mithi','tikhi','teekha','khatti','makkhan','sweet','nimbu','imli','mitthe','rasmalai','mirchi','mishti','naariyal']\n",
    "alcohol=['daaru','whisky','daru','pila','botal','peg','shots','drink','peeta']\n",
    "bodylooks=['choti','chota','cheeks','adayein','thumka','aankhen','aankhein','nazron','charming']"
   ]
  },
  {
   "cell_type": "code",
   "execution_count": 11,
   "metadata": {
    "collapsed": true
   },
   "outputs": [],
   "source": [
    "att1=[color,softAttitude,strongAttitude,cars, clothes,food,alcohol,bodylooks]\n",
    "\n",
    "attp=[]\n",
    "for i in range(len(att1)):\n",
    "    k=[]\n",
    "    for j in range(len(att1[i])):\n",
    "        if att1[i][j] in vocab_d:\n",
    "            k.append(vocab_d[att1[i][j]])\n",
    "        else:\n",
    "            k.append(att1[i][j])\n",
    "    attp.append(list(set(k)))\n",
    "color =attp[0]\n",
    "softAttitude=attp[1]\n",
    "strongAttitude=attp[2]\n",
    "cars=attp[3]\n",
    "clothes=attp[4]\n",
    "food=attp[5]\n",
    "alcohol=attp[6]\n",
    "bodylooks=attp[7]\n",
    "att1=[color,softAttitude,strongAttitude,cars, clothes,food,alcohol,bodylooks]"
   ]
  },
  {
   "cell_type": "code",
   "execution_count": null,
   "metadata": {
    "collapsed": true
   },
   "outputs": [],
   "source": []
  },
  {
   "cell_type": "code",
   "execution_count": null,
   "metadata": {
    "collapsed": true
   },
   "outputs": [],
   "source": []
  },
  {
   "cell_type": "markdown",
   "metadata": {},
   "source": [
    "# weat Test"
   ]
  },
  {
   "cell_type": "code",
   "execution_count": 15,
   "metadata": {},
   "outputs": [],
   "source": [
    "def weat_test(target_one,target_two, target_one_words, attribute_one,attribute_two, attribute_one_words, target_two_words, attribute_two_words):\n",
    "    cos=[]\n",
    "    s=0\n",
    "    s1=[]\n",
    "    s2=[]\n",
    "    S=[]\n",
    "    n=0\n",
    "    for i in range(0, len(target_one_words)):\n",
    "            c1=[]\n",
    "            c2=[]\n",
    "            for k in range(0, len(attribute_one_words)):\n",
    "                wt = target_one_words[i]\n",
    "                at1 = attribute_one_words[k]\n",
    "                try:\n",
    "                    cos1= model.wv.similarity(wt, at1)\n",
    "                    cos.append(cos1)\n",
    "                    c1.append(cos1)\n",
    "                except:\n",
    "                    cos1=0\n",
    "                    cos.append(cos1)\n",
    "                    c1.append(cos1)\n",
    "                    continue\n",
    "            for k in range(0, len(attribute_two_words)):\n",
    "                cos2=0\n",
    "                wt = target_one_words[i]\n",
    "                at2 = attribute_two_words[k]\n",
    "                try:\n",
    "                    cos2= model.wv.similarity(wt, at2)\n",
    "                    cos.append(cos2)\n",
    "                    c2.append(cos2)\n",
    "                except:\n",
    "                    cos2=0\n",
    "                    cos.append(cos2)\n",
    "                    c2.append(cos2)\n",
    "                    continue\n",
    "            s1.append((np.mean(c1)-np.mean(c2)))\n",
    "            S.append((np.mean(c1)-np.mean(c2)))\n",
    "            n=n+1\n",
    "    for i in range(0, len(target_two_words)):\n",
    "            c1=[]\n",
    "            c2=[]\n",
    "            for k in range(0, len(attribute_one_words)):\n",
    "                wt = target_two_words[i]\n",
    "                at1 = attribute_one_words[k]\n",
    "                try:\n",
    "                    cos1= model.wv.similarity(wt, at1)\n",
    "                    cos.append(cos1)\n",
    "                    c1.append(cos1)\n",
    "                except:\n",
    "                    cos1=0\n",
    "                    cos.append(cos1)\n",
    "                    c1.append(cos1)\n",
    "                    continue\n",
    "            for k in range(0, len(attribute_two_words)):\n",
    "                cos2=0\n",
    "                wt = target_two_words[i]\n",
    "                at2 = attribute_two_words[k]\n",
    "                try:\n",
    "                    cos2= model.wv.similarity(wt, at2)\n",
    "                    cos.append(cos2)\n",
    "                    c2.append(cos2)\n",
    "                except:\n",
    "                    cos2=0\n",
    "                    cos.append(cos2)\n",
    "                    c2.append(cos2)\n",
    "                    continue\n",
    "            s2.append((np.mean(c1)-np.mean(c2)))\n",
    "            S.append((np.mean(c1)-np.mean(c2)))\n",
    "    s=np.sum(s1)-np.sum(s2)\n",
    "    stdev=np.std(S)\n",
    "    print(target_one + ' vs ' + target_two  + ' , ' +attribute_one + ' vs ' + attribute_two +', d = ' + str(s/(stdev*n)))"
   ]
  },
  {
   "cell_type": "code",
   "execution_count": null,
   "metadata": {
    "collapsed": true
   },
   "outputs": [],
   "source": []
  },
  {
   "cell_type": "markdown",
   "metadata": {},
   "source": [
    "# Word2vec using gensim\n"
   ]
  },
  {
   "cell_type": "code",
   "execution_count": 16,
   "metadata": {
    "collapsed": true
   },
   "outputs": [],
   "source": [
    "model = gensim.models.Word2Vec(docp,size=100,window=20,min_count=5,workers=10,iter=10) "
   ]
  },
  {
   "cell_type": "code",
   "execution_count": null,
   "metadata": {
    "collapsed": true
   },
   "outputs": [],
   "source": []
  },
  {
   "cell_type": "code",
   "execution_count": 17,
   "metadata": {},
   "outputs": [
    {
     "name": "stdout",
     "output_type": "stream",
     "text": [
      "female_names vs male_names , softAttitude vs strongAttitude, d = 0.7009549405126815\n"
     ]
    }
   ],
   "source": [
    "weat_test('female_names','male_names', female_names, 'softAttitude' ,'strongAttitude', softAttitude, male_names, strongAttitude)"
   ]
  },
  {
   "cell_type": "code",
   "execution_count": null,
   "metadata": {},
   "outputs": [],
   "source": []
  },
  {
   "cell_type": "code",
   "execution_count": null,
   "metadata": {
    "collapsed": true
   },
   "outputs": [],
   "source": []
  },
  {
   "cell_type": "markdown",
   "metadata": {},
   "source": [
    "# FastText"
   ]
  },
  {
   "cell_type": "code",
   "execution_count": 23,
   "metadata": {
    "collapsed": true
   },
   "outputs": [],
   "source": [
    "model = FastText(docp, size=100, window=20, min_count=5, workers=4,sg=1)"
   ]
  },
  {
   "cell_type": "code",
   "execution_count": 24,
   "metadata": {},
   "outputs": [
    {
     "name": "stdout",
     "output_type": "stream",
     "text": [
      "female_names vs male_names , softAttitude vs strongAttitude, d = 0.8720205802435862\n"
     ]
    }
   ],
   "source": [
    "weat_test('female_names','male_names', female_names, 'softAttitude' ,'strongAttitude', softAttitude, male_names, strongAttitude)"
   ]
  },
  {
   "cell_type": "code",
   "execution_count": null,
   "metadata": {
    "collapsed": true
   },
   "outputs": [],
   "source": []
  },
  {
   "cell_type": "code",
   "execution_count": null,
   "metadata": {
    "collapsed": true
   },
   "outputs": [],
   "source": []
  },
  {
   "cell_type": "markdown",
   "metadata": {},
   "source": [
    "# Support and Confidence"
   ]
  },
  {
   "cell_type": "code",
   "execution_count": 25,
   "metadata": {
    "collapsed": true
   },
   "outputs": [],
   "source": [
    "# entrire lyrics as doc"
   ]
  },
  {
   "cell_type": "code",
   "execution_count": 26,
   "metadata": {},
   "outputs": [
    {
     "data": {
      "text/plain": [
       "426"
      ]
     },
     "execution_count": 26,
     "metadata": {},
     "output_type": "execute_result"
    }
   ],
   "source": [
    "mctr=0\n",
    "for d in docp:\n",
    "    flag=0\n",
    "    for word in male_names:\n",
    "        if word in d:\n",
    "            flag=1\n",
    "    \n",
    "    if flag==1:\n",
    "        mctr=mctr+1\n",
    "mctr"
   ]
  },
  {
   "cell_type": "code",
   "execution_count": 27,
   "metadata": {},
   "outputs": [
    {
     "data": {
      "text/plain": [
       "309"
      ]
     },
     "execution_count": 27,
     "metadata": {},
     "output_type": "execute_result"
    }
   ],
   "source": [
    "fctr=0\n",
    "for d in docp:\n",
    "    flag=0\n",
    "    for word in female_names:\n",
    "        if word in d:\n",
    "            flag=1\n",
    "    \n",
    "    if flag==1:\n",
    "        fctr=fctr+1\n",
    "fctr"
   ]
  },
  {
   "cell_type": "code",
   "execution_count": 28,
   "metadata": {
    "collapsed": true
   },
   "outputs": [],
   "source": [
    "total=len(doc)"
   ]
  },
  {
   "cell_type": "code",
   "execution_count": 29,
   "metadata": {},
   "outputs": [
    {
     "data": {
      "text/plain": [
       "66"
      ]
     },
     "execution_count": 29,
     "metadata": {},
     "output_type": "execute_result"
    }
   ],
   "source": [
    "ctr=0\n",
    "for d in docp:\n",
    "    flag=0\n",
    "    for word in female_names:\n",
    "        for w2 in alcohol:\n",
    "            if word in d:\n",
    "                if w2 in d:\n",
    "                    flag=1\n",
    "        \n",
    "    if flag==1:\n",
    "        ctr=ctr+1\n",
    "        \n",
    "ctr"
   ]
  },
  {
   "cell_type": "code",
   "execution_count": 30,
   "metadata": {
    "collapsed": true
   },
   "outputs": [],
   "source": [
    "att=['color','softAttitude','strongAttitude','cars','clothes','food','alcohol','bodylooks']\n",
    "fem_support=[]\n",
    "male_support=[]\n",
    "fem_confidence=[]\n",
    "male_confidence=[]"
   ]
  },
  {
   "cell_type": "code",
   "execution_count": 31,
   "metadata": {
    "collapsed": true
   },
   "outputs": [],
   "source": [
    "att1=[color,softAttitude,strongAttitude,cars, clothes,food,alcohol,bodylooks]"
   ]
  },
  {
   "cell_type": "code",
   "execution_count": null,
   "metadata": {
    "collapsed": true
   },
   "outputs": [],
   "source": []
  },
  {
   "cell_type": "code",
   "execution_count": 32,
   "metadata": {
    "collapsed": true
   },
   "outputs": [],
   "source": [
    "for i in att1:\n",
    "    ctr=0\n",
    "    for d in docp:\n",
    "        flag=0\n",
    "        for word in female_names:\n",
    "            for w2 in i:\n",
    "                if word in d:\n",
    "                    if w2 in d:\n",
    "                        flag=1\n",
    "        \n",
    "        if flag==1:\n",
    "            ctr=ctr+1\n",
    "    fem_support.append((ctr/total)*100)"
   ]
  },
  {
   "cell_type": "code",
   "execution_count": null,
   "metadata": {
    "collapsed": true
   },
   "outputs": [],
   "source": []
  },
  {
   "cell_type": "code",
   "execution_count": 33,
   "metadata": {
    "collapsed": true
   },
   "outputs": [],
   "source": [
    "for i in att1:\n",
    "    ctr=0\n",
    "    for d in docp:\n",
    "        flag=0\n",
    "        for word in male_names:\n",
    "            for w2 in i:\n",
    "                if word in d:\n",
    "                    if w2 in d:\n",
    "                        flag=1\n",
    "        \n",
    "        if flag==1:\n",
    "            ctr=ctr+1\n",
    "    male_support.append((ctr/total)*100)"
   ]
  },
  {
   "cell_type": "code",
   "execution_count": 34,
   "metadata": {
    "collapsed": true
   },
   "outputs": [],
   "source": [
    "for i in att1:\n",
    "    ctr=0\n",
    "    for d in docp:\n",
    "        flag=0\n",
    "        for word in female_names:\n",
    "            for w2 in i:\n",
    "                if word in d:\n",
    "                    if w2 in d:\n",
    "                        flag=1\n",
    "        \n",
    "        if flag==1:\n",
    "            ctr=ctr+1\n",
    "    fem_confidence.append((ctr/fctr)*100)"
   ]
  },
  {
   "cell_type": "code",
   "execution_count": 35,
   "metadata": {
    "collapsed": true
   },
   "outputs": [],
   "source": [
    "for i in att1:\n",
    "    ctr=0\n",
    "    for d in docp:\n",
    "        flag=0\n",
    "        for word in male_names:\n",
    "            for w2 in i:\n",
    "                if word in d:\n",
    "                    if w2 in d:\n",
    "                        flag=1\n",
    "        \n",
    "        if flag==1:\n",
    "            ctr=ctr+1\n",
    "    male_confidence.append((ctr/mctr)*100)"
   ]
  },
  {
   "cell_type": "code",
   "execution_count": 37,
   "metadata": {},
   "outputs": [],
   "source": [
    "support=pd.DataFrame({'attribute':att,'female_names':fem_support,'male_names':male_support})"
   ]
  },
  {
   "cell_type": "code",
   "execution_count": 38,
   "metadata": {},
   "outputs": [
    {
     "data": {
      "text/html": [
       "<div>\n",
       "<style scoped>\n",
       "    .dataframe tbody tr th:only-of-type {\n",
       "        vertical-align: middle;\n",
       "    }\n",
       "\n",
       "    .dataframe tbody tr th {\n",
       "        vertical-align: top;\n",
       "    }\n",
       "\n",
       "    .dataframe thead th {\n",
       "        text-align: right;\n",
       "    }\n",
       "</style>\n",
       "<table border=\"1\" class=\"dataframe\">\n",
       "  <thead>\n",
       "    <tr style=\"text-align: right;\">\n",
       "      <th></th>\n",
       "      <th>attribute</th>\n",
       "      <th>female_names</th>\n",
       "      <th>male_names</th>\n",
       "    </tr>\n",
       "  </thead>\n",
       "  <tbody>\n",
       "    <tr>\n",
       "      <th>0</th>\n",
       "      <td>color</td>\n",
       "      <td>3.666997</td>\n",
       "      <td>2.940205</td>\n",
       "    </tr>\n",
       "    <tr>\n",
       "      <th>1</th>\n",
       "      <td>softAttitude</td>\n",
       "      <td>3.270565</td>\n",
       "      <td>3.766105</td>\n",
       "    </tr>\n",
       "    <tr>\n",
       "      <th>2</th>\n",
       "      <td>strongAttitude</td>\n",
       "      <td>0.825900</td>\n",
       "      <td>1.024116</td>\n",
       "    </tr>\n",
       "    <tr>\n",
       "      <th>3</th>\n",
       "      <td>cars</td>\n",
       "      <td>1.123224</td>\n",
       "      <td>1.057152</td>\n",
       "    </tr>\n",
       "    <tr>\n",
       "      <th>4</th>\n",
       "      <td>clothes</td>\n",
       "      <td>1.189296</td>\n",
       "      <td>1.519656</td>\n",
       "    </tr>\n",
       "    <tr>\n",
       "      <th>5</th>\n",
       "      <td>food</td>\n",
       "      <td>0.660720</td>\n",
       "      <td>0.726792</td>\n",
       "    </tr>\n",
       "    <tr>\n",
       "      <th>6</th>\n",
       "      <td>alcohol</td>\n",
       "      <td>2.180377</td>\n",
       "      <td>2.411629</td>\n",
       "    </tr>\n",
       "    <tr>\n",
       "      <th>7</th>\n",
       "      <td>bodylooks</td>\n",
       "      <td>2.973241</td>\n",
       "      <td>3.633961</td>\n",
       "    </tr>\n",
       "  </tbody>\n",
       "</table>\n",
       "</div>"
      ],
      "text/plain": [
       "        attribute  female_names  male_names\n",
       "0           color      3.666997    2.940205\n",
       "1    softAttitude      3.270565    3.766105\n",
       "2  strongAttitude      0.825900    1.024116\n",
       "3            cars      1.123224    1.057152\n",
       "4         clothes      1.189296    1.519656\n",
       "5            food      0.660720    0.726792\n",
       "6         alcohol      2.180377    2.411629\n",
       "7       bodylooks      2.973241    3.633961"
      ]
     },
     "execution_count": 38,
     "metadata": {},
     "output_type": "execute_result"
    }
   ],
   "source": [
    "support"
   ]
  },
  {
   "cell_type": "code",
   "execution_count": 39,
   "metadata": {
    "collapsed": true
   },
   "outputs": [],
   "source": [
    "confidence=pd.DataFrame({'attribute':att,'female_names':fem_confidence,'male_names':male_confidence})"
   ]
  },
  {
   "cell_type": "code",
   "execution_count": 40,
   "metadata": {},
   "outputs": [
    {
     "data": {
      "text/html": [
       "<div>\n",
       "<style scoped>\n",
       "    .dataframe tbody tr th:only-of-type {\n",
       "        vertical-align: middle;\n",
       "    }\n",
       "\n",
       "    .dataframe tbody tr th {\n",
       "        vertical-align: top;\n",
       "    }\n",
       "\n",
       "    .dataframe thead th {\n",
       "        text-align: right;\n",
       "    }\n",
       "</style>\n",
       "<table border=\"1\" class=\"dataframe\">\n",
       "  <thead>\n",
       "    <tr style=\"text-align: right;\">\n",
       "      <th></th>\n",
       "      <th>attribute</th>\n",
       "      <th>female_names</th>\n",
       "      <th>male_names</th>\n",
       "    </tr>\n",
       "  </thead>\n",
       "  <tbody>\n",
       "    <tr>\n",
       "      <th>0</th>\n",
       "      <td>color</td>\n",
       "      <td>35.922330</td>\n",
       "      <td>20.892019</td>\n",
       "    </tr>\n",
       "    <tr>\n",
       "      <th>1</th>\n",
       "      <td>softAttitude</td>\n",
       "      <td>32.038835</td>\n",
       "      <td>26.760563</td>\n",
       "    </tr>\n",
       "    <tr>\n",
       "      <th>2</th>\n",
       "      <td>strongAttitude</td>\n",
       "      <td>8.090615</td>\n",
       "      <td>7.276995</td>\n",
       "    </tr>\n",
       "    <tr>\n",
       "      <th>3</th>\n",
       "      <td>cars</td>\n",
       "      <td>11.003236</td>\n",
       "      <td>7.511737</td>\n",
       "    </tr>\n",
       "    <tr>\n",
       "      <th>4</th>\n",
       "      <td>clothes</td>\n",
       "      <td>11.650485</td>\n",
       "      <td>10.798122</td>\n",
       "    </tr>\n",
       "    <tr>\n",
       "      <th>5</th>\n",
       "      <td>food</td>\n",
       "      <td>6.472492</td>\n",
       "      <td>5.164319</td>\n",
       "    </tr>\n",
       "    <tr>\n",
       "      <th>6</th>\n",
       "      <td>alcohol</td>\n",
       "      <td>21.359223</td>\n",
       "      <td>17.136150</td>\n",
       "    </tr>\n",
       "    <tr>\n",
       "      <th>7</th>\n",
       "      <td>bodylooks</td>\n",
       "      <td>29.126214</td>\n",
       "      <td>25.821596</td>\n",
       "    </tr>\n",
       "  </tbody>\n",
       "</table>\n",
       "</div>"
      ],
      "text/plain": [
       "        attribute  female_names  male_names\n",
       "0           color     35.922330   20.892019\n",
       "1    softAttitude     32.038835   26.760563\n",
       "2  strongAttitude      8.090615    7.276995\n",
       "3            cars     11.003236    7.511737\n",
       "4         clothes     11.650485   10.798122\n",
       "5            food      6.472492    5.164319\n",
       "6         alcohol     21.359223   17.136150\n",
       "7       bodylooks     29.126214   25.821596"
      ]
     },
     "execution_count": 40,
     "metadata": {},
     "output_type": "execute_result"
    }
   ],
   "source": [
    "confidence"
   ]
  },
  {
   "cell_type": "code",
   "execution_count": null,
   "metadata": {
    "collapsed": true
   },
   "outputs": [],
   "source": []
  },
  {
   "cell_type": "code",
   "execution_count": null,
   "metadata": {
    "collapsed": true
   },
   "outputs": [],
   "source": [
    "# support confidence on sentences"
   ]
  },
  {
   "cell_type": "code",
   "execution_count": 41,
   "metadata": {
    "collapsed": true
   },
   "outputs": [],
   "source": [
    "doc_sent=[]\n",
    "for i in range(data.shape[0]):\n",
    "    doc_sent.append(re.sub('[^a-zA-z\\s]','',data['songLyrics'][i].lower()).split(\"\\n\"))\n",
    "nonrep_doc=[]\n",
    "for song in doc_sent:\n",
    "    d=[]\n",
    "    for line in song:\n",
    "        if line not in d:\n",
    "            d.append(line)\n",
    "    nonrep_doc.append(d)"
   ]
  },
  {
   "cell_type": "code",
   "execution_count": 42,
   "metadata": {
    "collapsed": true
   },
   "outputs": [],
   "source": [
    "doca=[]\n",
    "for i in nonrep_doc:\n",
    "    for j in i:\n",
    "        if j =='':\n",
    "            continue\n",
    "        doca.append(nltk.word_tokenize(j))"
   ]
  },
  {
   "cell_type": "code",
   "execution_count": 43,
   "metadata": {},
   "outputs": [
    {
     "data": {
      "text/plain": [
       "['sun', 'main', 'hoon', 'thoda', 'sanki']"
      ]
     },
     "execution_count": 43,
     "metadata": {},
     "output_type": "execute_result"
    }
   ],
   "source": [
    "doca[0]"
   ]
  },
  {
   "cell_type": "code",
   "execution_count": 44,
   "metadata": {
    "collapsed": true
   },
   "outputs": [],
   "source": [
    "doc1=[]\n",
    "\n",
    "for l in range(len(doca)):\n",
    "    k=[]\n",
    "    for i in range(len(doca[l])):\n",
    "        if doca[l][i] in vocab_d:\n",
    "            k.append(vocab_d[doca[l][i]])\n",
    "        else:\n",
    "            k.append(doca[l][i])\n",
    "    doc1.append(k)"
   ]
  },
  {
   "cell_type": "code",
   "execution_count": null,
   "metadata": {
    "collapsed": true
   },
   "outputs": [],
   "source": []
  },
  {
   "cell_type": "code",
   "execution_count": 45,
   "metadata": {},
   "outputs": [
    {
     "data": {
      "text/plain": [
       "(660, 544)"
      ]
     },
     "execution_count": 45,
     "metadata": {},
     "output_type": "execute_result"
    }
   ],
   "source": [
    "mctr=0\n",
    "for d in doc1:\n",
    "    flag=0\n",
    "    for word in male_names:\n",
    "        if word in d:\n",
    "            flag=1\n",
    "    \n",
    "    if flag==1:\n",
    "        mctr=mctr+1\n",
    "fctr=0\n",
    "for d in doc1:\n",
    "    flag=0\n",
    "    for word in female_names:\n",
    "        if word in d:\n",
    "            flag=1\n",
    "    \n",
    "    if flag==1:\n",
    "        fctr=fctr+1\n",
    "mctr,fctr"
   ]
  },
  {
   "cell_type": "code",
   "execution_count": 46,
   "metadata": {
    "collapsed": true
   },
   "outputs": [],
   "source": [
    "total=len(doc1)"
   ]
  },
  {
   "cell_type": "code",
   "execution_count": 47,
   "metadata": {},
   "outputs": [
    {
     "data": {
      "text/plain": [
       "3"
      ]
     },
     "execution_count": 47,
     "metadata": {},
     "output_type": "execute_result"
    }
   ],
   "source": [
    "ctr=0\n",
    "for d in doc1:\n",
    "    flag=0\n",
    "    for word in female_names:\n",
    "        for w2 in alcohol:\n",
    "            if word in d:\n",
    "                if w2 in d:\n",
    "                    flag=1\n",
    "        \n",
    "    if flag==1:\n",
    "        ctr=ctr+1\n",
    "        \n",
    "ctr"
   ]
  },
  {
   "cell_type": "code",
   "execution_count": 48,
   "metadata": {
    "collapsed": true
   },
   "outputs": [],
   "source": [
    "att=['color','softAttitude','strongAttitude','cars','clothes','food','alcohol','bodylooks']\n",
    "fem_support=[]\n",
    "male_support=[]\n",
    "fem_confidence=[]\n",
    "male_confidence=[]"
   ]
  },
  {
   "cell_type": "code",
   "execution_count": 49,
   "metadata": {
    "collapsed": true
   },
   "outputs": [],
   "source": [
    "att1=[color,softAttitude,strongAttitude,cars, clothes,food,alcohol,bodylooks]"
   ]
  },
  {
   "cell_type": "code",
   "execution_count": null,
   "metadata": {
    "collapsed": true
   },
   "outputs": [],
   "source": []
  },
  {
   "cell_type": "code",
   "execution_count": 50,
   "metadata": {
    "collapsed": true
   },
   "outputs": [],
   "source": [
    "for i in att1:\n",
    "    ctr=0\n",
    "    for d in doc1:\n",
    "        flag=0\n",
    "        for word in female_names:\n",
    "            for w2 in i:\n",
    "                if word in d:\n",
    "                    if w2 in d:\n",
    "                        flag=1\n",
    "        \n",
    "        if flag==1:\n",
    "            ctr=ctr+1\n",
    "    fem_support.append((ctr/total)*100)"
   ]
  },
  {
   "cell_type": "code",
   "execution_count": 51,
   "metadata": {
    "collapsed": true
   },
   "outputs": [],
   "source": [
    "for i in att1:\n",
    "    ctr=0\n",
    "    for d in doc1:\n",
    "        flag=0\n",
    "        for word in male_names:\n",
    "            for w2 in i:\n",
    "                if word in d:\n",
    "                    if w2 in d:\n",
    "                        flag=1\n",
    "        \n",
    "        if flag==1:\n",
    "            ctr=ctr+1\n",
    "    male_support.append((ctr/total)*100)"
   ]
  },
  {
   "cell_type": "code",
   "execution_count": null,
   "metadata": {
    "collapsed": true
   },
   "outputs": [],
   "source": []
  },
  {
   "cell_type": "code",
   "execution_count": 52,
   "metadata": {
    "collapsed": true
   },
   "outputs": [],
   "source": [
    "for i in att1:\n",
    "    ctr=0\n",
    "    for d in doc1:\n",
    "        flag=0\n",
    "        for word in female_names:\n",
    "            for w2 in i:\n",
    "                if word in d:\n",
    "                    if w2 in d:\n",
    "                        flag=1\n",
    "        \n",
    "        if flag==1:\n",
    "            ctr=ctr+1\n",
    "    fem_confidence.append((ctr/fctr)*100)"
   ]
  },
  {
   "cell_type": "code",
   "execution_count": 53,
   "metadata": {
    "collapsed": true
   },
   "outputs": [],
   "source": [
    "for i in att1:\n",
    "    ctr=0\n",
    "    for d in doc1:\n",
    "        flag=0\n",
    "        for word in male_names:\n",
    "            for w2 in i:\n",
    "                if word in d:\n",
    "                    if w2 in d:\n",
    "                        flag=1\n",
    "        \n",
    "        if flag==1:\n",
    "            ctr=ctr+1\n",
    "    male_confidence.append((ctr/mctr)*100)"
   ]
  },
  {
   "cell_type": "code",
   "execution_count": 54,
   "metadata": {
    "collapsed": true
   },
   "outputs": [],
   "source": [
    "support1=pd.DataFrame({'attribute':att,'female_names':fem_support,'male_names':male_support})"
   ]
  },
  {
   "cell_type": "code",
   "execution_count": 55,
   "metadata": {},
   "outputs": [
    {
     "data": {
      "text/html": [
       "<div>\n",
       "<style scoped>\n",
       "    .dataframe tbody tr th:only-of-type {\n",
       "        vertical-align: middle;\n",
       "    }\n",
       "\n",
       "    .dataframe tbody tr th {\n",
       "        vertical-align: top;\n",
       "    }\n",
       "\n",
       "    .dataframe thead th {\n",
       "        text-align: right;\n",
       "    }\n",
       "</style>\n",
       "<table border=\"1\" class=\"dataframe\">\n",
       "  <thead>\n",
       "    <tr style=\"text-align: right;\">\n",
       "      <th></th>\n",
       "      <th>attribute</th>\n",
       "      <th>female_names</th>\n",
       "      <th>male_names</th>\n",
       "    </tr>\n",
       "  </thead>\n",
       "  <tbody>\n",
       "    <tr>\n",
       "      <th>0</th>\n",
       "      <td>color</td>\n",
       "      <td>0.100368</td>\n",
       "      <td>0.005425</td>\n",
       "    </tr>\n",
       "    <tr>\n",
       "      <th>1</th>\n",
       "      <td>softAttitude</td>\n",
       "      <td>0.032552</td>\n",
       "      <td>0.012207</td>\n",
       "    </tr>\n",
       "    <tr>\n",
       "      <th>2</th>\n",
       "      <td>strongAttitude</td>\n",
       "      <td>0.001356</td>\n",
       "      <td>0.009494</td>\n",
       "    </tr>\n",
       "    <tr>\n",
       "      <th>3</th>\n",
       "      <td>cars</td>\n",
       "      <td>0.000000</td>\n",
       "      <td>0.000000</td>\n",
       "    </tr>\n",
       "    <tr>\n",
       "      <th>4</th>\n",
       "      <td>clothes</td>\n",
       "      <td>0.004069</td>\n",
       "      <td>0.005425</td>\n",
       "    </tr>\n",
       "    <tr>\n",
       "      <th>5</th>\n",
       "      <td>food</td>\n",
       "      <td>0.002713</td>\n",
       "      <td>0.000000</td>\n",
       "    </tr>\n",
       "    <tr>\n",
       "      <th>6</th>\n",
       "      <td>alcohol</td>\n",
       "      <td>0.004069</td>\n",
       "      <td>0.002713</td>\n",
       "    </tr>\n",
       "    <tr>\n",
       "      <th>7</th>\n",
       "      <td>bodylooks</td>\n",
       "      <td>0.005425</td>\n",
       "      <td>0.002713</td>\n",
       "    </tr>\n",
       "  </tbody>\n",
       "</table>\n",
       "</div>"
      ],
      "text/plain": [
       "        attribute  female_names  male_names\n",
       "0           color      0.100368    0.005425\n",
       "1    softAttitude      0.032552    0.012207\n",
       "2  strongAttitude      0.001356    0.009494\n",
       "3            cars      0.000000    0.000000\n",
       "4         clothes      0.004069    0.005425\n",
       "5            food      0.002713    0.000000\n",
       "6         alcohol      0.004069    0.002713\n",
       "7       bodylooks      0.005425    0.002713"
      ]
     },
     "execution_count": 55,
     "metadata": {},
     "output_type": "execute_result"
    }
   ],
   "source": [
    "support1"
   ]
  },
  {
   "cell_type": "code",
   "execution_count": null,
   "metadata": {
    "collapsed": true
   },
   "outputs": [],
   "source": []
  },
  {
   "cell_type": "code",
   "execution_count": 56,
   "metadata": {
    "collapsed": true
   },
   "outputs": [],
   "source": [
    "confidence1=pd.DataFrame({'attribute':att,'female_names':fem_confidence,'male_names':male_confidence})"
   ]
  },
  {
   "cell_type": "code",
   "execution_count": 57,
   "metadata": {},
   "outputs": [
    {
     "data": {
      "text/html": [
       "<div>\n",
       "<style scoped>\n",
       "    .dataframe tbody tr th:only-of-type {\n",
       "        vertical-align: middle;\n",
       "    }\n",
       "\n",
       "    .dataframe tbody tr th {\n",
       "        vertical-align: top;\n",
       "    }\n",
       "\n",
       "    .dataframe thead th {\n",
       "        text-align: right;\n",
       "    }\n",
       "</style>\n",
       "<table border=\"1\" class=\"dataframe\">\n",
       "  <thead>\n",
       "    <tr style=\"text-align: right;\">\n",
       "      <th></th>\n",
       "      <th>attribute</th>\n",
       "      <th>female_names</th>\n",
       "      <th>male_names</th>\n",
       "    </tr>\n",
       "  </thead>\n",
       "  <tbody>\n",
       "    <tr>\n",
       "      <th>0</th>\n",
       "      <td>color</td>\n",
       "      <td>13.602941</td>\n",
       "      <td>0.606061</td>\n",
       "    </tr>\n",
       "    <tr>\n",
       "      <th>1</th>\n",
       "      <td>softAttitude</td>\n",
       "      <td>4.411765</td>\n",
       "      <td>1.363636</td>\n",
       "    </tr>\n",
       "    <tr>\n",
       "      <th>2</th>\n",
       "      <td>strongAttitude</td>\n",
       "      <td>0.183824</td>\n",
       "      <td>1.060606</td>\n",
       "    </tr>\n",
       "    <tr>\n",
       "      <th>3</th>\n",
       "      <td>cars</td>\n",
       "      <td>0.000000</td>\n",
       "      <td>0.000000</td>\n",
       "    </tr>\n",
       "    <tr>\n",
       "      <th>4</th>\n",
       "      <td>clothes</td>\n",
       "      <td>0.551471</td>\n",
       "      <td>0.606061</td>\n",
       "    </tr>\n",
       "    <tr>\n",
       "      <th>5</th>\n",
       "      <td>food</td>\n",
       "      <td>0.367647</td>\n",
       "      <td>0.000000</td>\n",
       "    </tr>\n",
       "    <tr>\n",
       "      <th>6</th>\n",
       "      <td>alcohol</td>\n",
       "      <td>0.551471</td>\n",
       "      <td>0.303030</td>\n",
       "    </tr>\n",
       "    <tr>\n",
       "      <th>7</th>\n",
       "      <td>bodylooks</td>\n",
       "      <td>0.735294</td>\n",
       "      <td>0.303030</td>\n",
       "    </tr>\n",
       "  </tbody>\n",
       "</table>\n",
       "</div>"
      ],
      "text/plain": [
       "        attribute  female_names  male_names\n",
       "0           color     13.602941    0.606061\n",
       "1    softAttitude      4.411765    1.363636\n",
       "2  strongAttitude      0.183824    1.060606\n",
       "3            cars      0.000000    0.000000\n",
       "4         clothes      0.551471    0.606061\n",
       "5            food      0.367647    0.000000\n",
       "6         alcohol      0.551471    0.303030\n",
       "7       bodylooks      0.735294    0.303030"
      ]
     },
     "execution_count": 57,
     "metadata": {},
     "output_type": "execute_result"
    }
   ],
   "source": [
    "confidence1"
   ]
  },
  {
   "cell_type": "code",
   "execution_count": null,
   "metadata": {
    "collapsed": true
   },
   "outputs": [],
   "source": []
  },
  {
   "cell_type": "code",
   "execution_count": 58,
   "metadata": {
    "collapsed": true
   },
   "outputs": [],
   "source": [
    "# support confidence paragraph wise"
   ]
  },
  {
   "cell_type": "code",
   "execution_count": 59,
   "metadata": {
    "collapsed": true
   },
   "outputs": [],
   "source": [
    "doc2=[]\n",
    "for i in range(data.shape[0]):\n",
    "    doc2.append(re.sub('[^a-zA-z\\s]','',data['songLyrics'][i].lower()).split(\"\\n\\n\"))\n",
    "doc22=[]\n",
    "for song in doc2:\n",
    "    d=[]\n",
    "    for line in song:\n",
    "        if line not in d:\n",
    "            d.append(line)\n",
    "    doc22.append(d)"
   ]
  },
  {
   "cell_type": "code",
   "execution_count": 60,
   "metadata": {
    "collapsed": true
   },
   "outputs": [],
   "source": [
    "doc222=[]\n",
    "for i in doc22:\n",
    "    for j in i:\n",
    "        doc222.append(j.split('\\n'))"
   ]
  },
  {
   "cell_type": "code",
   "execution_count": 61,
   "metadata": {
    "collapsed": true
   },
   "outputs": [],
   "source": [
    "doca=[]\n",
    "for i in range(len(doc222)):\n",
    "    doca.append(nltk.word_tokenize(\" \".join(doc222[i])))"
   ]
  },
  {
   "cell_type": "code",
   "execution_count": 62,
   "metadata": {
    "collapsed": true
   },
   "outputs": [],
   "source": [
    "doc1=[]\n",
    "\n",
    "for l in range(len(doca)):\n",
    "    k=[]\n",
    "    for i in range(len(doca[l])):\n",
    "        if doca[l][i] in vocab_d:\n",
    "            k.append(vocab_d[doca[l][i]])\n",
    "        else:\n",
    "            k.append(doca[l][i])\n",
    "    doc1.append(k)"
   ]
  },
  {
   "cell_type": "code",
   "execution_count": 63,
   "metadata": {},
   "outputs": [
    {
     "data": {
      "text/plain": [
       "(462, 350)"
      ]
     },
     "execution_count": 63,
     "metadata": {},
     "output_type": "execute_result"
    }
   ],
   "source": [
    "mctr=0\n",
    "for d in doc1:\n",
    "    flag=0\n",
    "    for word in male_names:\n",
    "        if word in d:\n",
    "            flag=1\n",
    "    \n",
    "    if flag==1:\n",
    "        mctr=mctr+1\n",
    "fctr=0\n",
    "for d in doc1:\n",
    "    flag=0\n",
    "    for word in female_names:\n",
    "        if word in d:\n",
    "            flag=1\n",
    "    \n",
    "    if flag==1:\n",
    "        fctr=fctr+1\n",
    "mctr,fctr"
   ]
  },
  {
   "cell_type": "code",
   "execution_count": 64,
   "metadata": {
    "collapsed": true
   },
   "outputs": [],
   "source": [
    "total=len(doc1)"
   ]
  },
  {
   "cell_type": "code",
   "execution_count": 65,
   "metadata": {},
   "outputs": [
    {
     "data": {
      "text/plain": [
       "59"
      ]
     },
     "execution_count": 65,
     "metadata": {},
     "output_type": "execute_result"
    }
   ],
   "source": [
    "ctr=0\n",
    "for d in doc1:\n",
    "    flag=0\n",
    "    for word in female_names:\n",
    "        for w2 in alcohol:\n",
    "            if word in d:\n",
    "                if w2 in d:\n",
    "                    flag=1\n",
    "        \n",
    "    if flag==1:\n",
    "        ctr=ctr+1\n",
    "        \n",
    "ctr"
   ]
  },
  {
   "cell_type": "code",
   "execution_count": 66,
   "metadata": {
    "collapsed": true
   },
   "outputs": [],
   "source": [
    "att=['color','softAttitude','strongAttitude','cars','clothes','food','alcohol','bodylooks']\n",
    "fem_support=[]\n",
    "male_support=[]\n",
    "fem_confidence=[]\n",
    "male_confidence=[]\n",
    "att1=[color,softAttitude,strongAttitude,cars, clothes,food,alcohol,bodylooks]"
   ]
  },
  {
   "cell_type": "code",
   "execution_count": 67,
   "metadata": {
    "collapsed": true
   },
   "outputs": [],
   "source": [
    "for i in att1:\n",
    "    ctr=0\n",
    "    for d in doc1:\n",
    "        flag=0\n",
    "        for word in female_names:\n",
    "            for w2 in i:\n",
    "                if word in d:\n",
    "                    if w2 in d:\n",
    "                        flag=1\n",
    "        \n",
    "        if flag==1:\n",
    "            ctr=ctr+1\n",
    "    fem_support.append((ctr/total)*100)"
   ]
  },
  {
   "cell_type": "code",
   "execution_count": 68,
   "metadata": {
    "collapsed": true
   },
   "outputs": [],
   "source": [
    "for i in att1:\n",
    "    ctr=0\n",
    "    for d in doc1:\n",
    "        flag=0\n",
    "        for word in male_names:\n",
    "            for w2 in i:\n",
    "                if word in d:\n",
    "                    if w2 in d:\n",
    "                        flag=1\n",
    "        \n",
    "        if flag==1:\n",
    "            ctr=ctr+1\n",
    "    male_support.append((ctr/total)*100)"
   ]
  },
  {
   "cell_type": "code",
   "execution_count": 69,
   "metadata": {
    "collapsed": true
   },
   "outputs": [],
   "source": [
    "for i in att1:\n",
    "    ctr=0\n",
    "    for d in doc1:\n",
    "        flag=0\n",
    "        for word in female_names:\n",
    "            for w2 in i:\n",
    "                if word in d:\n",
    "                    if w2 in d:\n",
    "                        flag=1\n",
    "        \n",
    "        if flag==1:\n",
    "            ctr=ctr+1\n",
    "    fem_confidence.append((ctr/fctr)*100)"
   ]
  },
  {
   "cell_type": "code",
   "execution_count": 70,
   "metadata": {
    "collapsed": true
   },
   "outputs": [],
   "source": [
    "for i in att1:\n",
    "    ctr=0\n",
    "    for d in doc1:\n",
    "        flag=0\n",
    "        for word in male_names:\n",
    "            for w2 in i:\n",
    "                if word in d:\n",
    "                    if w2 in d:\n",
    "                        flag=1\n",
    "        \n",
    "        if flag==1:\n",
    "            ctr=ctr+1\n",
    "    male_confidence.append((ctr/mctr)*100)"
   ]
  },
  {
   "cell_type": "code",
   "execution_count": 71,
   "metadata": {
    "collapsed": true
   },
   "outputs": [],
   "source": [
    "support1=pd.DataFrame({'attribute':att,'female_names':fem_support,'male_names':male_support})"
   ]
  },
  {
   "cell_type": "code",
   "execution_count": 72,
   "metadata": {},
   "outputs": [
    {
     "data": {
      "text/html": [
       "<div>\n",
       "<style scoped>\n",
       "    .dataframe tbody tr th:only-of-type {\n",
       "        vertical-align: middle;\n",
       "    }\n",
       "\n",
       "    .dataframe tbody tr th {\n",
       "        vertical-align: top;\n",
       "    }\n",
       "\n",
       "    .dataframe thead th {\n",
       "        text-align: right;\n",
       "    }\n",
       "</style>\n",
       "<table border=\"1\" class=\"dataframe\">\n",
       "  <thead>\n",
       "    <tr style=\"text-align: right;\">\n",
       "      <th></th>\n",
       "      <th>attribute</th>\n",
       "      <th>female_names</th>\n",
       "      <th>male_names</th>\n",
       "    </tr>\n",
       "  </thead>\n",
       "  <tbody>\n",
       "    <tr>\n",
       "      <th>0</th>\n",
       "      <td>color</td>\n",
       "      <td>1.657545</td>\n",
       "      <td>1.282252</td>\n",
       "    </tr>\n",
       "    <tr>\n",
       "      <th>1</th>\n",
       "      <td>softAttitude</td>\n",
       "      <td>1.391712</td>\n",
       "      <td>1.563722</td>\n",
       "    </tr>\n",
       "    <tr>\n",
       "      <th>2</th>\n",
       "      <td>strongAttitude</td>\n",
       "      <td>0.344019</td>\n",
       "      <td>0.469116</td>\n",
       "    </tr>\n",
       "    <tr>\n",
       "      <th>3</th>\n",
       "      <td>cars</td>\n",
       "      <td>0.531665</td>\n",
       "      <td>0.437842</td>\n",
       "    </tr>\n",
       "    <tr>\n",
       "      <th>4</th>\n",
       "      <td>clothes</td>\n",
       "      <td>0.531665</td>\n",
       "      <td>0.641126</td>\n",
       "    </tr>\n",
       "    <tr>\n",
       "      <th>5</th>\n",
       "      <td>food</td>\n",
       "      <td>0.281470</td>\n",
       "      <td>0.250195</td>\n",
       "    </tr>\n",
       "    <tr>\n",
       "      <th>6</th>\n",
       "      <td>alcohol</td>\n",
       "      <td>0.922596</td>\n",
       "      <td>0.938233</td>\n",
       "    </tr>\n",
       "    <tr>\n",
       "      <th>7</th>\n",
       "      <td>bodylooks</td>\n",
       "      <td>1.282252</td>\n",
       "      <td>1.501173</td>\n",
       "    </tr>\n",
       "  </tbody>\n",
       "</table>\n",
       "</div>"
      ],
      "text/plain": [
       "        attribute  female_names  male_names\n",
       "0           color      1.657545    1.282252\n",
       "1    softAttitude      1.391712    1.563722\n",
       "2  strongAttitude      0.344019    0.469116\n",
       "3            cars      0.531665    0.437842\n",
       "4         clothes      0.531665    0.641126\n",
       "5            food      0.281470    0.250195\n",
       "6         alcohol      0.922596    0.938233\n",
       "7       bodylooks      1.282252    1.501173"
      ]
     },
     "execution_count": 72,
     "metadata": {},
     "output_type": "execute_result"
    }
   ],
   "source": [
    "support1"
   ]
  },
  {
   "cell_type": "code",
   "execution_count": 73,
   "metadata": {
    "collapsed": true
   },
   "outputs": [],
   "source": [
    "confidence1=pd.DataFrame({'attribute':att,'female_names':fem_confidence,'male_names':male_confidence})"
   ]
  },
  {
   "cell_type": "code",
   "execution_count": 74,
   "metadata": {},
   "outputs": [
    {
     "data": {
      "text/html": [
       "<div>\n",
       "<style scoped>\n",
       "    .dataframe tbody tr th:only-of-type {\n",
       "        vertical-align: middle;\n",
       "    }\n",
       "\n",
       "    .dataframe tbody tr th {\n",
       "        vertical-align: top;\n",
       "    }\n",
       "\n",
       "    .dataframe thead th {\n",
       "        text-align: right;\n",
       "    }\n",
       "</style>\n",
       "<table border=\"1\" class=\"dataframe\">\n",
       "  <thead>\n",
       "    <tr style=\"text-align: right;\">\n",
       "      <th></th>\n",
       "      <th>attribute</th>\n",
       "      <th>female_names</th>\n",
       "      <th>male_names</th>\n",
       "    </tr>\n",
       "  </thead>\n",
       "  <tbody>\n",
       "    <tr>\n",
       "      <th>0</th>\n",
       "      <td>color</td>\n",
       "      <td>30.285714</td>\n",
       "      <td>17.748918</td>\n",
       "    </tr>\n",
       "    <tr>\n",
       "      <th>1</th>\n",
       "      <td>softAttitude</td>\n",
       "      <td>25.428571</td>\n",
       "      <td>21.645022</td>\n",
       "    </tr>\n",
       "    <tr>\n",
       "      <th>2</th>\n",
       "      <td>strongAttitude</td>\n",
       "      <td>6.285714</td>\n",
       "      <td>6.493506</td>\n",
       "    </tr>\n",
       "    <tr>\n",
       "      <th>3</th>\n",
       "      <td>cars</td>\n",
       "      <td>9.714286</td>\n",
       "      <td>6.060606</td>\n",
       "    </tr>\n",
       "    <tr>\n",
       "      <th>4</th>\n",
       "      <td>clothes</td>\n",
       "      <td>9.714286</td>\n",
       "      <td>8.874459</td>\n",
       "    </tr>\n",
       "    <tr>\n",
       "      <th>5</th>\n",
       "      <td>food</td>\n",
       "      <td>5.142857</td>\n",
       "      <td>3.463203</td>\n",
       "    </tr>\n",
       "    <tr>\n",
       "      <th>6</th>\n",
       "      <td>alcohol</td>\n",
       "      <td>16.857143</td>\n",
       "      <td>12.987013</td>\n",
       "    </tr>\n",
       "    <tr>\n",
       "      <th>7</th>\n",
       "      <td>bodylooks</td>\n",
       "      <td>23.428571</td>\n",
       "      <td>20.779221</td>\n",
       "    </tr>\n",
       "  </tbody>\n",
       "</table>\n",
       "</div>"
      ],
      "text/plain": [
       "        attribute  female_names  male_names\n",
       "0           color     30.285714   17.748918\n",
       "1    softAttitude     25.428571   21.645022\n",
       "2  strongAttitude      6.285714    6.493506\n",
       "3            cars      9.714286    6.060606\n",
       "4         clothes      9.714286    8.874459\n",
       "5            food      5.142857    3.463203\n",
       "6         alcohol     16.857143   12.987013\n",
       "7       bodylooks     23.428571   20.779221"
      ]
     },
     "execution_count": 74,
     "metadata": {},
     "output_type": "execute_result"
    }
   ],
   "source": [
    "confidence1"
   ]
  },
  {
   "cell_type": "code",
   "execution_count": null,
   "metadata": {
    "collapsed": true
   },
   "outputs": [],
   "source": []
  },
  {
   "cell_type": "code",
   "execution_count": null,
   "metadata": {
    "collapsed": true
   },
   "outputs": [],
   "source": []
  }
 ],
 "metadata": {
  "kernelspec": {
   "display_name": "Python 3",
   "language": "python",
   "name": "python3"
  },
  "language_info": {
   "codemirror_mode": {
    "name": "ipython",
    "version": 3
   },
   "file_extension": ".py",
   "mimetype": "text/x-python",
   "name": "python",
   "nbconvert_exporter": "python",
   "pygments_lexer": "ipython3",
   "version": "3.7.4"
  }
 },
 "nbformat": 4,
 "nbformat_minor": 2
}
